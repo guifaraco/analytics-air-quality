{
 "cells": [
  {
   "cell_type": "markdown",
   "metadata": {
    "vscode": {
     "languageId": "plaintext"
    }
   },
   "source": [
    "# 1. Mapa de Casos Encontrados"
   ]
  },
  {
   "cell_type": "markdown",
   "metadata": {},
   "source": [
    "## Importações"
   ]
  },
  {
   "cell_type": "code",
   "execution_count": 14,
   "metadata": {},
   "outputs": [],
   "source": [
    "import pandas as pd"
   ]
  },
  {
   "cell_type": "markdown",
   "metadata": {},
   "source": [
    "### Lê o ``.csv``"
   ]
  },
  {
   "cell_type": "markdown",
   "metadata": {},
   "source": [
    "Estações"
   ]
  },
  {
   "cell_type": "code",
   "execution_count": 15,
   "metadata": {},
   "outputs": [],
   "source": [
    "stations_cols=[\n",
    "    'Código IBGE do Município', 'Nome do Município', 'Estado', 'Nome da Estação', \n",
    "    'Latitude', 'Longitude'\n",
    "]\n",
    "        \n",
    "stations_df = pd.read_csv(\"../data/monitor_ar/EstacoesMonitorAr-Nov-2022.csv\", sep=\";\", usecols=stations_cols)"
   ]
  },
  {
   "cell_type": "markdown",
   "metadata": {},
   "source": [
    "### Ajusta o dataframe das ``Estações``"
   ]
  },
  {
   "cell_type": "code",
   "execution_count": 16,
   "metadata": {},
   "outputs": [],
   "source": [
    "stations_df.rename(columns = {\n",
    "    \"Código IBGE do Município\": \"Codigo_IBGE\",\n",
    "    \"Nome do Município\": \"Nome_Municipio\",\n",
    "    \"Nome da Estação\": \"Nome_Estacao\"\n",
    "}, inplace=True)"
   ]
  },
  {
   "cell_type": "markdown",
   "metadata": {},
   "source": [
    "Monitores"
   ]
  },
  {
   "cell_type": "code",
   "execution_count": 17,
   "metadata": {},
   "outputs": [
    {
     "name": "stderr",
     "output_type": "stream",
     "text": [
      "C:\\Users\\Aluno\\AppData\\Local\\Temp\\ipykernel_6744\\3767179714.py:4: DtypeWarning: Columns (6) have mixed types. Specify dtype option on import or set low_memory=False.\n",
      "  jul_nov_df = pd.read_csv(\"../data/monitor_ar/Dados_monitorar_jul_nov.csv\", encoding=\"latin\", sep=\";\", usecols=cols)\n"
     ]
    }
   ],
   "source": [
    "def get_monitors(cols=None):\n",
    "    jan_mar_df = pd.read_csv(\"../data/monitor_ar/Dados_monitorar_jan_mar.csv\", encoding=\"latin\", sep=\";\", usecols=cols)\n",
    "    abr_jun_df = pd.read_csv(\"../data/monitor_ar/Dados_monitorar_abr_jun.csv\", encoding=\"latin\", sep=\";\", usecols=cols)\n",
    "    jul_nov_df = pd.read_csv(\"../data/monitor_ar/Dados_monitorar_jul_nov.csv\", encoding=\"latin\", sep=\";\", usecols=cols)\n",
    "\n",
    "    # Junta as três tabelas de monitores\n",
    "    monitors_df = pd.concat([jan_mar_df, abr_jun_df, jul_nov_df], axis=0)\n",
    "\n",
    "    return monitors_df\n",
    "\n",
    "monitors_cols=[\n",
    "    'Nome do Município', 'Estado', 'Nome da Estação', 'Sigla', 'Concentracao', 'iqar', 'Data'\n",
    "]\n",
    "monitors_df = get_monitors(monitors_cols)"
   ]
  },
  {
   "cell_type": "markdown",
   "metadata": {},
   "source": [
    "### Ajusta o dataframe dos ``Monitores``"
   ]
  },
  {
   "cell_type": "code",
   "execution_count": 18,
   "metadata": {},
   "outputs": [
    {
     "data": {
      "text/plain": [
       "2300233"
      ]
     },
     "execution_count": 18,
     "metadata": {},
     "output_type": "execute_result"
    }
   ],
   "source": [
    "monitors_df.rename(columns = {\n",
    "    \"Nome do Município\": \"Nome_Municipio\",\n",
    "    \"Nome da Estação\": \"Nome_Estacao\"\n",
    "}, inplace=True)\n",
    "len(monitors_df)"
   ]
  },
  {
   "cell_type": "markdown",
   "metadata": {},
   "source": [
    "## 2. Realizar o ``.merge`` (``JOIN``) entre os Dataframes"
   ]
  },
  {
   "cell_type": "code",
   "execution_count": 31,
   "metadata": {},
   "outputs": [
    {
     "data": {
      "text/html": [
       "<div>\n",
       "<style scoped>\n",
       "    .dataframe tbody tr th:only-of-type {\n",
       "        vertical-align: middle;\n",
       "    }\n",
       "\n",
       "    .dataframe tbody tr th {\n",
       "        vertical-align: top;\n",
       "    }\n",
       "\n",
       "    .dataframe thead th {\n",
       "        text-align: right;\n",
       "    }\n",
       "</style>\n",
       "<table border=\"1\" class=\"dataframe\">\n",
       "  <thead>\n",
       "    <tr style=\"text-align: right;\">\n",
       "      <th></th>\n",
       "      <th>Nome_Municipio</th>\n",
       "      <th>Estado</th>\n",
       "      <th>Nome_Estacao</th>\n",
       "      <th>Sigla</th>\n",
       "      <th>Concentracao</th>\n",
       "      <th>iqar</th>\n",
       "      <th>Data</th>\n",
       "      <th>Codigo_IBGE</th>\n",
       "      <th>Latitude</th>\n",
       "      <th>Longitude</th>\n",
       "    </tr>\n",
       "  </thead>\n",
       "  <tbody>\n",
       "    <tr>\n",
       "      <th>0</th>\n",
       "      <td>Conceição do Mato Dentro</td>\n",
       "      <td>MG</td>\n",
       "      <td>Aeroporto CMD</td>\n",
       "      <td>MP10</td>\n",
       "      <td>42.000</td>\n",
       "      <td>26.4</td>\n",
       "      <td>31/03/2022</td>\n",
       "      <td>3117504</td>\n",
       "      <td>-19,021111</td>\n",
       "      <td>-43,434119</td>\n",
       "    </tr>\n",
       "    <tr>\n",
       "      <th>1</th>\n",
       "      <td>Conceição do Mato Dentro</td>\n",
       "      <td>MG</td>\n",
       "      <td>Aeroporto CMD</td>\n",
       "      <td>MP2,5</td>\n",
       "      <td>8.000</td>\n",
       "      <td>12.8</td>\n",
       "      <td>31/03/2022</td>\n",
       "      <td>3117504</td>\n",
       "      <td>-19,021111</td>\n",
       "      <td>-43,434119</td>\n",
       "    </tr>\n",
       "    <tr>\n",
       "      <th>2</th>\n",
       "      <td>Conceição do Mato Dentro</td>\n",
       "      <td>MG</td>\n",
       "      <td>Aeroporto CMD</td>\n",
       "      <td>PTS</td>\n",
       "      <td>63.000</td>\n",
       "      <td>NaN</td>\n",
       "      <td>31/03/2022</td>\n",
       "      <td>3117504</td>\n",
       "      <td>-19,021111</td>\n",
       "      <td>-43,434119</td>\n",
       "    </tr>\n",
       "    <tr>\n",
       "      <th>3</th>\n",
       "      <td>Barra Longa</td>\n",
       "      <td>MG</td>\n",
       "      <td>Barra Longa Centro</td>\n",
       "      <td>MP10</td>\n",
       "      <td>28.000</td>\n",
       "      <td>38.4</td>\n",
       "      <td>31/03/2022</td>\n",
       "      <td>3105707</td>\n",
       "      <td>-20,282569</td>\n",
       "      <td>-43,040342</td>\n",
       "    </tr>\n",
       "    <tr>\n",
       "      <th>4</th>\n",
       "      <td>Barra Longa</td>\n",
       "      <td>MG</td>\n",
       "      <td>Barra Longa Centro</td>\n",
       "      <td>MP2,5</td>\n",
       "      <td>10.000</td>\n",
       "      <td>19.2</td>\n",
       "      <td>31/03/2022</td>\n",
       "      <td>3105707</td>\n",
       "      <td>-20,282569</td>\n",
       "      <td>-43,040342</td>\n",
       "    </tr>\n",
       "    <tr>\n",
       "      <th>...</th>\n",
       "      <td>...</td>\n",
       "      <td>...</td>\n",
       "      <td>...</td>\n",
       "      <td>...</td>\n",
       "      <td>...</td>\n",
       "      <td>...</td>\n",
       "      <td>...</td>\n",
       "      <td>...</td>\n",
       "      <td>...</td>\n",
       "      <td>...</td>\n",
       "    </tr>\n",
       "    <tr>\n",
       "      <th>2300228</th>\n",
       "      <td>Rio de Janeiro</td>\n",
       "      <td>RJ</td>\n",
       "      <td>Tijuca</td>\n",
       "      <td>UR</td>\n",
       "      <td>84.730</td>\n",
       "      <td>NaN</td>\n",
       "      <td>01/07/2022</td>\n",
       "      <td>3304557</td>\n",
       "      <td>-22,924400</td>\n",
       "      <td>-43,232600</td>\n",
       "    </tr>\n",
       "    <tr>\n",
       "      <th>2300229</th>\n",
       "      <td>Rio de Janeiro</td>\n",
       "      <td>RJ</td>\n",
       "      <td>Tijuca</td>\n",
       "      <td>VV</td>\n",
       "      <td>0.060</td>\n",
       "      <td>NaN</td>\n",
       "      <td>01/07/2022</td>\n",
       "      <td>3304557</td>\n",
       "      <td>-22,924400</td>\n",
       "      <td>-43,232600</td>\n",
       "    </tr>\n",
       "    <tr>\n",
       "      <th>2300230</th>\n",
       "      <td>Triunfo</td>\n",
       "      <td>RS</td>\n",
       "      <td>TRIUNFO/POLO PETROQUÍMICO/MÓVEL</td>\n",
       "      <td>SO2</td>\n",
       "      <td>0.860</td>\n",
       "      <td>2.0</td>\n",
       "      <td>01/07/2022</td>\n",
       "      <td>4322004</td>\n",
       "      <td>-29,877300</td>\n",
       "      <td>-51,409100</td>\n",
       "    </tr>\n",
       "    <tr>\n",
       "      <th>2300231</th>\n",
       "      <td>Triunfo</td>\n",
       "      <td>RS</td>\n",
       "      <td>TRIUNFO/POLO PETROQUÍMICO/MÓVEL</td>\n",
       "      <td>NO2</td>\n",
       "      <td>9.720</td>\n",
       "      <td>2.0</td>\n",
       "      <td>01/07/2022</td>\n",
       "      <td>4322004</td>\n",
       "      <td>-29,877300</td>\n",
       "      <td>-51,409100</td>\n",
       "    </tr>\n",
       "    <tr>\n",
       "      <th>2300232</th>\n",
       "      <td>Triunfo</td>\n",
       "      <td>RS</td>\n",
       "      <td>TRIUNFO/POLO PETROQUÍMICO/MÓVEL</td>\n",
       "      <td>CO</td>\n",
       "      <td>0.020</td>\n",
       "      <td>0.0</td>\n",
       "      <td>01/07/2022</td>\n",
       "      <td>4322004</td>\n",
       "      <td>-29,877300</td>\n",
       "      <td>-51,409100</td>\n",
       "    </tr>\n",
       "  </tbody>\n",
       "</table>\n",
       "<p>2300233 rows × 10 columns</p>\n",
       "</div>"
      ],
      "text/plain": [
       "                   Nome_Municipio Estado                     Nome_Estacao  \\\n",
       "0        Conceição do Mato Dentro     MG                    Aeroporto CMD   \n",
       "1        Conceição do Mato Dentro     MG                    Aeroporto CMD   \n",
       "2        Conceição do Mato Dentro     MG                    Aeroporto CMD   \n",
       "3                     Barra Longa     MG               Barra Longa Centro   \n",
       "4                     Barra Longa     MG               Barra Longa Centro   \n",
       "...                           ...    ...                              ...   \n",
       "2300228            Rio de Janeiro     RJ                           Tijuca   \n",
       "2300229            Rio de Janeiro     RJ                           Tijuca   \n",
       "2300230                   Triunfo     RS  TRIUNFO/POLO PETROQUÍMICO/MÓVEL   \n",
       "2300231                   Triunfo     RS  TRIUNFO/POLO PETROQUÍMICO/MÓVEL   \n",
       "2300232                   Triunfo     RS  TRIUNFO/POLO PETROQUÍMICO/MÓVEL   \n",
       "\n",
       "         Sigla Concentracao  iqar        Data  Codigo_IBGE    Latitude  \\\n",
       "0         MP10       42.000  26.4  31/03/2022      3117504  -19,021111   \n",
       "1        MP2,5        8.000  12.8  31/03/2022      3117504  -19,021111   \n",
       "2          PTS       63.000   NaN  31/03/2022      3117504  -19,021111   \n",
       "3         MP10       28.000  38.4  31/03/2022      3105707  -20,282569   \n",
       "4        MP2,5       10.000  19.2  31/03/2022      3105707  -20,282569   \n",
       "...        ...          ...   ...         ...          ...         ...   \n",
       "2300228     UR       84.730   NaN  01/07/2022      3304557  -22,924400   \n",
       "2300229     VV        0.060   NaN  01/07/2022      3304557  -22,924400   \n",
       "2300230    SO2        0.860   2.0  01/07/2022      4322004  -29,877300   \n",
       "2300231    NO2        9.720   2.0  01/07/2022      4322004  -29,877300   \n",
       "2300232     CO        0.020   0.0  01/07/2022      4322004  -29,877300   \n",
       "\n",
       "          Longitude  \n",
       "0        -43,434119  \n",
       "1        -43,434119  \n",
       "2        -43,434119  \n",
       "3        -43,040342  \n",
       "4        -43,040342  \n",
       "...             ...  \n",
       "2300228  -43,232600  \n",
       "2300229  -43,232600  \n",
       "2300230  -51,409100  \n",
       "2300231  -51,409100  \n",
       "2300232  -51,409100  \n",
       "\n",
       "[2300233 rows x 10 columns]"
      ]
     },
     "execution_count": 31,
     "metadata": {},
     "output_type": "execute_result"
    }
   ],
   "source": [
    "df = pd.merge(\n",
    "    left=monitors_df,\n",
    "    right=stations_df,\n",
    "    on=['Nome_Municipio', 'Nome_Estacao', 'Estado'],\n",
    "    how='inner'\n",
    ")\n",
    "\n",
    "df"
   ]
  }
 ],
 "metadata": {
  "kernelspec": {
   "display_name": "air-quality",
   "language": "python",
   "name": "python3"
  },
  "language_info": {
   "codemirror_mode": {
    "name": "ipython",
    "version": 3
   },
   "file_extension": ".py",
   "mimetype": "text/x-python",
   "name": "python",
   "nbconvert_exporter": "python",
   "pygments_lexer": "ipython3",
   "version": "3.12.7"
  }
 },
 "nbformat": 4,
 "nbformat_minor": 2
}
