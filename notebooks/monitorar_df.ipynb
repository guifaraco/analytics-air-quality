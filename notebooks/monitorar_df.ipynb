{
 "cells": [
  {
   "cell_type": "markdown",
   "metadata": {
    "vscode": {
     "languageId": "plaintext"
    }
   },
   "source": [
    "# 1. Mapa de Casos Encontrados"
   ]
  },
  {
   "cell_type": "markdown",
   "metadata": {},
   "source": [
    "## Importações"
   ]
  },
  {
   "cell_type": "code",
   "execution_count": 14,
   "metadata": {},
   "outputs": [],
   "source": [
    "import pandas as pd"
   ]
  },
  {
   "cell_type": "markdown",
   "metadata": {},
   "source": [
    "### Lê o ``.csv``"
   ]
  },
  {
   "cell_type": "markdown",
   "metadata": {},
   "source": [
    "Estações"
   ]
  },
  {
   "cell_type": "code",
   "execution_count": 15,
   "metadata": {},
   "outputs": [],
   "source": [
    "stations_cols=[\n",
    "    'Código IBGE do Município', 'Nome do Município', 'Estado', 'Nome da Estação', \n",
    "    'Latitude', 'Longitude'\n",
    "]\n",
    "        \n",
    "stations_df = pd.read_csv(\"../data/monitor_ar/EstacoesMonitorAr-Nov-2022.csv\", sep=\";\", usecols=stations_cols)"
   ]
  },
  {
   "cell_type": "markdown",
   "metadata": {},
   "source": [
    "### Ajusta o dataframe das ``Estações``"
   ]
  },
  {
   "cell_type": "code",
   "execution_count": 16,
   "metadata": {},
   "outputs": [],
   "source": [
    "stations_df.rename(columns = {\n",
    "    \"Código IBGE do Município\": \"Codigo_IBGE\",\n",
    "    \"Nome do Município\": \"Nome_Municipio\",\n",
    "    \"Nome da Estação\": \"Nome_Estacao\"\n",
    "}, inplace=True)"
   ]
  },
  {
   "cell_type": "markdown",
   "metadata": {},
   "source": [
    "Monitores"
   ]
  },
  {
   "cell_type": "code",
   "execution_count": null,
   "metadata": {},
   "outputs": [],
   "source": [
    "def get_monitors(cols=None):\n",
    "    jan_mar_df = pd.read_csv(\"../data/monitor_ar/Dados_monitorar_jan_mar.csv\", encoding=\"latin\", sep=\";\", usecols=cols)\n",
    "    abr_jun_df = pd.read_csv(\"../data/monitor_ar/Dados_monitorar_abr_jun.csv\", encoding=\"latin\", sep=\";\", usecols=cols)\n",
    "    jul_nov_df = pd.read_csv(\"../data/monitor_ar/Dados_monitorar_jul_nov.csv\", encoding=\"latin\", sep=\";\", usecols=cols)\n",
    "\n",
    "    # Junta as três tabelas de monitores\n",
    "    monitors_df = pd.concat([jan_mar_df, abr_jun_df, jul_nov_df], axis=0)\n",
    "\n",
    "    return monitors_df\n",
    "\n",
    "monitors_cols=[\n",
    "    'Nome do Município', 'Estado', 'Nome da Estação', 'Sigla', 'Concentracao', 'iqar', 'Data'\n",
    "]\n",
    "monitors_df = get_monitors(monitors_cols)"
   ]
  },
  {
   "cell_type": "markdown",
   "metadata": {},
   "source": [
    "### Ajusta o dataframe dos ``Monitores``"
   ]
  },
  {
   "cell_type": "code",
   "execution_count": null,
   "metadata": {},
   "outputs": [],
   "source": [
    "monitors_df.rename(columns = {\n",
    "    \"Nome do Município\": \"Nome_Municipio\",\n",
    "    \"Nome da Estação\": \"Nome_Estacao\"\n",
    "}, inplace=True)\n",
    "len(monitors_df)"
   ]
  },
  {
   "cell_type": "markdown",
   "metadata": {},
   "source": [
    "## 2. Realizar o ``.merge`` (``JOIN``) entre os Dataframes"
   ]
  },
  {
   "cell_type": "code",
   "execution_count": null,
   "metadata": {},
   "outputs": [],
   "source": [
    "df = pd.merge(\n",
    "    left=monitors_df,\n",
    "    right=stations_df,\n",
    "    on=['Nome_Municipio', 'Nome_Estacao', 'Estado'],\n",
    "    how='inner'\n",
    ")\n",
    "\n",
    "df"
   ]
  }
 ],
 "metadata": {
  "kernelspec": {
   "display_name": "air-quality",
   "language": "python",
   "name": "python3"
  },
  "language_info": {
   "codemirror_mode": {
    "name": "ipython",
    "version": 3
   },
   "file_extension": ".py",
   "mimetype": "text/x-python",
   "name": "python",
   "nbconvert_exporter": "python",
   "pygments_lexer": "ipython3",
   "version": "3.12.7"
  }
 },
 "nbformat": 4,
 "nbformat_minor": 2
}
