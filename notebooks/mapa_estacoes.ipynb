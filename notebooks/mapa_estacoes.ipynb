{
 "cells": [
  {
   "cell_type": "markdown",
   "metadata": {
    "vscode": {
     "languageId": "plaintext"
    }
   },
   "source": [
    "# 1. Mapa de Casos Encontrados"
   ]
  },
  {
   "cell_type": "markdown",
   "metadata": {},
   "source": [
    "## Importações"
   ]
  },
  {
   "cell_type": "code",
   "execution_count": 2,
   "metadata": {},
   "outputs": [],
   "source": [
    "import pandas as pd\n",
    "import pydeck as pdk"
   ]
  },
  {
   "cell_type": "markdown",
   "metadata": {},
   "source": [
    "### Lê o ``.csv``"
   ]
  },
  {
   "cell_type": "markdown",
   "metadata": {},
   "source": [
    "Estações"
   ]
  },
  {
   "cell_type": "code",
   "execution_count": 4,
   "metadata": {},
   "outputs": [],
   "source": [
    "cols=[\n",
    "    'Nome do Município', 'Estado', 'Nome da Estação', 'Latitude', 'Longitude'\n",
    "]\n",
    "\n",
    "stations_df = pd.read_csv(\"../data/monitor_ar/EstacoesMonitorAr-Nov-2022.csv\", sep=\";\", usecols=cols)\n"
   ]
  },
  {
   "cell_type": "markdown",
   "metadata": {},
   "source": [
    "### Ajusta a variável ``coords``"
   ]
  },
  {
   "cell_type": "code",
   "execution_count": null,
   "metadata": {},
   "outputs": [],
   "source": [
    "stations = stations_df.rename(columns = {\n",
    "    \"Nome do Município\": \"Nome_Municipio\",\n",
    "    \"Nome da Estação\": \"Nome_Estacao\"\n",
    "})\n",
    "\n",
    "stations['Latitude'] = stations['Latitude'].str.replace(',','.')\n",
    "stations['Longitude'] = stations['Longitude'].str.replace(',','.')\n",
    "\n",
    "# Converte lat/lon para numérico, tratando erros\n",
    "stations['Latitude'] = pd.to_numeric(stations['Latitude'], errors='coerce')\n",
    "stations['Longitude'] = pd.to_numeric(stations['Longitude'], errors='coerce')\n",
    "stations.dropna(subset=['Latitude', 'Longitude'], inplace=True)\n",
    "\n",
    "stations"
   ]
  },
  {
   "cell_type": "markdown",
   "metadata": {},
   "source": [
    "## 2. Exibir o Mapa de Estações"
   ]
  },
  {
   "cell_type": "code",
   "execution_count": null,
   "metadata": {},
   "outputs": [],
   "source": [
    "def render_map(df):\n",
    "    layer = pdk.Layer(\n",
    "        \"ScatterplotLayer\",\n",
    "        df,\n",
    "        pickable=True,\n",
    "        opacity=0.7,\n",
    "        stroked=True,\n",
    "        filled=True,\n",
    "        radius_scale=6,\n",
    "        radius_min_pixels=5,\n",
    "        radius_max_pixels=5,\n",
    "        line_width_min_pixels=1,\n",
    "        get_position=\"coordinates\",\n",
    "        get_fill_color=[0, 158, 96],\n",
    "        get_line_color=[0, 0, 0],\n",
    "    )\n",
    "\n",
    "    view_state = pdk.ViewState(latitude=-23, longitude=-50, zoom=3.5, bearing=0, pitch=0)\n",
    "\n",
    "    html_tooltip = \"\"\"\n",
    "        <div style=\"\n",
    "            background-color: rgba(255, 255, 255, 0.9); \n",
    "            border: 1px solid #d1d1d1;\n",
    "            border-radius: 8px; \n",
    "            padding: 12px; \n",
    "            color: #333; \n",
    "            font-family: Arial, sans-serif;\n",
    "            box-shadow: 0 4px 8px rgba(0,0,0,0.1);\n",
    "            max-width: 300px;\n",
    "        \">\n",
    "            <div style=\"font-size: 16px; font-weight: bold; margin-bottom: 5px; color: #0050ff;\">\n",
    "                {nome_estacao}\n",
    "            </div>\n",
    "            \n",
    "            <div style=\"margin-bottom: 10px; font-size: 13px;\">\n",
    "                {nome_municipio} - {estado}\n",
    "            </div>\n",
    "\n",
    "            <hr style=\"border: none; border-top: 1px solid #eee; margin: 10px 0;\">\n",
    "        </div>\n",
    "        \"\"\"\n",
    "\n",
    "    r = pdk.Deck(\n",
    "        layers=[layer],\n",
    "        initial_view_state=view_state,\n",
    "        tooltip={\n",
    "            \"text\": \"Estação: {Nome_Estacao}\\n{Nome_Municipio} - {Estado}\"\n",
    "        },\n",
    "    )\n",
    "\n",
    "    r.picking_radius = 100\n",
    "\n",
    "    display(r)\n",
    "\n",
    "print(\"Colunas disponíveis no DataFrame 'stations':\")\n",
    "print(stations.columns.tolist())\n",
    "\n",
    "render_map(stations)"
   ]
  },
  {
   "cell_type": "code",
   "execution_count": null,
   "metadata": {},
   "outputs": [],
   "source": []
  }
 ],
 "metadata": {
  "kernelspec": {
   "display_name": "air-quality",
   "language": "python",
   "name": "python3"
  },
  "language_info": {
   "codemirror_mode": {
    "name": "ipython",
    "version": 3
   },
   "file_extension": ".py",
   "mimetype": "text/x-python",
   "name": "python",
   "nbconvert_exporter": "python",
   "pygments_lexer": "ipython3",
   "version": "3.12.7"
  }
 },
 "nbformat": 4,
 "nbformat_minor": 2
}
