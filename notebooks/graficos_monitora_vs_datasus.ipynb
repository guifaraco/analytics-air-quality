{
 "cells": [
  {
   "cell_type": "code",
   "execution_count": 45,
   "id": "eb0af6ba",
   "metadata": {},
   "outputs": [],
   "source": [
    "# Import das Bibliotecas\n",
    "from dotenv import load_dotenv\n",
    "import psycopg\n",
    "import os\n",
    "import pandas as pd\n",
    "import numpy as np\n",
    "import matplotlib.pyplot as plt\n",
    "import seaborn as sns\n",
    "import plotly.express as px\n",
    "import plotly.graph_objects as go"
   ]
  },
  {
   "cell_type": "code",
   "execution_count": 2,
   "id": "1fc0eb9a",
   "metadata": {},
   "outputs": [
    {
     "data": {
      "text/plain": [
       "True"
      ]
     },
     "execution_count": 2,
     "metadata": {},
     "output_type": "execute_result"
    }
   ],
   "source": [
    "# Executa a função para carregar as variáveis do arquivo .env no ambiente\n",
    "load_dotenv()"
   ]
  },
  {
   "cell_type": "code",
   "execution_count": 3,
   "id": "5177e571",
   "metadata": {},
   "outputs": [],
   "source": [
    "# Conexão com o banco de dados\n",
    "def get_db_connection():\n",
    "    \"\"\"Cria e retorna uma conexão com o banco de dados.\"\"\"\n",
    "    try:\n",
    "        conn = psycopg.connect(\n",
    "            host=\"localhost\",\n",
    "            dbname=os.getenv(\"DB_NAME\"),\n",
    "            user=os.getenv(\"DB_USER\"),\n",
    "            password=os.getenv(\"DB_PASSWORD\"),\n",
    "            port=os.getenv(\"DB_PORT\")\n",
    "        )\n",
    "        return conn\n",
    "    except Exception as e:\n",
    "        print(f\"Erro ao conectar ao banco de dados: {e}\")\n",
    "        raise e"
   ]
  },
  {
   "cell_type": "code",
   "execution_count": 28,
   "id": "d5f0cde7",
   "metadata": {},
   "outputs": [],
   "source": [
    "def converter_meses_para_portugues(df, coluna_mes):\n",
    "    \"\"\"\n",
    "    Converte uma coluna de meses (números ou strings) para nomes em português.\n",
    "    \n",
    "    Args:\n",
    "        df: DataFrame pandas.\n",
    "        coluna_mes: Nome da coluna com os meses (números 1-12 ou strings).\n",
    "    \n",
    "    Returns:\n",
    "        DataFrame com a coluna modificada e ordenada corretamente.\n",
    "    \"\"\"\n",
    "    # Mapeamentos\n",
    "    meses_de_numero = {\n",
    "        1: 'Janeiro',\n",
    "        2: 'Fevereiro',\n",
    "        3: 'Março',\n",
    "        4: 'Abril',\n",
    "        5: 'Maio',\n",
    "        6: 'Junho',\n",
    "        7: 'Julho',\n",
    "        8: 'Agosto',\n",
    "        9: 'Setembro',\n",
    "        10: 'Outubro',\n",
    "        11: 'Novembro',\n",
    "        12: 'Dezembro'\n",
    "    }\n",
    "    \n",
    "    meses_de_ingles = {\n",
    "        'January': 'Janeiro',\n",
    "        'February': 'Fevereiro',\n",
    "        'March': 'Março',\n",
    "        'April': 'Abril',\n",
    "        'May': 'Maio',\n",
    "        'June': 'Junho',\n",
    "        'July': 'Julho',\n",
    "        'August': 'Agosto',\n",
    "        'September': 'Setembro',\n",
    "        'October': 'Outubro',\n",
    "        'November': 'Novembro',\n",
    "        'December': 'Dezembro'\n",
    "    }\n",
    "    \n",
    "    # Verifica o tipo dos dados na coluna\n",
    "    sample_value = df[coluna_mes].iloc[0] if len(df) > 0 else None\n",
    "    \n",
    "    if sample_value is not None:\n",
    "        if isinstance(sample_value, (int, float)) and not pd.isna(sample_value):\n",
    "            # Se for numérico\n",
    "            df[coluna_mes] = df[coluna_mes].map(meses_de_numero)\n",
    "        elif isinstance(sample_value, str):\n",
    "            # Se for string, verifica se está em inglês\n",
    "            if sample_value in meses_de_ingles:\n",
    "                df[coluna_mes] = df[coluna_mes].map(meses_de_ingles)\n",
    "            # Se já estiver em português, não faz nada\n",
    "        else:\n",
    "            raise ValueError(\"Formato de mês não reconhecido. Use números (1-12) ou nomes em inglês.\")\n",
    "    \n",
    "    # Garante a ordem cronológica\n",
    "    ordem_meses = list(meses_de_numero.values())\n",
    "    df[coluna_mes] = pd.Categorical(\n",
    "        df[coluna_mes],\n",
    "        categories=ordem_meses,\n",
    "        ordered=True\n",
    "    )\n",
    "    \n",
    "    return df.sort_values(coluna_mes)"
   ]
  },
  {
   "cell_type": "code",
   "execution_count": 5,
   "id": "634361f8",
   "metadata": {},
   "outputs": [],
   "source": [
    "def execute_query(query, conn, cursor, return_df = True):\n",
    "    conn.rollback() # Reinicia a transação (caso tenha alguma transação que tenha dado errado)\n",
    "\n",
    "    cursor.execute(query)\n",
    "\n",
    "    # Pegando os dados da consulta\n",
    "    result = cursor.fetchall()\n",
    "\n",
    "    # Pegando os nomes das colunas\n",
    "    columns = cursor.description\n",
    "\n",
    "    # Colocando o nome das colunas \n",
    "    df = [{columns[index][0]: column for index, column in enumerate(value)} for value in result]\n",
    "\n",
    "    # Transformando de DataFrame para fazer o gráfico\n",
    "    return pd.DataFrame(df)"
   ]
  },
  {
   "cell_type": "code",
   "execution_count": 6,
   "id": "74504590",
   "metadata": {},
   "outputs": [],
   "source": [
    "# Estabelecendo a conexão\n",
    "conn = get_db_connection()\n",
    "\n",
    "# Estabelecendo o cursor para executar consultas\n",
    "cursor = conn.cursor()"
   ]
  },
  {
   "cell_type": "code",
   "execution_count": 34,
   "id": "78dc80c8",
   "metadata": {},
   "outputs": [],
   "source": [
    "query = '''\n",
    "        SELECT \n",
    "                ha.year_month AS ano_mes,\n",
    "                ha.pollutant_code AS poluente,\n",
    "                ha.state_code AS uf,\n",
    "                ha.total_health_cases AS numero_total_casos,\n",
    "                ha.monthly_avg_pollution AS media_poluicao\n",
    "        FROM \n",
    "                gold.mart_health_vs_air_quality AS ha\n",
    "        GROUP BY\n",
    "                1, 2, 3, 4, 5\n",
    "'''\n",
    "df = execute_query(query, conn, cursor, True)"
   ]
  },
  {
   "cell_type": "code",
   "execution_count": 35,
   "id": "03e04513",
   "metadata": {},
   "outputs": [
    {
     "data": {
      "text/html": [
       "<div>\n",
       "<style scoped>\n",
       "    .dataframe tbody tr th:only-of-type {\n",
       "        vertical-align: middle;\n",
       "    }\n",
       "\n",
       "    .dataframe tbody tr th {\n",
       "        vertical-align: top;\n",
       "    }\n",
       "\n",
       "    .dataframe thead th {\n",
       "        text-align: right;\n",
       "    }\n",
       "</style>\n",
       "<table border=\"1\" class=\"dataframe\">\n",
       "  <thead>\n",
       "    <tr style=\"text-align: right;\">\n",
       "      <th></th>\n",
       "      <th>ano_mes</th>\n",
       "      <th>poluente</th>\n",
       "      <th>uf</th>\n",
       "      <th>numero_total_casos</th>\n",
       "      <th>media_poluicao</th>\n",
       "    </tr>\n",
       "  </thead>\n",
       "  <tbody>\n",
       "    <tr>\n",
       "      <th>0</th>\n",
       "      <td>2022-01</td>\n",
       "      <td>CO</td>\n",
       "      <td>BA</td>\n",
       "      <td>18085</td>\n",
       "      <td>0.36635808748728382503</td>\n",
       "    </tr>\n",
       "    <tr>\n",
       "      <th>1</th>\n",
       "      <td>2022-01</td>\n",
       "      <td>CO</td>\n",
       "      <td>ES</td>\n",
       "      <td>4066</td>\n",
       "      <td>1.1718008705114255</td>\n",
       "    </tr>\n",
       "    <tr>\n",
       "      <th>2</th>\n",
       "      <td>2022-01</td>\n",
       "      <td>CO</td>\n",
       "      <td>MG</td>\n",
       "      <td>70299</td>\n",
       "      <td>0.51170627615062761506</td>\n",
       "    </tr>\n",
       "    <tr>\n",
       "      <th>3</th>\n",
       "      <td>2022-01</td>\n",
       "      <td>CO</td>\n",
       "      <td>MS</td>\n",
       "      <td>11965</td>\n",
       "      <td>0.32635294117647058824</td>\n",
       "    </tr>\n",
       "    <tr>\n",
       "      <th>4</th>\n",
       "      <td>2022-01</td>\n",
       "      <td>CO</td>\n",
       "      <td>RJ</td>\n",
       "      <td>39821</td>\n",
       "      <td>0.43153687112336319779</td>\n",
       "    </tr>\n",
       "    <tr>\n",
       "      <th>...</th>\n",
       "      <td>...</td>\n",
       "      <td>...</td>\n",
       "      <td>...</td>\n",
       "      <td>...</td>\n",
       "      <td>...</td>\n",
       "    </tr>\n",
       "    <tr>\n",
       "      <th>351</th>\n",
       "      <td>2022-11</td>\n",
       "      <td>SO2</td>\n",
       "      <td>MG</td>\n",
       "      <td>16715</td>\n",
       "      <td>3.6248882681564246</td>\n",
       "    </tr>\n",
       "    <tr>\n",
       "      <th>352</th>\n",
       "      <td>2022-11</td>\n",
       "      <td>SO2</td>\n",
       "      <td>MS</td>\n",
       "      <td>3005</td>\n",
       "      <td>8.4784525547445255</td>\n",
       "    </tr>\n",
       "    <tr>\n",
       "      <th>353</th>\n",
       "      <td>2022-11</td>\n",
       "      <td>SO2</td>\n",
       "      <td>PR</td>\n",
       "      <td>14635</td>\n",
       "      <td>5.0425547730829421</td>\n",
       "    </tr>\n",
       "    <tr>\n",
       "      <th>354</th>\n",
       "      <td>2022-11</td>\n",
       "      <td>SO2</td>\n",
       "      <td>RS</td>\n",
       "      <td>5229</td>\n",
       "      <td>10.1058681672025723</td>\n",
       "    </tr>\n",
       "    <tr>\n",
       "      <th>355</th>\n",
       "      <td>2022-11</td>\n",
       "      <td>SO2</td>\n",
       "      <td>SP</td>\n",
       "      <td>54103</td>\n",
       "      <td>22.4797687861271676</td>\n",
       "    </tr>\n",
       "  </tbody>\n",
       "</table>\n",
       "<p>356 rows × 5 columns</p>\n",
       "</div>"
      ],
      "text/plain": [
       "     ano_mes poluente  uf  numero_total_casos          media_poluicao\n",
       "0    2022-01       CO  BA               18085  0.36635808748728382503\n",
       "1    2022-01       CO  ES                4066      1.1718008705114255\n",
       "2    2022-01       CO  MG               70299  0.51170627615062761506\n",
       "3    2022-01       CO  MS               11965  0.32635294117647058824\n",
       "4    2022-01       CO  RJ               39821  0.43153687112336319779\n",
       "..       ...      ...  ..                 ...                     ...\n",
       "351  2022-11      SO2  MG               16715      3.6248882681564246\n",
       "352  2022-11      SO2  MS                3005      8.4784525547445255\n",
       "353  2022-11      SO2  PR               14635      5.0425547730829421\n",
       "354  2022-11      SO2  RS                5229     10.1058681672025723\n",
       "355  2022-11      SO2  SP               54103     22.4797687861271676\n",
       "\n",
       "[356 rows x 5 columns]"
      ]
     },
     "execution_count": 35,
     "metadata": {},
     "output_type": "execute_result"
    }
   ],
   "source": [
    "df"
   ]
  },
  {
   "cell_type": "code",
   "execution_count": 36,
   "id": "54d68b5e",
   "metadata": {},
   "outputs": [
    {
     "data": {
      "text/html": [
       "<div>\n",
       "<style scoped>\n",
       "    .dataframe tbody tr th:only-of-type {\n",
       "        vertical-align: middle;\n",
       "    }\n",
       "\n",
       "    .dataframe tbody tr th {\n",
       "        vertical-align: top;\n",
       "    }\n",
       "\n",
       "    .dataframe thead th {\n",
       "        text-align: right;\n",
       "    }\n",
       "</style>\n",
       "<table border=\"1\" class=\"dataframe\">\n",
       "  <thead>\n",
       "    <tr style=\"text-align: right;\">\n",
       "      <th></th>\n",
       "      <th>ano_mes</th>\n",
       "      <th>poluente</th>\n",
       "      <th>uf</th>\n",
       "      <th>numero_total_casos</th>\n",
       "      <th>media_poluicao</th>\n",
       "      <th>mes</th>\n",
       "    </tr>\n",
       "  </thead>\n",
       "  <tbody>\n",
       "    <tr>\n",
       "      <th>93</th>\n",
       "      <td>2022-04-01</td>\n",
       "      <td>CO</td>\n",
       "      <td>BA</td>\n",
       "      <td>6044</td>\n",
       "      <td>0.25924086870681145114</td>\n",
       "      <td>April</td>\n",
       "    </tr>\n",
       "    <tr>\n",
       "      <th>94</th>\n",
       "      <td>2022-04-01</td>\n",
       "      <td>CO</td>\n",
       "      <td>ES</td>\n",
       "      <td>1862</td>\n",
       "      <td>1.3782532751091703</td>\n",
       "      <td>April</td>\n",
       "    </tr>\n",
       "    <tr>\n",
       "      <th>95</th>\n",
       "      <td>2022-04-01</td>\n",
       "      <td>CO</td>\n",
       "      <td>MG</td>\n",
       "      <td>15744</td>\n",
       "      <td>0.52646256646069837620</td>\n",
       "      <td>April</td>\n",
       "    </tr>\n",
       "    <tr>\n",
       "      <th>97</th>\n",
       "      <td>2022-04-01</td>\n",
       "      <td>CO</td>\n",
       "      <td>RJ</td>\n",
       "      <td>10169</td>\n",
       "      <td>0.45577720207253886010</td>\n",
       "      <td>April</td>\n",
       "    </tr>\n",
       "    <tr>\n",
       "      <th>98</th>\n",
       "      <td>2022-04-01</td>\n",
       "      <td>CO</td>\n",
       "      <td>RS</td>\n",
       "      <td>8479</td>\n",
       "      <td>1.7699646643109541</td>\n",
       "      <td>April</td>\n",
       "    </tr>\n",
       "    <tr>\n",
       "      <th>...</th>\n",
       "      <td>...</td>\n",
       "      <td>...</td>\n",
       "      <td>...</td>\n",
       "      <td>...</td>\n",
       "      <td>...</td>\n",
       "      <td>...</td>\n",
       "    </tr>\n",
       "    <tr>\n",
       "      <th>283</th>\n",
       "      <td>2022-09-01</td>\n",
       "      <td>SO2</td>\n",
       "      <td>RJ</td>\n",
       "      <td>6161</td>\n",
       "      <td>8.5811031518624642</td>\n",
       "      <td>September</td>\n",
       "    </tr>\n",
       "    <tr>\n",
       "      <th>284</th>\n",
       "      <td>2022-09-01</td>\n",
       "      <td>SO2</td>\n",
       "      <td>RS</td>\n",
       "      <td>6011</td>\n",
       "      <td>8.6379366650173182</td>\n",
       "      <td>September</td>\n",
       "    </tr>\n",
       "    <tr>\n",
       "      <th>285</th>\n",
       "      <td>2022-09-01</td>\n",
       "      <td>SO2</td>\n",
       "      <td>SP</td>\n",
       "      <td>32810</td>\n",
       "      <td>34.6781115879828326</td>\n",
       "      <td>September</td>\n",
       "    </tr>\n",
       "    <tr>\n",
       "      <th>270</th>\n",
       "      <td>2022-09-01</td>\n",
       "      <td>NO2</td>\n",
       "      <td>MS</td>\n",
       "      <td>2833</td>\n",
       "      <td>6.8925295926210607</td>\n",
       "      <td>September</td>\n",
       "    </tr>\n",
       "    <tr>\n",
       "      <th>265</th>\n",
       "      <td>2022-09-01</td>\n",
       "      <td>MP10</td>\n",
       "      <td>RJ</td>\n",
       "      <td>6161</td>\n",
       "      <td>26.4012735381565907</td>\n",
       "      <td>September</td>\n",
       "    </tr>\n",
       "  </tbody>\n",
       "</table>\n",
       "<p>356 rows × 6 columns</p>\n",
       "</div>"
      ],
      "text/plain": [
       "       ano_mes poluente  uf  numero_total_casos          media_poluicao  \\\n",
       "93  2022-04-01       CO  BA                6044  0.25924086870681145114   \n",
       "94  2022-04-01       CO  ES                1862      1.3782532751091703   \n",
       "95  2022-04-01       CO  MG               15744  0.52646256646069837620   \n",
       "97  2022-04-01       CO  RJ               10169  0.45577720207253886010   \n",
       "98  2022-04-01       CO  RS                8479      1.7699646643109541   \n",
       "..         ...      ...  ..                 ...                     ...   \n",
       "283 2022-09-01      SO2  RJ                6161      8.5811031518624642   \n",
       "284 2022-09-01      SO2  RS                6011      8.6379366650173182   \n",
       "285 2022-09-01      SO2  SP               32810     34.6781115879828326   \n",
       "270 2022-09-01      NO2  MS                2833      6.8925295926210607   \n",
       "265 2022-09-01     MP10  RJ                6161     26.4012735381565907   \n",
       "\n",
       "           mes  \n",
       "93       April  \n",
       "94       April  \n",
       "95       April  \n",
       "97       April  \n",
       "98       April  \n",
       "..         ...  \n",
       "283  September  \n",
       "284  September  \n",
       "285  September  \n",
       "270  September  \n",
       "265  September  \n",
       "\n",
       "[356 rows x 6 columns]"
      ]
     },
     "execution_count": 36,
     "metadata": {},
     "output_type": "execute_result"
    }
   ],
   "source": [
    "# Converter para datetime e extrair o mês\n",
    "df['ano_mes'] = pd.to_datetime(df['ano_mes'])\n",
    "df['mes'] = df['ano_mes'].dt.month_name()\n",
    "\n",
    "df.sort_values(by='mes')"
   ]
  },
  {
   "cell_type": "code",
   "execution_count": 37,
   "id": "6490e0df",
   "metadata": {},
   "outputs": [],
   "source": [
    "df = converter_meses_para_portugues(df, coluna_mes='mes')"
   ]
  },
  {
   "cell_type": "code",
   "execution_count": 38,
   "id": "98609242",
   "metadata": {},
   "outputs": [
    {
     "data": {
      "image/png": "[encoded data removed]",
      "text/plain": [
       "<Figure size 1200x600 with 2 Axes>"
      ]
     },
     "metadata": {},
     "output_type": "display_data"
    }
   ],
   "source": [
    "# Gráfico duplo: linha -> Sériel Temporal dos poluentes\n",
    "#                barras -> número de casos\n",
    "# Colocar filtros: estado e poluente para o gŕafico não ficar tão poluído\n",
    "plt.figure(figsize=(12, 6))\n",
    "\n",
    "sns.barplot(data=df, x='mes', y='numero_total_casos',color='lightgray', alpha=0.7, label='Casos', errorbar=None)\n",
    "ax2 = plt.twinx()\n",
    "sns.lineplot(data=df, x='mes', y='media_poluicao', hue='poluente', marker='o', errorbar=None)\n",
    "plt.xticks(rotation=45)\n",
    "plt.tight_layout()\n",
    "plt.show()"
   ]
  },
  {
   "cell_type": "code",
   "execution_count": 43,
   "id": "946cd3e1",
   "metadata": {},
   "outputs": [],
   "source": [
    "# Converter para numérico, forçando erros para NaN\n",
    "df['media_poluicao'] = pd.to_numeric(df['media_poluicao'], errors='coerce')\n",
    "df['numero_total_casos'] = pd.to_numeric(df['numero_total_casos'], errors='coerce')"
   ]
  },
  {
   "cell_type": "code",
   "execution_count": 49,
   "id": "d390fa20",
   "metadata": {},
   "outputs": [
    {
     "data": {
      "image/png": "[encoded data removed]",
      "text/plain": [
       "<Figure size 1200x700 with 1 Axes>"
      ]
     },
     "metadata": {},
     "output_type": "display_data"
    }
   ],
   "source": [
    "plt.figure(figsize=(12, 7))\n",
    "sns.scatterplot(data=df, x='media_poluicao', y='numero_total_casos', hue='poluente')\n",
    "\n",
    "# Adicionar linha de tendência manualmente (para cada poluente)\n",
    "for poluente in df['poluente'].unique():\n",
    "    subset = df[df['poluente'] == poluente]\n",
    "    sns.regplot(data=subset, x='media_poluicao', y='numero_total_casos', \n",
    "               scatter=False, label=f'Tendência {poluente}')\n",
    "\n",
    "plt.title('Correlação entre Poluição e Casos de Saúde')\n",
    "plt.xlabel('Média Mensal de Poluição (µg/m³)')\n",
    "plt.ylabel('Número Total de Casos de Saúde')\n",
    "plt.legend(title='Poluente')\n",
    "plt.grid(True)\n",
    "plt.tight_layout()\n",
    "plt.show()"
   ]
  },
  {
   "cell_type": "code",
   "execution_count": 46,
   "id": "f116ae63",
   "metadata": {},
   "outputs": [
    {
     "data": {
      "application/vnd.plotly.v1+json": {
       "config": {
        "plotlyServerURL": "https://plot.ly"
       },
       "data": [
        {
         "hovertext": [
          "UF: BA<br>Mês: Janeiro",
          "UF: MG<br>Mês: Janeiro",
          "UF: MS<br>Mês: Janeiro",
          "UF: RJ<br>Mês: Janeiro",
          "UF: RS<br>Mês: Janeiro",
          "UF: SP<br>Mês: Janeiro",
          "UF: ES<br>Mês: Janeiro",
          "UF: BA<br>Mês: Fevereiro",
          "UF: ES<br>Mês: Fevereiro",
          "UF: MG<br>Mês: Fevereiro",
          "UF: RJ<br>Mês: Fevereiro",
          "UF: SP<br>Mês: Fevereiro",
          "UF: RS<br>Mês: Fevereiro",
          "UF: BA<br>Mês: Março",
          "UF: ES<br>Mês: Março",
          "UF: MG<br>Mês: Março",
          "UF: MS<br>Mês: Março",
          "UF: RJ<br>Mês: Março",
          "UF: RS<br>Mês: Março",
          "UF: SP<br>Mês: Março",
          "UF: RJ<br>Mês: Abril",
          "UF: BA<br>Mês: Abril",
          "UF: ES<br>Mês: Abril",
          "UF: MG<br>Mês: Abril",
          "UF: MS<br>Mês: Abril",
          "UF: RS<br>Mês: Abril",
          "UF: ES<br>Mês: Maio",
          "UF: BA<br>Mês: Maio",
          "UF: MG<br>Mês: Maio",
          "UF: MS<br>Mês: Maio",
          "UF: RJ<br>Mês: Maio",
          "UF: SP<br>Mês: Maio",
          "UF: RS<br>Mês: Maio",
          "UF: ES<br>Mês: Junho",
          "UF: BA<br>Mês: Junho",
          "UF: MG<br>Mês: Junho",
          "UF: MS<br>Mês: Junho",
          "UF: RJ<br>Mês: Junho",
          "UF: SP<br>Mês: Junho",
          "UF: RS<br>Mês: Junho",
          "UF: MS<br>Mês: Julho",
          "UF: RJ<br>Mês: Julho",
          "UF: RS<br>Mês: Julho",
          "UF: BA<br>Mês: Julho",
          "UF: SP<br>Mês: Julho",
          "UF: ES<br>Mês: Julho",
          "UF: BA<br>Mês: Agosto",
          "UF: ES<br>Mês: Agosto",
          "UF: MS<br>Mês: Agosto",
          "UF: RS<br>Mês: Agosto",
          "UF: SP<br>Mês: Agosto",
          "UF: RJ<br>Mês: Agosto",
          "UF: ES<br>Mês: Setembro",
          "UF: BA<br>Mês: Setembro",
          "UF: MS<br>Mês: Setembro",
          "UF: RS<br>Mês: Setembro",
          "UF: SP<br>Mês: Setembro",
          "UF: RJ<br>Mês: Setembro",
          "UF: BA<br>Mês: Outubro",
          "UF: ES<br>Mês: Outubro",
          "UF: MS<br>Mês: Outubro",
          "UF: PR<br>Mês: Outubro",
          "UF: RS<br>Mês: Outubro",
          "UF: SP<br>Mês: Outubro",
          "UF: RJ<br>Mês: Outubro",
          "UF: BA<br>Mês: Novembro",
          "UF: ES<br>Mês: Novembro",
          "UF: MG<br>Mês: Novembro",
          "UF: MS<br>Mês: Novembro",
          "UF: PR<br>Mês: Novembro",
          "UF: RS<br>Mês: Novembro",
          "UF: SP<br>Mês: Novembro"
         ],
         "mode": "markers",
         "name": "CO",
         "type": "scatter",
         "x": {
          "bdata": "7IIYMWly1z9NMifX5V/gP0mbU3L34tQ/gY0f00ye2z+R4+fCGwfyPwAAAAAAABBAn1UERbK/8j8rBqSI1qHVPzT/SirlsvM/FckeAktj4D/DmHmztfrVP99777333gdAGc+ZIERqAUBTZEsHkp3TPxbja2bq4PI/VgjJ9P+75T//yDOtEBXUP/paZhx9iN4/+zjrYJ9R7z9VVVVVVVUNQPV9SiR0K90//3g4A2eX0D8xLmNOUw32P6iKMAbI2OA/YdAvNwUf2D+eqMR3xlH8P+987KgkE/8/5QT6sbQG1D+t71M4LhriP7tmU3A1LNE/EeiZXz5l2z8AAAAAAAAEQNLXaIv+SwJAVqEf0bU9/D9F+DKe0xnXP9EWoEFhvuE//KS15EkK1T+hTmzZGoHhPxQ7sRM7sQ9Ap3b9vqOd+z+cIK+3GpnYPyAZj//fzeI/Huu3hFEe8z+/QNEQ+e/RP6uqqqqq6hNAlpEHUTYi/D/E2hsTmtvQPwy/RZquFfc/PkeBDa5x2j9z/5aOKS/9P11BTK4gJhdAqy1lAKED3z8/pboqTIv3P0dn1TYna9M/YQ0m3xIG3D8+0I3Hus/2PzMzMzMzMw9AyL3mQtI0AEBEYGZ9P4LVP5sf+sJCsvg/H2nMxh550j8jzm49VsfjPynuNDZJK/o/AAAAAABABkBWYKDVkjjxP3dW+9Yw5dE/MCOImy7I9j8kpRrH6cLPP7O8CyuMx88/FImjVf2p5z+yaBiMavv8P5IkSZIkSfI/",
          "dtype": "f8"
         },
         "y": {
          "bdata": "pUYAAJsSAQC9LgAAjZsAACVZAACrUgIA4g8AANc9AAAcDgAAkcsAAMNYAABBkAEAgV0AANEiAADoCgAAaWYAAKsQAABsMgAAAioAALLRAAC5JwAAnBcAAEYHAACAPQAA+A8AAB8hAADbBgAAyhsAAPtUAACqEQAAGjsAADrpAABENQAAagkAAGMeAADukgAA3hUAAEFgAACbVgEA3z0AAP0UAACQPgAAjTYAAGgoAABOBwEAkgkAAJEXAADCBQAAbg8AAOkpAADjpQAASSQAAAMGAADmFQAAEQsAAHsXAAAqgAAAERgAADIQAAD5AwAArQgAAGAwAABsEAAAWoUAALgXAABCGAAAuAQAAEtBAAC9CwAAKzkAAG0UAABX0wAA",
          "dtype": "i4"
         }
        },
        {
         "line": {
          "dash": "dash"
         },
         "mode": "lines",
         "name": "Tendência CO",
         "type": "scatter",
         "x": {
          "bdata": "7IIYMWly1z9NMifX5V/gP0mbU3L34tQ/gY0f00ye2z+R4+fCGwfyPwAAAAAAABBAn1UERbK/8j8rBqSI1qHVPzT/SirlsvM/FckeAktj4D/DmHmztfrVP99777333gdAGc+ZIERqAUBTZEsHkp3TPxbja2bq4PI/VgjJ9P+75T//yDOtEBXUP/paZhx9iN4/+zjrYJ9R7z9VVVVVVVUNQPV9SiR0K90//3g4A2eX0D8xLmNOUw32P6iKMAbI2OA/YdAvNwUf2D+eqMR3xlH8P+987KgkE/8/5QT6sbQG1D+t71M4LhriP7tmU3A1LNE/EeiZXz5l2z8AAAAAAAAEQNLXaIv+SwJAVqEf0bU9/D9F+DKe0xnXP9EWoEFhvuE//KS15EkK1T+hTmzZGoHhPxQ7sRM7sQ9Ap3b9vqOd+z+cIK+3GpnYPyAZj//fzeI/Huu3hFEe8z+/QNEQ+e/RP6uqqqqq6hNAlpEHUTYi/D/E2hsTmtvQPwy/RZquFfc/PkeBDa5x2j9z/5aOKS/9P11BTK4gJhdAqy1lAKED3z8/pboqTIv3P0dn1TYna9M/YQ0m3xIG3D8+0I3Hus/2PzMzMzMzMw9AyL3mQtI0AEBEYGZ9P4LVP5sf+sJCsvg/H2nMxh550j8jzm49VsfjPynuNDZJK/o/AAAAAABABkBWYKDVkjjxP3dW+9Yw5dE/MCOImy7I9j8kpRrH6cLPP7O8CyuMx88/FImjVf2p5z+yaBiMavv8P5IkSZIkSfI/",
          "dtype": "f8"
         },
         "y": {
          "bdata": "Gf6EMOidwUCSSmjxRyPFQPWUe9rQpcBATAzUqhwyw0AuNpe5rwTSQGipd5T3aOpAftWgLWyQ0kD3Es/wD+7AQBYYKTSHSNNAYGTn6tklxUDcsaJysw/BQHIBpEOXQeRAaUkCq++83kDUGuaRpirAQHD8gPKRqdJAgmJ/NvwxyUBL+9Zi4VfAQPxPHfWMTMRAuikAl7U50EAOYlFRLWToQEqJehxwyMNAmRLXQD4LvkCmZMrxkxDVQPY/x7jKfsVAO/LkuT3fwUDR1XZcLM/ZQCBonwsm5dtArlAU/3FSwED+g0exGHLGQILQBl/ke75AkpPZAIQcw0BUaEtmaVPhQILQWR5ZCeBAGoea1Pu/2UBsT8SJYHzBQGTw4BGaLMZAV+R3FrO0wEC1foEyN/7FQN60VWVWLepAdxbOvs5G2UD8jCRwcw3CQK5V5s4g+sZAw9s0lQ3Y0kBEOzq9FhC/QIAN3NyEK/BA6cGZzyqr2UBvuioO3z6+QPahqkaz2NVAPwbeIFPAwkC1lg9axHbaQOCeKrrrnfJAH6CFAyl7xECrK0y4vDHWQEYklTuRF8BAXBlnI2RZw0DYhh3BvqPVQJot7BnuzelAIpUZK23o3ECNAEntGuLAQC8x24AHEddAha+tYOl3v0Csc/GX+bbHQAmjspVxLthAiLTzDnQH40CUregIVmjRQDBstDPtB79AsydfEQie1UAOv5zVgYG9QEz/ouRCg71AlySFl/GnykDk5NAkmE/aQBZn8fKsNtJA",
          "dtype": "f8"
         }
        },
        {
         "hovertext": [
          "UF: SP<br>Mês: Janeiro",
          "UF: RS<br>Mês: Janeiro",
          "UF: RJ<br>Mês: Janeiro",
          "UF: MG<br>Mês: Janeiro",
          "UF: ES<br>Mês: Janeiro",
          "UF: BA<br>Mês: Janeiro",
          "UF: ES<br>Mês: Fevereiro",
          "UF: BA<br>Mês: Fevereiro",
          "UF: MG<br>Mês: Fevereiro",
          "UF: RJ<br>Mês: Fevereiro",
          "UF: RS<br>Mês: Fevereiro",
          "UF: SP<br>Mês: Fevereiro",
          "UF: SP<br>Mês: Março",
          "UF: BA<br>Mês: Março",
          "UF: MG<br>Mês: Março",
          "UF: RJ<br>Mês: Março",
          "UF: RS<br>Mês: Março",
          "UF: ES<br>Mês: Março",
          "UF: SP<br>Mês: Abril",
          "UF: BA<br>Mês: Abril",
          "UF: ES<br>Mês: Abril",
          "UF: MG<br>Mês: Abril",
          "UF: RJ<br>Mês: Abril",
          "UF: RS<br>Mês: Abril",
          "UF: RS<br>Mês: Maio",
          "UF: BA<br>Mês: Maio",
          "UF: ES<br>Mês: Maio",
          "UF: MG<br>Mês: Maio",
          "UF: MS<br>Mês: Maio",
          "UF: RJ<br>Mês: Maio",
          "UF: SP<br>Mês: Maio",
          "UF: BA<br>Mês: Junho",
          "UF: ES<br>Mês: Junho",
          "UF: MG<br>Mês: Junho",
          "UF: MS<br>Mês: Junho",
          "UF: RJ<br>Mês: Junho",
          "UF: RS<br>Mês: Junho",
          "UF: SP<br>Mês: Junho",
          "UF: RS<br>Mês: Julho",
          "UF: ES<br>Mês: Julho",
          "UF: MS<br>Mês: Julho",
          "UF: RJ<br>Mês: Julho",
          "UF: SP<br>Mês: Julho",
          "UF: BA<br>Mês: Julho",
          "UF: ES<br>Mês: Agosto",
          "UF: BA<br>Mês: Agosto",
          "UF: MS<br>Mês: Agosto",
          "UF: RJ<br>Mês: Agosto",
          "UF: RS<br>Mês: Agosto",
          "UF: SP<br>Mês: Agosto",
          "UF: ES<br>Mês: Setembro",
          "UF: MS<br>Mês: Setembro",
          "UF: RJ<br>Mês: Setembro",
          "UF: RS<br>Mês: Setembro",
          "UF: SP<br>Mês: Setembro",
          "UF: BA<br>Mês: Setembro",
          "UF: RJ<br>Mês: Outubro",
          "UF: BA<br>Mês: Outubro",
          "UF: ES<br>Mês: Outubro",
          "UF: MS<br>Mês: Outubro",
          "UF: PR<br>Mês: Outubro",
          "UF: RS<br>Mês: Outubro",
          "UF: SP<br>Mês: Outubro",
          "UF: BA<br>Mês: Novembro",
          "UF: ES<br>Mês: Novembro",
          "UF: MG<br>Mês: Novembro",
          "UF: MS<br>Mês: Novembro",
          "UF: PR<br>Mês: Novembro",
          "UF: RS<br>Mês: Novembro",
          "UF: SP<br>Mês: Novembro"
         ],
         "mode": "markers",
         "name": "SO2",
         "type": "scatter",
         "x": {
          "bdata": "knPkHDlHPUCK40hniSoiQECWNGJCGRdAoSgTijLhDkBaLQjx9TInQApsGsOIjwNAzhexcIw0IEDsvDN8iqcGQJAaWQSu8RBAtBJnINZCGUDZr74ve1ojQC4DPjlcBjhAXXe82BJ8OEAJQ76IIDEEQLCCItbzEg9AubF3Cmp2FUBLvz4gdM0cQKkcV4avhhxAwfCHbqZeN0BwwxPEyPwBQM9NDe3cVBtAmlJx9uGDEEB8dR1oUGIRQPUVZW5gdSFABysoNO51FkB8P1TfGp0VQKPPauqwhRhA7iCVX9ucDUCGpCkVZy8yQHL2oyXgiRZADIhNpSHnQUD5KrnU73sNQJfvbeH3oh1ANQy7vVGMEUD/IuUbkNs2QFpXbnC2FyFAGD2ZlXhkG0CbbLLJJns8QO4NegI2aBBAweCvZfkIIEB3spDvXttHQCy+Ydf7+yBADMMwDMPwREA83j0dlCMDQDwmR7cfuBZA8ZIzCuZBD0AXCZW6eRIxQDVrh7il7yNAyBPW+kbxJECgUn9K/ak4QBtiH1NRVxZAsNkjvV90LEAgtDFahikhQF5WcqKfRiFAY7ZKXMxWQUC468RTPxYOQMQ5nMM5CCJA6UObzk2DCECjJLefFXYaQM0gJvMnLSFAcYrhXC3aC0CPV7Ix+tQhQJ9GWO5pRD5A82uQXVxt/z8duDgCQPQZQF4Wm2vF/wxAeqG2u/f0IEBCuHp6kysUQCClN1o0NiRAzA6OINJ6NkA=",
          "dtype": "f8"
         },
         "y": {
          "bdata": "q1ICACVZAACNmwAAmxIBAOIPAAClRgAAHA4AANc9AACRywAAw1gAAIFdAABBkAEAstEAANEiAABpZgAAbDIAAAIqAADoCgAAg6MAAJwXAABGBwAAgD0AALknAAAfIQAARDUAAMobAADbBgAA+1QAAKoRAAAaOwAAOukAAGMeAABqCQAA7pIAAN4VAABBYAAA3z0AAJtWAQCNNgAAkgkAAP0UAACQPgAATgcBAGgoAADCBQAAkRcAAG4PAABJJAAA6SkAAOOlAAADBgAAEQsAABEYAAB7FwAAKoAAAOYVAAC4FwAAMhAAAPkDAACtCAAAYDAAAGwQAABahQAAQhgAALgEAABLQQAAvQsAACs5AABtFAAAV9MAAA==",
          "dtype": "i4"
         }
        },
        {
         "line": {
          "dash": "dash"
         },
         "mode": "lines",
         "name": "Tendência SO2",
         "type": "scatter",
         "x": {
          "bdata": "knPkHDlHPUCK40hniSoiQECWNGJCGRdAoSgTijLhDkBaLQjx9TInQApsGsOIjwNAzhexcIw0IEDsvDN8iqcGQJAaWQSu8RBAtBJnINZCGUDZr74ve1ojQC4DPjlcBjhAXXe82BJ8OEAJQ76IIDEEQLCCItbzEg9AubF3Cmp2FUBLvz4gdM0cQKkcV4avhhxAwfCHbqZeN0BwwxPEyPwBQM9NDe3cVBtAmlJx9uGDEEB8dR1oUGIRQPUVZW5gdSFABysoNO51FkB8P1TfGp0VQKPPauqwhRhA7iCVX9ucDUCGpCkVZy8yQHL2oyXgiRZADIhNpSHnQUD5KrnU73sNQJfvbeH3oh1ANQy7vVGMEUD/IuUbkNs2QFpXbnC2FyFAGD2ZlXhkG0CbbLLJJns8QO4NegI2aBBAweCvZfkIIEB3spDvXttHQCy+Ydf7+yBADMMwDMPwREA83j0dlCMDQDwmR7cfuBZA8ZIzCuZBD0AXCZW6eRIxQDVrh7il7yNAyBPW+kbxJECgUn9K/ak4QBtiH1NRVxZAsNkjvV90LEAgtDFahikhQF5WcqKfRiFAY7ZKXMxWQUC468RTPxYOQMQ5nMM5CCJA6UObzk2DCECjJLefFXYaQM0gJvMnLSFAcYrhXC3aC0CPV7Ix+tQhQJ9GWO5pRD5A82uQXVxt/z8duDgCQPQZQF4Wm2vF/wxAeqG2u/f0IEBCuHp6kysUQCClN1o0NiRAzA6OINJ6NkA=",
          "dtype": "f8"
         },
         "y": {
          "bdata": "LRsxEU4T5kBXK4GcK6TRQOX40CPNmMpAursCvPORxUD8V9q3zvHUQPgzOq0I28FAyl4FvrJa0EB5KYrP8d7CQEgXoq6xjsZAGHIOEyIEzEB0SbHbqGvSQHKoNgKgoOJAQAHuZuLt4kD096E5EBDCQOWMxbJHosVAwnkiGuaFyUBciPdgLVfOQGhy9tO6KM5A54YwFI0y4kDKpBJS3VbBQCDSUwECYM1ABF9PZaFGxkCO8QSwntjGQEFCrM1ELdFAphvfXJotykAf7iT8Sp/JQGTb5Y/9h8tA15nCn4MnxUDQIBKT3ZbdQL+j05GxOspAoN+P5xBc6kAZIgX7tRzFQDqidnZQ485AAC7ieDD0xkA6d9SXg9zhQA5TLTjL79BAnMFkfkBqzUBW+y6gXY3lQFAL7fN3NMZAMZNtTRk+0EAtkrencRbxQKTgIyqY3dBA5ACkZdZY7kCxJ847m7fBQN6DlUkMWcpAn0vhra+xxUCSuJi32SDcQGU8u/+PzdJA7/ZUZqd200BqIu0/BQzjQIWcnr+CGcpAy0FuQtlk2EA6NEAMfPvQQFBX2kSVDtFA7bG6uJqe6UBqnRe8WU/FQNO/CJumjdFAhNNFDBN7w0CYdYpkys3MQHvqvSze/dBA9Lmmpp2TxEAiL2bHA2zRQNEmJJV7ueZA6mndTNaXwECew/5lk3jMQPA3orj288RAx2weUf3Y0EAG3wgjwqzIQKABrSDf+9JA3GgB0wSd4UA=",
          "dtype": "f8"
         }
        },
        {
         "hovertext": [
          "UF: SP<br>Mês: Janeiro",
          "UF: RS<br>Mês: Janeiro",
          "UF: MG<br>Mês: Janeiro",
          "UF: ES<br>Mês: Janeiro",
          "UF: BA<br>Mês: Janeiro",
          "UF: RJ<br>Mês: Janeiro",
          "UF: BA<br>Mês: Fevereiro",
          "UF: ES<br>Mês: Fevereiro",
          "UF: MG<br>Mês: Fevereiro",
          "UF: RJ<br>Mês: Fevereiro",
          "UF: RS<br>Mês: Fevereiro",
          "UF: SP<br>Mês: Fevereiro",
          "UF: MG<br>Mês: Março",
          "UF: BA<br>Mês: Março",
          "UF: ES<br>Mês: Março",
          "UF: RJ<br>Mês: Março",
          "UF: SP<br>Mês: Março",
          "UF: RS<br>Mês: Março",
          "UF: RJ<br>Mês: Abril",
          "UF: BA<br>Mês: Abril",
          "UF: ES<br>Mês: Abril",
          "UF: MG<br>Mês: Abril",
          "UF: MS<br>Mês: Abril",
          "UF: RS<br>Mês: Abril",
          "UF: SP<br>Mês: Abril",
          "UF: MG<br>Mês: Maio",
          "UF: MS<br>Mês: Maio",
          "UF: ES<br>Mês: Maio",
          "UF: RJ<br>Mês: Maio",
          "UF: BA<br>Mês: Maio",
          "UF: RS<br>Mês: Maio",
          "UF: SP<br>Mês: Maio",
          "UF: RJ<br>Mês: Junho",
          "UF: BA<br>Mês: Junho",
          "UF: ES<br>Mês: Junho",
          "UF: MG<br>Mês: Junho",
          "UF: MS<br>Mês: Junho",
          "UF: RS<br>Mês: Junho",
          "UF: SP<br>Mês: Junho",
          "UF: RJ<br>Mês: Julho",
          "UF: BA<br>Mês: Julho",
          "UF: ES<br>Mês: Julho",
          "UF: MS<br>Mês: Julho",
          "UF: RS<br>Mês: Julho",
          "UF: SP<br>Mês: Julho",
          "UF: BA<br>Mês: Agosto",
          "UF: ES<br>Mês: Agosto",
          "UF: MS<br>Mês: Agosto",
          "UF: RJ<br>Mês: Agosto",
          "UF: RS<br>Mês: Agosto",
          "UF: SP<br>Mês: Agosto",
          "UF: BA<br>Mês: Setembro",
          "UF: RS<br>Mês: Setembro",
          "UF: ES<br>Mês: Setembro",
          "UF: MS<br>Mês: Setembro",
          "UF: RJ<br>Mês: Setembro",
          "UF: SP<br>Mês: Setembro",
          "UF: PR<br>Mês: Outubro",
          "UF: BA<br>Mês: Outubro",
          "UF: ES<br>Mês: Outubro",
          "UF: MS<br>Mês: Outubro",
          "UF: RJ<br>Mês: Outubro",
          "UF: SP<br>Mês: Outubro",
          "UF: RS<br>Mês: Outubro",
          "UF: MS<br>Mês: Novembro",
          "UF: BA<br>Mês: Novembro",
          "UF: ES<br>Mês: Novembro",
          "UF: MG<br>Mês: Novembro",
          "UF: PR<br>Mês: Novembro",
          "UF: SP<br>Mês: Novembro",
          "UF: RS<br>Mês: Novembro"
         ],
         "mode": "markers",
         "name": "O3",
         "type": "scatter",
         "x": {
          "bdata": "OjB38pVTNECnkyei9/VAQOUjUj4iIUZAtZaL6z0OKUC6Ywvdp6UzQNgiqZ6C6TtAhd87SQAsM0AuLrMdJ/csQGDO73bJkkRAAO4FE8jRPUCoOOH0Tik9QPorq6XO9TdAD8+sCZ80RUC+/RuJaxcxQCHaJ/WqHChA0cwFGcJyQ0ClnhGvTLM2QFaykpWsFDZA86gdAlxnQED2nmjiziM0QKd9vgw/FiNAGSCV5eyxQ0DLhF/q5w1EQC3rIYThGzRA7jES2Qu0NEAPEuwgwVZEQHae/OqNLUJAFzWK1V6KKkB0awwaF687QDf2tNszJTZAUVhBNY1gQUBeol2iXRIzQDX7ba2L6TtAgFrLs3LnO0B/e2wrvKAwQFzRLv1K70NAhZg7Ww5bMEAlJAipdkY3QMZslbiY3TBAI10FicOLQEBKq4kkoNRAQC+q2rtv9y5AujyuBVF7KEBShaaFM7E3QAWYDsgr2DdAK/TUZADoQECH6Cgd6VE0QPBu0+ZATzZAxh1cZRjOQkAzYxcCFN05QLHCxSZ9yjNAjMsspnUNQEBoIpbThPY1QEYDvH0toTVApZ5Xc2V+PkCrpO9JmYlFQNM/XMqsVzVANQgOIyyLM0ANaBwDkLBAQKpR8W9qBDJASwi26/7WQECq5xK9CNhEQLilLIhS1TpAw4NeHOmWO0D69922SJBBQNfFZg0grDhAG/KRZcNTMkBd95Q8h9xNQOe1xrPdcDNAHJiTuiacNkDfNHSjYe06QA==",
          "dtype": "f8"
         },
         "y": {
          "bdata": "q1ICACVZAACbEgEA4g8AAKVGAACNmwAA1z0AABwOAACRywAAw1gAAIFdAABBkAEAaWYAANEiAADoCgAAbDIAALLRAAACKgAAuScAAJwXAABGBwAAgD0AAPgPAAAfIQAAg6MAAPtUAACqEQAA2wYAABo7AADKGwAARDUAADrpAABBYAAAYx4AAGoJAADukgAA3hUAAN89AACbVgEAkD4AAGgoAACSCQAA/RQAAI02AABOBwEAkRcAAMIFAABuDwAASSQAAOkpAADjpQAA5hUAAHsXAAADBgAAEQsAABEYAAAqgAAAYDAAADIQAAD5AwAArQgAALgXAABahQAAbBAAAL0LAABCGAAAuAQAAEtBAAArOQAAV9MAAG0UAAA=",
          "dtype": "i4"
         }
        },
        {
         "line": {
          "dash": "dash"
         },
         "mode": "lines",
         "name": "Tendência O3",
         "type": "scatter",
         "x": {
          "bdata": "OjB38pVTNECnkyei9/VAQOUjUj4iIUZAtZaL6z0OKUC6Ywvdp6UzQNgiqZ6C6TtAhd87SQAsM0AuLrMdJ/csQGDO73bJkkRAAO4FE8jRPUCoOOH0Tik9QPorq6XO9TdAD8+sCZ80RUC+/RuJaxcxQCHaJ/WqHChA0cwFGcJyQ0ClnhGvTLM2QFaykpWsFDZA86gdAlxnQED2nmjiziM0QKd9vgw/FiNAGSCV5eyxQ0DLhF/q5w1EQC3rIYThGzRA7jES2Qu0NEAPEuwgwVZEQHae/OqNLUJAFzWK1V6KKkB0awwaF687QDf2tNszJTZAUVhBNY1gQUBeol2iXRIzQDX7ba2L6TtAgFrLs3LnO0B/e2wrvKAwQFzRLv1K70NAhZg7Ww5bMEAlJAipdkY3QMZslbiY3TBAI10FicOLQEBKq4kkoNRAQC+q2rtv9y5AujyuBVF7KEBShaaFM7E3QAWYDsgr2DdAK/TUZADoQECH6Cgd6VE0QPBu0+ZATzZAxh1cZRjOQkAzYxcCFN05QLHCxSZ9yjNAjMsspnUNQEBoIpbThPY1QEYDvH0toTVApZ5Xc2V+PkCrpO9JmYlFQNM/XMqsVzVANQgOIyyLM0ANaBwDkLBAQKpR8W9qBDJASwi26/7WQECq5xK9CNhEQLilLIhS1TpAw4NeHOmWO0D69922SJBBQNfFZg0grDhAG/KRZcNTMkBd95Q8h9xNQOe1xrPdcDNAHJiTuiacNkDfNHSjYe06QA==",
          "dtype": "f8"
         },
         "y": {
          "bdata": "sXSi6AW800DP9PG4lxPUQNUFNW0tVtRA5ramK8qJ00A0CsqUpbfTQLpmy1bi7NNALkUT+ZW000DQ9Em7YZbTQOCUZbghQtRA2So8ayv500DfXZo97vTTQGtRxbNt09NAYiJDjUZK1EAZmZN7L6fTQGDjgybAhtNAc2rXL6Mz1EDrLyNZUMvTQLuCBppSx9NAlh8fk2oM1EBRlD4p0rrTQKqS7hCRdtNA0+ZP8NA21EALawDhcTvUQKoLkRmfutNAHshWPHO+00DSBapZHD/UQI+K2r5FI9RAfIVIbJKO00B2c34KauvTQCsavRC9x9NA7bidy/QY1EBrB13Z8LPTQLkuI5Hi7NNAsgNYDtXs00Bs+ZMAM6TTQLzeuIHnOdRAOgWuLnKi00DGltBEBM/TQMe74Aa7pdNAh+cDjj8O1ECj/mcy6hHUQLkvO5vTnNNANQ+G+vCH00DQgTXLs9HTQKUw1s6u0tNAx2DjzuMS1EDcGmke+7vTQEcNIO3LyNNAsORh6lkr1ECJ0KVWsN/TQPYaPNWSuNNAbohscOQH1ECjexldkMbTQA0h2ahqxNNAhRhDRoP900Ct6ZpGjU7UQL3GrzWRwtNAGA3Y/vq200DywWWdGRDUQF+FTggmrdNAedI6uwgS1ECBiyvMnUXUQK3NwVfv5dNAkpAvS87q00BUR4W1WxvUQJmfDw8E2NNA2pVAISWv00A5z6/+yLnUQLGMooxRttNA5TuNPrvK00ATjiFQiubTQA==",
          "dtype": "f8"
         }
        },
        {
         "hovertext": [
          "UF: SP<br>Mês: Janeiro",
          "UF: RS<br>Mês: Janeiro",
          "UF: RJ<br>Mês: Janeiro",
          "UF: MG<br>Mês: Janeiro",
          "UF: BA<br>Mês: Janeiro",
          "UF: ES<br>Mês: Janeiro",
          "UF: RS<br>Mês: Fevereiro",
          "UF: SP<br>Mês: Fevereiro",
          "UF: RJ<br>Mês: Fevereiro",
          "UF: ES<br>Mês: Fevereiro",
          "UF: MG<br>Mês: Fevereiro",
          "UF: BA<br>Mês: Fevereiro",
          "UF: SP<br>Mês: Março",
          "UF: RS<br>Mês: Março",
          "UF: RJ<br>Mês: Março",
          "UF: MG<br>Mês: Março",
          "UF: BA<br>Mês: Março",
          "UF: ES<br>Mês: Março",
          "UF: SP<br>Mês: Abril",
          "UF: RS<br>Mês: Abril",
          "UF: MS<br>Mês: Abril",
          "UF: RJ<br>Mês: Abril",
          "UF: MG<br>Mês: Abril",
          "UF: BA<br>Mês: Abril",
          "UF: ES<br>Mês: Abril",
          "UF: RS<br>Mês: Maio",
          "UF: SP<br>Mês: Maio",
          "UF: RJ<br>Mês: Maio",
          "UF: MG<br>Mês: Maio",
          "UF: MS<br>Mês: Maio",
          "UF: BA<br>Mês: Maio",
          "UF: ES<br>Mês: Maio",
          "UF: SP<br>Mês: Junho",
          "UF: RS<br>Mês: Junho",
          "UF: RJ<br>Mês: Junho",
          "UF: MG<br>Mês: Junho",
          "UF: MS<br>Mês: Junho",
          "UF: BA<br>Mês: Junho",
          "UF: ES<br>Mês: Junho",
          "UF: SP<br>Mês: Julho",
          "UF: RS<br>Mês: Julho",
          "UF: RJ<br>Mês: Julho",
          "UF: ES<br>Mês: Julho",
          "UF: MS<br>Mês: Julho",
          "UF: BA<br>Mês: Julho",
          "UF: SP<br>Mês: Agosto",
          "UF: RS<br>Mês: Agosto",
          "UF: RJ<br>Mês: Agosto",
          "UF: ES<br>Mês: Agosto",
          "UF: MS<br>Mês: Agosto",
          "UF: BA<br>Mês: Agosto",
          "UF: SP<br>Mês: Setembro",
          "UF: RS<br>Mês: Setembro",
          "UF: MS<br>Mês: Setembro",
          "UF: RJ<br>Mês: Setembro",
          "UF: BA<br>Mês: Setembro",
          "UF: ES<br>Mês: Setembro",
          "UF: RS<br>Mês: Outubro",
          "UF: SP<br>Mês: Outubro",
          "UF: PR<br>Mês: Outubro",
          "UF: RJ<br>Mês: Outubro",
          "UF: ES<br>Mês: Outubro",
          "UF: MS<br>Mês: Outubro",
          "UF: BA<br>Mês: Outubro",
          "UF: RS<br>Mês: Novembro",
          "UF: SP<br>Mês: Novembro",
          "UF: PR<br>Mês: Novembro",
          "UF: MS<br>Mês: Novembro",
          "UF: ES<br>Mês: Novembro",
          "UF: BA<br>Mês: Novembro",
          "UF: MG<br>Mês: Novembro"
         ],
         "mode": "markers",
         "name": "NO2",
         "type": "scatter",
         "x": {
          "bdata": "F5ixfMTQI0AR96paH7slQHi2dhp+UTJABHhGgGfUI0BbEhK7z+EYQJiJS2zM+AFAKT9HV0nyJUD5xZJfLPknQLOmJvJUODNA35zVWF/dCECzpK+LbycnQBoNLfHd4xxAAAAAAABYKkDYTByL8hcpQGZM+5ZkTjRAmPHruyMWKUCFheNPezgbQDwkqgjx9gNAJNXoI9XoJUD77y0c25QnQGx4eqUsMzFAYYeuqn5wMkC0NYSfhxwqQI2hmixS7hlAmTbNHdEaB0C+CCDGH0IoQLTC5kCiFShAdhifq6S6QEBDWTpaAT0vQLPf/bdx+iBAJncblqUqHkCZdHhsP0IUQCV6zyR6zypAZBSbOI80KUCeFgX1kOpFQCcZNP5pgjRAVTnzXiMAIUCjDCwFpZ8gQOK2Aa+DzhJAJchTgjwlOkCIQM9uF7skQL7X5nttxktAJkDQcTkwEUAUn+igMDgnQCp0iCj/oRxAV9gcSLTCK0AwHLo81/wgQFcOc9GRw0dArax8ujd8DUDMZQ421AYgQEm/cK7ptyBAvlbPDoEbLUB1H6/g/t4aQCEUDEfzkRtA67D80niXQkAb5W/9GZscQBmow7H5xgxAvjhLm0vSG0BR3ArFrVAuQKcYGpUjECRAx+bsE/BZQUCAg4nD9MEHQNyuDqvi8ixApIuMgu7EHkCZl6cRp3geQBrPeMYznixAWwCMIq/fIUAkNosPiMMwQLInfzrP8QlAGJPXYuGcFUA214r/ly0lQA==",
          "dtype": "f8"
         },
         "y": {
          "bdata": "q1ICACVZAACNmwAAmxIBAKVGAADiDwAAgV0AAEGQAQDDWAAAHA4AAJHLAADXPQAAstEAAAIqAABsMgAAaWYAANEiAADoCgAAg6MAAB8hAAD4DwAAuScAAIA9AACcFwAARgcAAEQ1AAA66QAAGjsAAPtUAACqEQAAyhsAANsGAACbVgEA3z0AAEFgAADukgAA3hUAAGMeAABqCQAATgcBAI02AACQPgAAkgkAAP0UAABoKAAA46UAAOkpAABJJAAAwgUAAG4PAACRFwAAKoAAAHsXAAARCwAAERgAAOYVAAADBgAAbBAAAFqFAABgMAAAuBcAAPkDAACtCAAAMhAAAG0UAABX0wAAKzkAAL0LAAC4BAAAQhgAAEtBAAA=",
          "dtype": "i4"
         }
        },
        {
         "line": {
          "dash": "dash"
         },
         "mode": "lines",
         "name": "Tendência NO2",
         "type": "scatter",
         "x": {
          "bdata": "F5ixfMTQI0AR96paH7slQHi2dhp+UTJABHhGgGfUI0BbEhK7z+EYQJiJS2zM+AFAKT9HV0nyJUD5xZJfLPknQLOmJvJUODNA35zVWF/dCECzpK+LbycnQBoNLfHd4xxAAAAAAABYKkDYTByL8hcpQGZM+5ZkTjRAmPHruyMWKUCFheNPezgbQDwkqgjx9gNAJNXoI9XoJUD77y0c25QnQGx4eqUsMzFAYYeuqn5wMkC0NYSfhxwqQI2hmixS7hlAmTbNHdEaB0C+CCDGH0IoQLTC5kCiFShAdhifq6S6QEBDWTpaAT0vQLPf/bdx+iBAJncblqUqHkCZdHhsP0IUQCV6zyR6zypAZBSbOI80KUCeFgX1kOpFQCcZNP5pgjRAVTnzXiMAIUCjDCwFpZ8gQOK2Aa+DzhJAJchTgjwlOkCIQM9uF7skQL7X5nttxktAJkDQcTkwEUAUn+igMDgnQCp0iCj/oRxAV9gcSLTCK0AwHLo81/wgQFcOc9GRw0dArax8ujd8DUDMZQ421AYgQEm/cK7ptyBAvlbPDoEbLUB1H6/g/t4aQCEUDEfzkRtA67D80niXQkAb5W/9GZscQBmow7H5xgxAvjhLm0vSG0BR3ArFrVAuQKcYGpUjECRAx+bsE/BZQUCAg4nD9MEHQNyuDqvi8ixApIuMgu7EHkCZl6cRp3geQBrPeMYznixAWwCMIq/fIUAkNosPiMMwQLInfzrP8QlAGJPXYuGcFUA214r/ly0lQA==",
          "dtype": "f8"
         },
         "y": {
          "bdata": "/3D03ooO00CPFjhxD1PTQNWFAFNBaNVAQahq9gwP00DdClvXvwbSQLXx6gRw6tBA80o9ucRa00CBHQ/qRaPTQM9llBrEqNVAvhsWPRQo0UC8aaxa94XTQFC4CXJvTtJAONbD0BD400A2rPooWMvTQOm0WD959tVAGTS/fRfL00BvNctokzDSQOC0YR9C/NBAqCnTi3JZ00AFIitxQZXTQOMOF3M9GNVAK9JZS+tw1UDUHvV+we/TQH6VtEqCGdJAOE5jA1cY0UCznQdzd63TQJiwiPo/p9NA7KC/tGSj2UA+54JIJqfUQCFDQG8NqdJAq0BEGERl0kDA6VscD7TRQLlV+6bCCNRAU4JJpVfP00D8JpMnmoncQNsBmPUCBdZA+p8tHdmp0kAmMyNtXZzSQJRtF3EWmtFAWu3v2TmY10AkelLqSC/TQEIBblzpz99AejhTnyR90UA8UTKsTojTQApcRFHVSdJAPjO5K78q1EA+34YpY6nSQF2nlLH5kd1AWrvGLWZR0UCrqvAHA4fSQEKzT4fBn9JA6vdQEe1a1EC4lQTmUirSQBHlo5vTNtJAFGOMmOet2kB4VjL+WUnSQNxwwl0RS9FAuIXmdFI70kBWl4SbIIbUQJ6aF75lF9NAaaSSUW382UBKv3a0LR7RQGemuhZAVdRAjgHlkQtw0kAM0SpGt2rSQKNCUd9qSdRANZphnRXJ0kCUR/xACvnUQHH2mlu8MdFAjn3T1kbM0UAbSyXLSD/TQA==",
          "dtype": "f8"
         }
        },
        {
         "hovertext": [
          "UF: BA<br>Mês: Janeiro",
          "UF: MG<br>Mês: Janeiro",
          "UF: MS<br>Mês: Janeiro",
          "UF: RJ<br>Mês: Janeiro",
          "UF: RS<br>Mês: Janeiro",
          "UF: SP<br>Mês: Janeiro",
          "UF: ES<br>Mês: Janeiro",
          "UF: BA<br>Mês: Fevereiro",
          "UF: ES<br>Mês: Fevereiro",
          "UF: MG<br>Mês: Fevereiro",
          "UF: RJ<br>Mês: Fevereiro",
          "UF: RS<br>Mês: Fevereiro",
          "UF: SP<br>Mês: Fevereiro",
          "UF: BA<br>Mês: Março",
          "UF: ES<br>Mês: Março",
          "UF: MG<br>Mês: Março",
          "UF: RJ<br>Mês: Março",
          "UF: RS<br>Mês: Março",
          "UF: SP<br>Mês: Março",
          "UF: ES<br>Mês: Abril",
          "UF: BA<br>Mês: Abril",
          "UF: MS<br>Mês: Abril",
          "UF: RJ<br>Mês: Abril",
          "UF: RS<br>Mês: Abril",
          "UF: SP<br>Mês: Abril",
          "UF: MG<br>Mês: Abril",
          "UF: BA<br>Mês: Maio",
          "UF: MG<br>Mês: Maio",
          "UF: MS<br>Mês: Maio",
          "UF: RJ<br>Mês: Maio",
          "UF: RS<br>Mês: Maio",
          "UF: SP<br>Mês: Maio",
          "UF: ES<br>Mês: Maio",
          "UF: BA<br>Mês: Junho",
          "UF: MG<br>Mês: Junho",
          "UF: MS<br>Mês: Junho",
          "UF: RJ<br>Mês: Junho",
          "UF: RS<br>Mês: Junho",
          "UF: SP<br>Mês: Junho",
          "UF: ES<br>Mês: Junho",
          "UF: ES<br>Mês: Julho",
          "UF: MS<br>Mês: Julho",
          "UF: RJ<br>Mês: Julho",
          "UF: RS<br>Mês: Julho",
          "UF: SP<br>Mês: Julho",
          "UF: BA<br>Mês: Julho",
          "UF: RS<br>Mês: Agosto",
          "UF: ES<br>Mês: Agosto",
          "UF: MS<br>Mês: Agosto",
          "UF: RJ<br>Mês: Agosto",
          "UF: SP<br>Mês: Agosto",
          "UF: BA<br>Mês: Agosto",
          "UF: SP<br>Mês: Setembro",
          "UF: BA<br>Mês: Setembro",
          "UF: MS<br>Mês: Setembro",
          "UF: RJ<br>Mês: Setembro",
          "UF: RS<br>Mês: Setembro",
          "UF: ES<br>Mês: Setembro",
          "UF: ES<br>Mês: Outubro",
          "UF: MS<br>Mês: Outubro",
          "UF: PR<br>Mês: Outubro",
          "UF: RJ<br>Mês: Outubro",
          "UF: RS<br>Mês: Outubro",
          "UF: SP<br>Mês: Outubro",
          "UF: BA<br>Mês: Outubro",
          "UF: BA<br>Mês: Novembro",
          "UF: ES<br>Mês: Novembro",
          "UF: MG<br>Mês: Novembro",
          "UF: MS<br>Mês: Novembro",
          "UF: PR<br>Mês: Novembro",
          "UF: RS<br>Mês: Novembro",
          "UF: SP<br>Mês: Novembro"
         ],
         "mode": "markers",
         "name": "MP10",
         "type": "scatter",
         "x": {
          "bdata": "xLXYnmKpK0D4aJwCM8E3QIXrUbgehe8/3HvgOZatPEBs4ncLhUEyQK/H2SXOazJAmIyvsF2jLUBDNESsFrUwQICubZGaii1Avs/9H3fhNECYyA5aMGk8QGYV3CCbOzFATcDWi/rzM0BGadGLQDgqQGbpILxcvytAhXri1e/4OkAtFFZ0ItVDQB8+w64AySlAbueVRFnCNUBKkKcEeQoqQPBlE2ITkSxA3nGKjuTyvz8ZGkNOmc9AQEJ/BgRv/CtA2IcZYwFCOUB8D0RhLJ48QPeKuYqXpzBAdMDHWawvP0CF61G4HoXvP7GlVB2as0FAFnSk02vjOkBr7YB0Zb86QKY6W6qzgjVAytFoDzxWM0ABsNIydgZFQMCCJTyenNU/QY0qVU3WQ0B0tHE3acs4QD02HBLtDz1AFrSIpazjJ0C9KC3ZFDcoQNO84xQdydU/nakEafLzSUBE6Myp9Jw6QMlXaX5khUNAVYfv+XzdLEDVtG0ichI4QOdTrPT74i9AzhJFk7ea5T8gh4q5PH1DQIGqkjgfJEFABFHv17ogL0DHDIF4u60+QIjET1h7tzFA2WuXH+l+QUD9IdPcuWY6QLxN6Qv7pTRABUh3a679MUCtGQo5mQgwQD+H1ATjrTpAYrZALaOfLUAtnizOeQxAQM9wYbh0jDBAhzd0WB4yOUChH5zE7vAxQFC8FpXL8TJAF74IeyUKLUC/SB61Y+c3QEmSJEmSlDpArVfQjBBdLUABvj6s+pE0QCmllFJKqTZA",
          "dtype": "f8"
         },
         "y": {
          "bdata": "pUYAAJsSAQC9LgAAjZsAACVZAACrUgIA4g8AANc9AAAcDgAAkcsAAMNYAACBXQAAQZABANEiAADoCgAAaWYAAGwyAAACKgAAstEAAEYHAACcFwAA+A8AALknAAAfIQAAg6MAAIA9AADKGwAA+1QAAKoRAAAaOwAARDUAADrpAADbBgAAYx4AAO6SAADeFQAAQWAAAN89AACbVgEAagkAAJIJAAD9FAAAkD4AAI02AABOBwEAaCgAAOkpAADCBQAAbg8AAEkkAADjpQAAkRcAACqAAADmFQAAEQsAABEYAAB7FwAAAwYAAPkDAACtCAAAYDAAALgXAABsEAAAWoUAADIQAABCGAAAuAQAAEtBAAC9CwAAKzkAAG0UAABX0wAA",
          "dtype": "i4"
         }
        },
        {
         "line": {
          "dash": "dash"
         },
         "mode": "lines",
         "name": "Tendência MP10",
         "type": "scatter",
         "x": {
          "bdata": "xLXYnmKpK0D4aJwCM8E3QIXrUbgehe8/3HvgOZatPEBs4ncLhUEyQK/H2SXOazJAmIyvsF2jLUBDNESsFrUwQICubZGaii1Avs/9H3fhNECYyA5aMGk8QGYV3CCbOzFATcDWi/rzM0BGadGLQDgqQGbpILxcvytAhXri1e/4OkAtFFZ0ItVDQB8+w64AySlAbueVRFnCNUBKkKcEeQoqQPBlE2ITkSxA3nGKjuTyvz8ZGkNOmc9AQEJ/BgRv/CtA2IcZYwFCOUB8D0RhLJ48QPeKuYqXpzBAdMDHWawvP0CF61G4HoXvP7GlVB2as0FAFnSk02vjOkBr7YB0Zb86QKY6W6qzgjVAytFoDzxWM0ABsNIydgZFQMCCJTyenNU/QY0qVU3WQ0B0tHE3acs4QD02HBLtDz1AFrSIpazjJ0C9KC3ZFDcoQNO84xQdydU/nakEafLzSUBE6Myp9Jw6QMlXaX5khUNAVYfv+XzdLEDVtG0ichI4QOdTrPT74i9AzhJFk7ea5T8gh4q5PH1DQIGqkjgfJEFABFHv17ogL0DHDIF4u60+QIjET1h7tzFA2WuXH+l+QUD9IdPcuWY6QLxN6Qv7pTRABUh3a679MUCtGQo5mQgwQD+H1ATjrTpAYrZALaOfLUAtnizOeQxAQM9wYbh0jDBAhzd0WB4yOUChH5zE7vAxQFC8FpXL8TJAF74IeyUKLUC/SB61Y+c3QEmSJEmSlDpArVfQjBBdLUABvj6s+pE0QCmllFJKqTZA",
          "dtype": "f8"
         },
         "y": {
          "bdata": "hDG0SpJjzkAfHJw9rUjVQKQsJtiUP71Apc3mhRFO2EDcYoeP5+jRQHEhcP/ZAtJA4ODXZQyaz0Bu0ncUpvXQQFQUVJ/ais9AJLrlTDiF00Ctixk3GSTYQGECVMcwSNFAPGrAp37z0kAeKAruEIHNQD0QO44Occ5ANM1FQiJC10D5TLdn+AvfQPd92kfNPM1ApBKbKDYP1ECWMi2p+WTNQAigPXK98c5A0WKyIBUju0BFRMdPqlbbQL95/PiHls5AGGTJm8w01kCCDrdLnETYQOUMYvZd7dBASCuu0g/Y2UCkLCbYlD+9QFDqcix6btxAjGZld+4010BuuO980x7XQBMrKCwo6NNAaVk/Y7OS0kBk+VaWVkHgQPfina3YqLtA1shvMmcN30D2lx4tB+zVQLBUaSppithA4QqpX/8SzEBQcmNjLUbMQMrt+4aNqrtA90jtSmdH40CuvBRhsQnXQDFF6c8bqt5AA5/Mt6Agz0CNGQnhh3rVQIZwKcOgfdBAzF8ApOF8vECv9oOkGaDeQF1H//lkvttAFIJmhAdC0EBvKQgFVIjZQMpXetgzlNFA+PafGdAt3EAdqQGyaujWQKlviyK4YNNA3EITJ0e/0UABnNRwzovQQPsJXgAVFNdATRrgscKXz0CYKvZoNGfaQG7FPEu33NBAN4qVAw0r1kDUdo2HdLfRQIg2gdgRVdJAJCB63Qc8z0DCzXJcHGDVQEuT2FSMBNdAE4bFGOluz0BgNGozclTTQGlop63rnNRA",
          "dtype": "f8"
         }
        }
       ],
       "layout": {
        "height": 600,
        "template": {
         "data": {
          "bar": [
           {
            "error_x": {
             "color": "#2a3f5f"
            },
            "error_y": {
             "color": "#2a3f5f"
            },
            "marker": {
             "line": {
              "color": "#E5ECF6",
              "width": 0.5
             },
             "pattern": {
              "fillmode": "overlay",
              "size": 10,
              "solidity": 0.2
             }
            },
            "type": "bar"
           }
          ],
          "barpolar": [
           {
            "marker": {
             "line": {
              "color": "#E5ECF6",
              "width": 0.5
             },
             "pattern": {
              "fillmode": "overlay",
              "size": 10,
              "solidity": 0.2
             }
            },
            "type": "barpolar"
           }
          ],
          "carpet": [
           {
            "aaxis": {
             "endlinecolor": "#2a3f5f",
             "gridcolor": "white",
             "linecolor": "white",
             "minorgridcolor": "white",
             "startlinecolor": "#2a3f5f"
            },
            "baxis": {
             "endlinecolor": "#2a3f5f",
             "gridcolor": "white",
             "linecolor": "white",
             "minorgridcolor": "white",
             "startlinecolor": "#2a3f5f"
            },
            "type": "carpet"
           }
          ],
          "choropleth": [
           {
            "colorbar": {
             "outlinewidth": 0,
             "ticks": ""
            },
            "type": "choropleth"
           }
          ],
          "contour": [
           {
            "colorbar": {
             "outlinewidth": 0,
             "ticks": ""
            },
            "colorscale": [
             [
              0,
              "#0d0887"
             ],
             [
              0.1111111111111111,
              "#46039f"
             ],
             [
              0.2222222222222222,
              "#7201a8"
             ],
             [
              0.3333333333333333,
              "#9c179e"
             ],
             [
              0.4444444444444444,
              "#bd3786"
             ],
             [
              0.5555555555555556,
              "#d8576b"
             ],
             [
              0.6666666666666666,
              "#ed7953"
             ],
             [
              0.7777777777777778,
              "#fb9f3a"
             ],
             [
              0.8888888888888888,
              "#fdca26"
             ],
             [
              1,
              "#f0f921"
             ]
            ],
            "type": "contour"
           }
          ],
          "contourcarpet": [
           {
            "colorbar": {
             "outlinewidth": 0,
             "ticks": ""
            },
            "type": "contourcarpet"
           }
          ],
          "heatmap": [
           {
            "colorbar": {
             "outlinewidth": 0,
             "ticks": ""
            },
            "colorscale": [
             [
              0,
              "#0d0887"
             ],
             [
              0.1111111111111111,
              "#46039f"
             ],
             [
              0.2222222222222222,
              "#7201a8"
             ],
             [
              0.3333333333333333,
              "#9c179e"
             ],
             [
              0.4444444444444444,
              "#bd3786"
             ],
             [
              0.5555555555555556,
              "#d8576b"
             ],
             [
              0.6666666666666666,
              "#ed7953"
             ],
             [
              0.7777777777777778,
              "#fb9f3a"
             ],
             [
              0.8888888888888888,
              "#fdca26"
             ],
             [
              1,
              "#f0f921"
             ]
            ],
            "type": "heatmap"
           }
          ],
          "histogram": [
           {
            "marker": {
             "pattern": {
              "fillmode": "overlay",
              "size": 10,
              "solidity": 0.2
             }
            },
            "type": "histogram"
           }
          ],
          "histogram2d": [
           {
            "colorbar": {
             "outlinewidth": 0,
             "ticks": ""
            },
            "colorscale": [
             [
              0,
              "#0d0887"
             ],
             [
              0.1111111111111111,
              "#46039f"
             ],
             [
              0.2222222222222222,
              "#7201a8"
             ],
             [
              0.3333333333333333,
              "#9c179e"
             ],
             [
              0.4444444444444444,
              "#bd3786"
             ],
             [
              0.5555555555555556,
              "#d8576b"
             ],
             [
              0.6666666666666666,
              "#ed7953"
             ],
             [
              0.7777777777777778,
              "#fb9f3a"
             ],
             [
              0.8888888888888888,
              "#fdca26"
             ],
             [
              1,
              "#f0f921"
             ]
            ],
            "type": "histogram2d"
           }
          ],
          "histogram2dcontour": [
           {
            "colorbar": {
             "outlinewidth": 0,
             "ticks": ""
            },
            "colorscale": [
             [
              0,
              "#0d0887"
             ],
             [
              0.1111111111111111,
              "#46039f"
             ],
             [
              0.2222222222222222,
              "#7201a8"
             ],
             [
              0.3333333333333333,
              "#9c179e"
             ],
             [
              0.4444444444444444,
              "#bd3786"
             ],
             [
              0.5555555555555556,
              "#d8576b"
             ],
             [
              0.6666666666666666,
              "#ed7953"
             ],
             [
              0.7777777777777778,
              "#fb9f3a"
             ],
             [
              0.8888888888888888,
              "#fdca26"
             ],
             [
              1,
              "#f0f921"
             ]
            ],
            "type": "histogram2dcontour"
           }
          ],
          "mesh3d": [
           {
            "colorbar": {
             "outlinewidth": 0,
             "ticks": ""
            },
            "type": "mesh3d"
           }
          ],
          "parcoords": [
           {
            "line": {
             "colorbar": {
              "outlinewidth": 0,
              "ticks": ""
             }
            },
            "type": "parcoords"
           }
          ],
          "pie": [
           {
            "automargin": true,
            "type": "pie"
           }
          ],
          "scatter": [
           {
            "fillpattern": {
             "fillmode": "overlay",
             "size": 10,
             "solidity": 0.2
            },
            "type": "scatter"
           }
          ],
          "scatter3d": [
           {
            "line": {
             "colorbar": {
              "outlinewidth": 0,
              "ticks": ""
             }
            },
            "marker": {
             "colorbar": {
              "outlinewidth": 0,
              "ticks": ""
             }
            },
            "type": "scatter3d"
           }
          ],
          "scattercarpet": [
           {
            "marker": {
             "colorbar": {
              "outlinewidth": 0,
              "ticks": ""
             }
            },
            "type": "scattercarpet"
           }
          ],
          "scattergeo": [
           {
            "marker": {
             "colorbar": {
              "outlinewidth": 0,
              "ticks": ""
             }
            },
            "type": "scattergeo"
           }
          ],
          "scattergl": [
           {
            "marker": {
             "colorbar": {
              "outlinewidth": 0,
              "ticks": ""
             }
            },
            "type": "scattergl"
           }
          ],
          "scattermap": [
           {
            "marker": {
             "colorbar": {
              "outlinewidth": 0,
              "ticks": ""
             }
            },
            "type": "scattermap"
           }
          ],
          "scattermapbox": [
           {
            "marker": {
             "colorbar": {
              "outlinewidth": 0,
              "ticks": ""
             }
            },
            "type": "scattermapbox"
           }
          ],
          "scatterpolar": [
           {
            "marker": {
             "colorbar": {
              "outlinewidth": 0,
              "ticks": ""
             }
            },
            "type": "scatterpolar"
           }
          ],
          "scatterpolargl": [
           {
            "marker": {
             "colorbar": {
              "outlinewidth": 0,
              "ticks": ""
             }
            },
            "type": "scatterpolargl"
           }
          ],
          "scatterternary": [
           {
            "marker": {
             "colorbar": {
              "outlinewidth": 0,
              "ticks": ""
             }
            },
            "type": "scatterternary"
           }
          ],
          "surface": [
           {
            "colorbar": {
             "outlinewidth": 0,
             "ticks": ""
            },
            "colorscale": [
             [
              0,
              "#0d0887"
             ],
             [
              0.1111111111111111,
              "#46039f"
             ],
             [
              0.2222222222222222,
              "#7201a8"
             ],
             [
              0.3333333333333333,
              "#9c179e"
             ],
             [
              0.4444444444444444,
              "#bd3786"
             ],
             [
              0.5555555555555556,
              "#d8576b"
             ],
             [
              0.6666666666666666,
              "#ed7953"
             ],
             [
              0.7777777777777778,
              "#fb9f3a"
             ],
             [
              0.8888888888888888,
              "#fdca26"
             ],
             [
              1,
              "#f0f921"
             ]
            ],
            "type": "surface"
           }
          ],
          "table": [
           {
            "cells": {
             "fill": {
              "color": "#EBF0F8"
             },
             "line": {
              "color": "white"
             }
            },
            "header": {
             "fill": {
              "color": "#C8D4E3"
             },
             "line": {
              "color": "white"
             }
            },
            "type": "table"
           }
          ]
         },
         "layout": {
          "annotationdefaults": {
           "arrowcolor": "#2a3f5f",
           "arrowhead": 0,
           "arrowwidth": 1
          },
          "autotypenumbers": "strict",
          "coloraxis": {
           "colorbar": {
            "outlinewidth": 0,
            "ticks": ""
           }
          },
          "colorscale": {
           "diverging": [
            [
             0,
             "#8e0152"
            ],
            [
             0.1,
             "#c51b7d"
            ],
            [
             0.2,
             "#de77ae"
            ],
            [
             0.3,
             "#f1b6da"
            ],
            [
             0.4,
             "#fde0ef"
            ],
            [
             0.5,
             "#f7f7f7"
            ],
            [
             0.6,
             "#e6f5d0"
            ],
            [
             0.7,
             "#b8e186"
            ],
            [
             0.8,
             "#7fbc41"
            ],
            [
             0.9,
             "#4d9221"
            ],
            [
             1,
             "#276419"
            ]
           ],
           "sequential": [
            [
             0,
             "#0d0887"
            ],
            [
             0.1111111111111111,
             "#46039f"
            ],
            [
             0.2222222222222222,
             "#7201a8"
            ],
            [
             0.3333333333333333,
             "#9c179e"
            ],
            [
             0.4444444444444444,
             "#bd3786"
            ],
            [
             0.5555555555555556,
             "#d8576b"
            ],
            [
             0.6666666666666666,
             "#ed7953"
            ],
            [
             0.7777777777777778,
             "#fb9f3a"
            ],
            [
             0.8888888888888888,
             "#fdca26"
            ],
            [
             1,
             "#f0f921"
            ]
           ],
           "sequentialminus": [
            [
             0,
             "#0d0887"
            ],
            [
             0.1111111111111111,
             "#46039f"
            ],
            [
             0.2222222222222222,
             "#7201a8"
            ],
            [
             0.3333333333333333,
             "#9c179e"
            ],
            [
             0.4444444444444444,
             "#bd3786"
            ],
            [
             0.5555555555555556,
             "#d8576b"
            ],
            [
             0.6666666666666666,
             "#ed7953"
            ],
            [
             0.7777777777777778,
             "#fb9f3a"
            ],
            [
             0.8888888888888888,
             "#fdca26"
            ],
            [
             1,
             "#f0f921"
            ]
           ]
          },
          "colorway": [
           "#636efa",
           "#EF553B",
           "#00cc96",
           "#ab63fa",
           "#FFA15A",
           "#19d3f3",
           "#FF6692",
           "#B6E880",
           "#FF97FF",
           "#FECB52"
          ],
          "font": {
           "color": "#2a3f5f"
          },
          "geo": {
           "bgcolor": "white",
           "lakecolor": "white",
           "landcolor": "#E5ECF6",
           "showlakes": true,
           "showland": true,
           "subunitcolor": "white"
          },
          "hoverlabel": {
           "align": "left"
          },
          "hovermode": "closest",
          "mapbox": {
           "style": "light"
          },
          "paper_bgcolor": "white",
          "plot_bgcolor": "#E5ECF6",
          "polar": {
           "angularaxis": {
            "gridcolor": "white",
            "linecolor": "white",
            "ticks": ""
           },
           "bgcolor": "#E5ECF6",
           "radialaxis": {
            "gridcolor": "white",
            "linecolor": "white",
            "ticks": ""
           }
          },
          "scene": {
           "xaxis": {
            "backgroundcolor": "#E5ECF6",
            "gridcolor": "white",
            "gridwidth": 2,
            "linecolor": "white",
            "showbackground": true,
            "ticks": "",
            "zerolinecolor": "white"
           },
           "yaxis": {
            "backgroundcolor": "#E5ECF6",
            "gridcolor": "white",
            "gridwidth": 2,
            "linecolor": "white",
            "showbackground": true,
            "ticks": "",
            "zerolinecolor": "white"
           },
           "zaxis": {
            "backgroundcolor": "#E5ECF6",
            "gridcolor": "white",
            "gridwidth": 2,
            "linecolor": "white",
            "showbackground": true,
            "ticks": "",
            "zerolinecolor": "white"
           }
          },
          "shapedefaults": {
           "line": {
            "color": "#2a3f5f"
           }
          },
          "ternary": {
           "aaxis": {
            "gridcolor": "white",
            "linecolor": "white",
            "ticks": ""
           },
           "baxis": {
            "gridcolor": "white",
            "linecolor": "white",
            "ticks": ""
           },
           "bgcolor": "#E5ECF6",
           "caxis": {
            "gridcolor": "white",
            "linecolor": "white",
            "ticks": ""
           }
          },
          "title": {
           "x": 0.05
          },
          "xaxis": {
           "automargin": true,
           "gridcolor": "white",
           "linecolor": "white",
           "ticks": "",
           "title": {
            "standoff": 15
           },
           "zerolinecolor": "white",
           "zerolinewidth": 2
          },
          "yaxis": {
           "automargin": true,
           "gridcolor": "white",
           "linecolor": "white",
           "ticks": "",
           "title": {
            "standoff": 15
           },
           "zerolinecolor": "white",
           "zerolinewidth": 2
          }
         }
        },
        "title": {
         "text": "Correlação entre Poluição e Casos de Saúde"
        },
        "width": 1000,
        "xaxis": {
         "title": {
          "text": "Média Mensal de Poluição (µg/m³)"
         }
        },
        "yaxis": {
         "title": {
          "text": "Número Total de Casos de Saúde"
         }
        }
       }
      }
     },
     "metadata": {},
     "output_type": "display_data"
    }
   ],
   "source": [
    "fig = go.Figure()\n",
    "\n",
    "for poluente in df['poluente'].unique():\n",
    "    subset = df[df['poluente'] == poluente]\n",
    "    \n",
    "    # Adicionar pontos\n",
    "    fig.add_trace(go.Scatter(\n",
    "        x=subset['media_poluicao'],\n",
    "        y=subset['numero_total_casos'],\n",
    "        mode='markers',\n",
    "        name=poluente,\n",
    "        hovertext=subset.apply(lambda row: f\"UF: {row['uf']}<br>Mês: {row['mes']}\", axis=1)\n",
    "    ))\n",
    "    \n",
    "    # Calcular regressão linear manualmente\n",
    "    x = subset['media_poluicao'].values\n",
    "    y = subset['numero_total_casos'].values\n",
    "    coeffs = np.polyfit(x, y, 1)\n",
    "    trendline = np.poly1d(coeffs)\n",
    "    \n",
    "    # Adicionar linha de tendência\n",
    "    fig.add_trace(go.Scatter(\n",
    "        x=x,\n",
    "        y=trendline(x),\n",
    "        mode='lines',\n",
    "        name=f'Tendência {poluente}',\n",
    "        line=dict(dash='dash')\n",
    "    ))\n",
    "\n",
    "fig.update_layout(\n",
    "    title='Correlação entre Poluição e Casos de Saúde',\n",
    "    xaxis_title='Média Mensal de Poluição (µg/m³)',\n",
    "    yaxis_title='Número Total de Casos de Saúde',\n",
    "    width=1000,\n",
    "    height=600\n",
    ")\n",
    "\n",
    "fig.show()"
   ]
  }
 ],
 "metadata": {
  "kernelspec": {
   "display_name": "air-quality",
   "language": "python",
   "name": "python3"
  },
  "language_info": {
   "codemirror_mode": {
    "name": "ipython",
    "version": 3
   },
   "file_extension": ".py",
   "mimetype": "text/x-python",
   "name": "python",
   "nbconvert_exporter": "python",
   "pygments_lexer": "ipython3",
   "version": "3.12.7"
  }
 },
 "nbformat": 4,
 "nbformat_minor": 5
}
