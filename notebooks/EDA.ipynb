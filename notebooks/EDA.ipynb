{
 "cells": [
  {
   "cell_type": "markdown",
   "id": "3a533994",
   "metadata": {},
   "source": [
    "# Análise Exploratória (EDA)"
   ]
  },
  {
   "cell_type": "code",
   "execution_count": 42,
   "id": "a3354b63",
   "metadata": {},
   "outputs": [],
   "source": [
    "import pandas as pd\n",
    "import numpy as np\n",
    "import matplotlib.pyplot as plt\n",
    "import seaborn as sns\n",
    "import plotly as py\n",
    "import plotly.graph_objs as go\n",
    "import itertools\n",
    "import locale"
   ]
  },
  {
   "cell_type": "code",
   "execution_count": 43,
   "id": "28f59e73",
   "metadata": {},
   "outputs": [],
   "source": [
    "df_sus = pd.read_csv('../data/opendatasus/opendatasus.csv', encoding='latin1', sep=';', low_memory=False)\n",
    "df_estacoes = pd.read_csv('../data/estacoes_monitorar/estacoes.csv', encoding='utf_8_sig', sep=';', low_memory=False)\n",
    "df_medidas_jan_mar = pd.read_csv('../data/medidas_monitorar/medidas_jan_mar.csv', encoding='latin1', sep=';', low_memory=False, decimal='.')\n",
    "df_medidas_abr_jun = pd.read_csv('../data/medidas_monitorar/medidas_abr_jun.csv', encoding='latin1', sep=';', low_memory=False, decimal='.')\n",
    "df_medidas_jul_nov = pd.read_csv('../data/medidas_monitorar/medidas_jul_nov.csv', encoding='latin1', sep=';', low_memory=False, decimal='.')"
   ]
  },
  {
   "cell_type": "code",
   "execution_count": 44,
   "id": "a078f541",
   "metadata": {},
   "outputs": [],
   "source": [
    "# Useful columns \n",
    "df_sus = df_sus[['DT_SIN_PRI', 'CS_SEXO', 'DT_NASC', 'CS_RACA', 'CS_ESCOL_N', 'SG_UF', 'ID_MN_RESI', 'CO_MUN_RES', \n",
    "                'CLASSI_FIN', 'CRITERIO', 'EVOLUCAO', 'DT_EVOLUCA']]\n",
    "\n",
    "df_estacoes = df_estacoes[['Código IBGE do Município', 'Nome do Município', 'Estado', 'ID da Estação', 'Nome da Estação', 'Latitude', 'Longitude']]\n",
    "\n",
    "df_medidas = pd.concat([df_medidas_jan_mar,df_medidas_abr_jun, df_medidas_jul_nov])\n",
    "\n",
    "df_medidas = df_medidas[['Nome do Município', 'Estado', 'Nome da Estação', 'Item_monitorado', 'Sigla', 'Concentracao', 'iqar', 'Data']]"
   ]
  },
  {
   "cell_type": "code",
   "execution_count": 23,
   "id": "003dab38",
   "metadata": {},
   "outputs": [
    {
     "data": {
      "text/plain": [
       "Nome do Município          0\n",
       "Estado                     0\n",
       "Nome da Estação            0\n",
       "Item_monitorado            0\n",
       "Sigla                      0\n",
       "Concentracao               0\n",
       "iqar                 1045240\n",
       "Data                       0\n",
       "dtype: int64"
      ]
     },
     "execution_count": 23,
     "metadata": {},
     "output_type": "execute_result"
    }
   ],
   "source": [
    "df_medidas.isnull().sum()"
   ]
  },
  {
   "cell_type": "code",
   "execution_count": null,
   "id": "839e823b",
   "metadata": {},
   "outputs": [],
   "source": [
    "# Renaming columns datasus\n",
    "df_sus.columns = df_sus.columns.str.lower()"
   ]
  },
  {
   "cell_type": "code",
   "execution_count": 24,
   "id": "16b3b4b9",
   "metadata": {},
   "outputs": [],
   "source": [
    "# Renaming columns df_estacoes\n",
    "new_names = ['codigo_mun', 'nome_mun', 'uf', 'id_estacao', 'nome_estacao', 'latitude', 'longitude']\n",
    "dict_names = {}\n",
    "\n",
    "for i, j in zip(df_estacoes.columns, new_names):\n",
    "    dict_names[i] = j\n",
    "\n",
    "df_estacoes.rename(columns=dict_names, inplace=True)"
   ]
  },
  {
   "cell_type": "code",
   "execution_count": 46,
   "id": "dfb32532",
   "metadata": {},
   "outputs": [],
   "source": [
    "# Renaming column df_medidas\n",
    "new_names = ['nome_mun', 'uf', 'nome_estacao', 'item_monitorado', 'sigla', 'concentracao', 'iqar', 'data']\n",
    "dict_names = {}\n",
    "\n",
    "for i, j in zip(df_medidas.columns, new_names):\n",
    "    dict_names[i] = j\n",
    "\n",
    "df_medidas.rename(columns=dict_names, inplace=True)"
   ]
  },
  {
   "cell_type": "markdown",
   "id": "1cc8acbf",
   "metadata": {},
   "source": [
    "### DFS:\n",
    "\n",
    "* df_sus: Dados do OpenDataSUS apenas com as colunas que vamos utilizar para a análise\n",
    "    - Colunas:\n",
    "        - Data dos primeiros sintomas (dt_sin_pri)\n",
    "        - Sexo (Masculino ou Femino) (cs_sexo)\n",
    "            - 1: Masculino\n",
    "            - 2: Feminino\n",
    "            - 3: Ignorado\n",
    "        - Data de Nascimento (dt_nasc)\n",
    "        - Raca (cs_raca)\n",
    "            - 1: Branca\n",
    "            - 2: Preta\n",
    "            - 3: Amarela\n",
    "            - 4: Parda\n",
    "            - 5: Indígena\n",
    "            - 9: Ignorado \n",
    "        - Nivel de escolaridade (cs_escol_n)\n",
    "            - 0: Sem Escolaridade/Analfabeto\n",
    "            - 1: Fundamental 1º ciclo (1ª a 5ª série)\n",
    "            - 2: Fundamental 2º ciclo (6ª a 9ª série)\n",
    "            - 3: Médio (1º ao 3º ano)\n",
    "            - 4: Superior\n",
    "            - 5: Não se aplica\n",
    "            - 9: Ignorado\n",
    "        - UF de moradia (sg_uf)\n",
    "        - Nome do município de residência (id_mn_resi)\n",
    "        - ID IBGE do município (co_mun_res)\n",
    "        - Classificação final do caso (classi_fin)\n",
    "            - 1: SRAG por Influenza\n",
    "            - 2: SRAG por outro vírus resporatório\n",
    "            - 3: SRAG por outro agente etiológico\n",
    "            - 4: SRAG não especificado\n",
    "            - 5: SRAG por covid-19\n",
    "        - Criterio adotado para evolução do caso (criterio)\n",
    "            - 1: Laboratorial\n",
    "            - 2: Clínico Epidemiológico\n",
    "            - 3: Clínico\n",
    "            - 4: Clínico imagem\n",
    "        - Evolução do caso, se deu alta ou óbito (evolucao)\n",
    "            - 1: Cura\n",
    "            - 2: Óbito\n",
    "            - 3: Óbito por outras causas\n",
    "            - 9: Ignorado\n",
    "        - Data da evolucao (dt_evolucao)\n",
    "\n",
    "* df_medidas: medidas do MonitorAr\n",
    "\n",
    "* df_estacoes: dados sobre as estacoes\n",
    "    - Código do munícipio de acordo com IBGE (codigo_mun)\n",
    "    - Nome do município (nome_mun)\n",
    "    - Estado de localização (uf)\n",
    "    - ID da estação (id_estacao)\n",
    "    - Nome da estação (nome_estacao)\n",
    "    - Latitude e longitude da localizacação (latitude e longitude)"
   ]
  },
  {
   "cell_type": "code",
   "execution_count": 221,
   "id": "961b45d4",
   "metadata": {},
   "outputs": [
    {
     "data": {
      "text/plain": [
       "dt_sin_pri         0\n",
       "cs_sexo            0\n",
       "dt_nasc         2139\n",
       "cs_raca        43310\n",
       "cs_escol_n    359611\n",
       "sg_uf            113\n",
       "id_mn_resi       113\n",
       "co_mun_res       113\n",
       "classi_fin     32862\n",
       "criterio       55277\n",
       "evolucao       76522\n",
       "dt_evoluca    152891\n",
       "dtype: int64"
      ]
     },
     "execution_count": 221,
     "metadata": {},
     "output_type": "execute_result"
    }
   ],
   "source": [
    "# Veryfing null/na columns\n",
    "sus_null_columns = df_sus.isna().sum()\n",
    "sus_null_columns\n"
   ]
  },
  {
   "cell_type": "code",
   "execution_count": 300,
   "id": "4d9f6dad",
   "metadata": {},
   "outputs": [
    {
     "data": {
      "text/plain": [
       "nome_mun                 0\n",
       "uf                       0\n",
       "nome_estacao             0\n",
       "item_monitorado          0\n",
       "sigla                    0\n",
       "concentracao             0\n",
       "iqar               1045240\n",
       "data                     0\n",
       "dtype: int64"
      ]
     },
     "execution_count": 300,
     "metadata": {},
     "output_type": "execute_result"
    }
   ],
   "source": [
    "medidas_null_columns  = df_medidas.isnull().sum()\n",
    "medidas_null_columns"
   ]
  },
  {
   "cell_type": "code",
   "execution_count": 302,
   "id": "5ebb9636",
   "metadata": {},
   "outputs": [],
   "source": [
    "df_medidas['iqar'] = df_medidas['iqar'].str.replace('.', '').astype(float)"
   ]
  },
  {
   "cell_type": "code",
   "execution_count": 310,
   "id": "3eebfdd9",
   "metadata": {},
   "outputs": [
    {
     "data": {
      "text/html": [
       "<div>\n",
       "<style scoped>\n",
       "    .dataframe tbody tr th:only-of-type {\n",
       "        vertical-align: middle;\n",
       "    }\n",
       "\n",
       "    .dataframe tbody tr th {\n",
       "        vertical-align: top;\n",
       "    }\n",
       "\n",
       "    .dataframe thead th {\n",
       "        text-align: right;\n",
       "    }\n",
       "</style>\n",
       "<table border=\"1\" class=\"dataframe\">\n",
       "  <thead>\n",
       "    <tr style=\"text-align: right;\">\n",
       "      <th></th>\n",
       "      <th>nome_mun</th>\n",
       "      <th>uf</th>\n",
       "      <th>nome_estacao</th>\n",
       "      <th>item_monitorado</th>\n",
       "      <th>sigla</th>\n",
       "      <th>concentracao</th>\n",
       "      <th>iqar</th>\n",
       "      <th>data</th>\n",
       "    </tr>\n",
       "  </thead>\n",
       "  <tbody>\n",
       "    <tr>\n",
       "      <th>0</th>\n",
       "      <td>Camaçari</td>\n",
       "      <td>BA</td>\n",
       "      <td>CÂMARA</td>\n",
       "      <td>Dióxido de Enxofre</td>\n",
       "      <td>SO2</td>\n",
       "      <td>0.891</td>\n",
       "      <td>3400.0</td>\n",
       "      <td>22/11/2022</td>\n",
       "    </tr>\n",
       "    <tr>\n",
       "      <th>1</th>\n",
       "      <td>Camaçari</td>\n",
       "      <td>BA</td>\n",
       "      <td>CÂMARA</td>\n",
       "      <td>Dióxido de Nitrogênio</td>\n",
       "      <td>NO2</td>\n",
       "      <td>5.670</td>\n",
       "      <td>5120.0</td>\n",
       "      <td>22/11/2022</td>\n",
       "    </tr>\n",
       "    <tr>\n",
       "      <th>5</th>\n",
       "      <td>Camaçari</td>\n",
       "      <td>BA</td>\n",
       "      <td>CÂMARA</td>\n",
       "      <td>Ozônio</td>\n",
       "      <td>O3</td>\n",
       "      <td>32.797</td>\n",
       "      <td>10520.0</td>\n",
       "      <td>22/11/2022</td>\n",
       "    </tr>\n",
       "    <tr>\n",
       "      <th>7</th>\n",
       "      <td>Dias d'Ávila</td>\n",
       "      <td>BA</td>\n",
       "      <td>COBRE</td>\n",
       "      <td>Dióxido de Enxofre</td>\n",
       "      <td>SO2</td>\n",
       "      <td>0.369</td>\n",
       "      <td>200.0</td>\n",
       "      <td>22/11/2022</td>\n",
       "    </tr>\n",
       "    <tr>\n",
       "      <th>8</th>\n",
       "      <td>Dias d'Ávila</td>\n",
       "      <td>BA</td>\n",
       "      <td>CONCÓRDIA</td>\n",
       "      <td>Dióxido de Enxofre</td>\n",
       "      <td>SO2</td>\n",
       "      <td>0.000</td>\n",
       "      <td>200.0</td>\n",
       "      <td>22/11/2022</td>\n",
       "    </tr>\n",
       "  </tbody>\n",
       "</table>\n",
       "</div>"
      ],
      "text/plain": [
       "       nome_mun  uf nome_estacao        item_monitorado sigla concentracao  \\\n",
       "0      Camaçari  BA       CÂMARA     Dióxido de Enxofre   SO2        0.891   \n",
       "1      Camaçari  BA       CÂMARA  Dióxido de Nitrogênio   NO2        5.670   \n",
       "5      Camaçari  BA       CÂMARA                 Ozônio    O3       32.797   \n",
       "7  Dias d'Ávila  BA        COBRE     Dióxido de Enxofre   SO2        0.369   \n",
       "8  Dias d'Ávila  BA    CONCÓRDIA     Dióxido de Enxofre   SO2        0.000   \n",
       "\n",
       "      iqar        data  \n",
       "0   3400.0  22/11/2022  \n",
       "1   5120.0  22/11/2022  \n",
       "5  10520.0  22/11/2022  \n",
       "7    200.0  22/11/2022  \n",
       "8    200.0  22/11/2022  "
      ]
     },
     "execution_count": 310,
     "metadata": {},
     "output_type": "execute_result"
    }
   ],
   "source": [
    "df_medidas = df_medidas[df_medidas['iqar'] >= 0]\n",
    "df_medidas.head()"
   ]
  },
  {
   "cell_type": "code",
   "execution_count": 308,
   "id": "912135b3",
   "metadata": {},
   "outputs": [
    {
     "data": {
      "text/plain": [
       "array(['SO2', 'NO2', 'O3', 'MP10', 'CO', 'MP2,5', 'PTS'], dtype=object)"
      ]
     },
     "execution_count": 308,
     "metadata": {},
     "output_type": "execute_result"
    }
   ],
   "source": [
    "df_medidas['sigla'].unique()"
   ]
  },
  {
   "cell_type": "code",
   "execution_count": 304,
   "id": "f78c33a7",
   "metadata": {},
   "outputs": [
    {
     "data": {
      "text/plain": [
       "Index(['nome_mun', 'uf', 'nome_estacao', 'item_monitorado', 'sigla',\n",
       "       'concentracao', 'iqar', 'data'],\n",
       "      dtype='object')"
      ]
     },
     "execution_count": 304,
     "metadata": {},
     "output_type": "execute_result"
    }
   ],
   "source": [
    "df_medidas.columns"
   ]
  },
  {
   "cell_type": "code",
   "execution_count": 306,
   "id": "fe269306",
   "metadata": {},
   "outputs": [
    {
     "data": {
      "text/plain": [
       "data        nome_mun    sigla\n",
       "01/07/2022  Americana   MP10     53130.434783\n",
       "            Araraquara  MP10     41350.000000\n",
       "                        O3       51333.333333\n",
       "            Araçatuba   MP10     26705.882353\n",
       "                        O3       34500.000000\n",
       "                                     ...     \n",
       "31/10/2022  Vitória     CO        1546.250000\n",
       "                        MP10     17460.000000\n",
       "                        NO2       2136.521739\n",
       "                        O3       14752.500000\n",
       "                        SO2       1960.461538\n",
       "Name: iqar, Length: 16525, dtype: float64"
      ]
     },
     "execution_count": 306,
     "metadata": {},
     "output_type": "execute_result"
    }
   ],
   "source": [
    "# Agrupar por data, cidade e poluente, e calcular a média do iqar\n",
    "df_medidas.groupby(['data', 'nome_mun', 'sigla'])['iqar'].mean()"
   ]
  },
  {
   "cell_type": "code",
   "execution_count": null,
   "id": "d06a469e",
   "metadata": {},
   "outputs": [
    {
     "data": {
      "text/plain": [
       "326000.0"
      ]
     },
     "execution_count": 270,
     "metadata": {},
     "output_type": "execute_result"
    }
   ],
   "source": [
    "df_medidas.dropna(subset=['iqar'], inplace=True)\n",
    "lista = df_medidas['iqar'].tolist()\n",
    "\n",
    "inteiros = []\n",
    "for string in lista:\n",
    "    if isinstance(string, str):\n",
    "        # Remove pontos (milhares) e substitui vírgula por ponto se for necessário\n",
    "        string = string.replace('.', '').replace(',', '.')\n",
    "    try:\n",
    "        if float(string) >= 0:\n",
    "            inteiros.append(float(string))\n",
    "    except ValueError:\n",
    "        print(f\"Erro ao converter: {string}\")"
   ]
  },
  {
   "cell_type": "code",
   "execution_count": 224,
   "id": "cb7d4864",
   "metadata": {},
   "outputs": [
    {
     "data": {
      "text/plain": [
       "codigo_mun      0\n",
       "nome_mun        0\n",
       "uf              0\n",
       "id_estacao      0\n",
       "nome_estacao    0\n",
       "latitude        0\n",
       "longitude       0\n",
       "dtype: int64"
      ]
     },
     "execution_count": 224,
     "metadata": {},
     "output_type": "execute_result"
    }
   ],
   "source": [
    "estacoes_null_columns = df_estacoes.isnull().sum()\n",
    "estacoes_null_columns"
   ]
  },
  {
   "cell_type": "code",
   "execution_count": 225,
   "id": "6a2783f2",
   "metadata": {},
   "outputs": [],
   "source": [
    "df_sus['dt_sin_pri'] = pd.to_datetime(df_sus['dt_sin_pri'])\n",
    "df_sus['dt_nasc'] = pd.to_datetime(df_sus['dt_nasc'])"
   ]
  },
  {
   "cell_type": "code",
   "execution_count": 226,
   "id": "4864c911",
   "metadata": {},
   "outputs": [],
   "source": [
    "df_sus['idade'] = (df_sus['dt_sin_pri'] - df_sus['dt_nasc']).dt.days // 365"
   ]
  },
  {
   "cell_type": "code",
   "execution_count": 227,
   "id": "08060209",
   "metadata": {},
   "outputs": [
    {
     "data": {
      "text/plain": [
       "np.int64(2139)"
      ]
     },
     "execution_count": 227,
     "metadata": {},
     "output_type": "execute_result"
    }
   ],
   "source": [
    "df_sus['idade'].isna().sum()"
   ]
  },
  {
   "cell_type": "code",
   "execution_count": 228,
   "id": "9dcab0c8",
   "metadata": {},
   "outputs": [],
   "source": [
    "df_sus.dropna(subset=['idade'], inplace=True)"
   ]
  },
  {
   "cell_type": "code",
   "execution_count": 229,
   "id": "4b8e8568",
   "metadata": {},
   "outputs": [
    {
     "data": {
      "text/plain": [
       "np.int64(0)"
      ]
     },
     "execution_count": 229,
     "metadata": {},
     "output_type": "execute_result"
    }
   ],
   "source": [
    "df_sus['idade'].isna().sum()"
   ]
  },
  {
   "cell_type": "code",
   "execution_count": 230,
   "id": "61a23cd7",
   "metadata": {},
   "outputs": [
    {
     "data": {
      "text/plain": [
       "0          F\n",
       "1          F\n",
       "2          M\n",
       "3          M\n",
       "4          F\n",
       "          ..\n",
       "1206915    F\n",
       "1206916    M\n",
       "1206917    M\n",
       "1206918    M\n",
       "1206919    F\n",
       "Name: cs_sexo, Length: 1204781, dtype: object"
      ]
     },
     "execution_count": 230,
     "metadata": {},
     "output_type": "execute_result"
    }
   ],
   "source": [
    "df_sus['cs_sexo'].dropna()"
   ]
  },
  {
   "cell_type": "code",
   "execution_count": 231,
   "id": "abd2336b",
   "metadata": {},
   "outputs": [
    {
     "data": {
      "text/plain": [
       "np.int64(0)"
      ]
     },
     "execution_count": 231,
     "metadata": {},
     "output_type": "execute_result"
    }
   ],
   "source": [
    "df_sus['cs_sexo'].isnull().sum()"
   ]
  },
  {
   "cell_type": "code",
   "execution_count": 232,
   "id": "48fc71b8",
   "metadata": {},
   "outputs": [],
   "source": [
    "def faixa_etaria(idade):\n",
    "    '''\n",
    "        Função que recebe a idade e de acordo com isso, fornece em qual faixa etária o indivíduo se encaixa:\n",
    "            Criança (0 -13 anos)\n",
    "            Adolescente (13 - 17 anos)\n",
    "            Adulto (18 - 64 anos)\n",
    "            Idosos ( >= 65 anos)\n",
    "    '''\n",
    "    if idade >= 0 and idade < 13:\n",
    "        return'crianca'\n",
    "    elif idade >= 13 and idade < 18:\n",
    "        return 'adolescente'\n",
    "    elif idade >= 18 and idade < 65:\n",
    "        return 'adulto'\n",
    "    else:\n",
    "        return 'idoso'"
   ]
  },
  {
   "cell_type": "code",
   "execution_count": 233,
   "id": "33d6b4fd",
   "metadata": {},
   "outputs": [],
   "source": [
    "# Criando a coluna faixa etária para analisar\n",
    "df_sus['faixa_etaria'] = df_sus['idade'].apply(faixa_etaria)"
   ]
  },
  {
   "cell_type": "code",
   "execution_count": 234,
   "id": "291a5dac",
   "metadata": {},
   "outputs": [
    {
     "data": {
      "text/plain": [
       "np.int64(32789)"
      ]
     },
     "execution_count": 234,
     "metadata": {},
     "output_type": "execute_result"
    }
   ],
   "source": [
    "# Verificando se há valores nulos\n",
    "df_sus['classi_fin'].isnull().sum()"
   ]
  },
  {
   "cell_type": "code",
   "execution_count": 235,
   "id": "44e05439",
   "metadata": {},
   "outputs": [],
   "source": [
    "# Dropando valores nulos da classificação final\n",
    "df_sus.dropna(subset=['classi_fin'], inplace=True)"
   ]
  },
  {
   "cell_type": "code",
   "execution_count": 236,
   "id": "5ee1b089",
   "metadata": {},
   "outputs": [],
   "source": [
    "# Transformando a classificação final do tipo string para inteiro\n",
    "df_sus['classi_fin'] = df_sus['classi_fin'].astype(int)"
   ]
  },
  {
   "cell_type": "code",
   "execution_count": 237,
   "id": "ca32000b",
   "metadata": {},
   "outputs": [],
   "source": [
    "# Filter only rows with classi_fin > 0\n",
    "filtered_df = df_sus[df_sus['classi_fin'] > 0]\n",
    "\n",
    "# Create the key by combining faixa_etaria and sexo\n",
    "filtered_df['key'] = filtered_df['faixa_etaria'] + filtered_df['cs_sexo'].map({'M': 'masculino', 'F': 'feminino'})\n",
    "\n",
    "# Count occurrences of each key\n",
    "final_dict = filtered_df['key'].value_counts().to_dict()"
   ]
  },
  {
   "cell_type": "code",
   "execution_count": 238,
   "id": "c9aeb39e",
   "metadata": {},
   "outputs": [
    {
     "data": {
      "text/plain": [
       "{'adultomasculino': 334365,\n",
       " 'adultofeminino': 258905,\n",
       " 'idosomasculino': 254525,\n",
       " 'idosofeminino': 240841,\n",
       " 'criancamasculino': 41159,\n",
       " 'criancafeminino': 32446,\n",
       " 'adolescentefeminino': 5239,\n",
       " 'adolescentemasculino': 4227}"
      ]
     },
     "execution_count": 238,
     "metadata": {},
     "output_type": "execute_result"
    }
   ],
   "source": [
    "final_dict"
   ]
  },
  {
   "cell_type": "code",
   "execution_count": 239,
   "id": "636ae950",
   "metadata": {},
   "outputs": [
    {
     "data": {
      "application/vnd.plotly.v1+json": {
       "config": {
        "plotlyServerURL": "https://plot.ly"
       },
       "data": [
        {
         "hoverinfo": "x",
         "marker": {
          "color": "powderblue"
         },
         "name": "Masculino",
         "orientation": "h",
         "type": "bar",
         "x": {
          "bdata": "AAAAAACDsEAAAAAAdGgUQQAAAADgGORAAAAAAOgRD0E=",
          "dtype": "f8"
         },
         "y": [
          "adolescente",
          "adulto",
          "crianca",
          "idoso"
         ]
        },
        {
         "hoverinfo": "text",
         "marker": {
          "color": "seagreen"
         },
         "name": "Feminino",
         "orientation": "h",
         "text": {
          "bdata": "AAAAAAB3tEAAAAAAyJoPQQAAAACAr99AAAAAAEhmDUE=",
          "dtype": "f8"
         },
         "type": "bar",
         "x": {
          "bdata": "AAAAAAB3tMAAAAAAyJoPwQAAAACAr9/AAAAAAEhmDcE=",
          "dtype": "f8"
         },
         "y": [
          "adolescente",
          "adulto",
          "crianca",
          "idoso"
         ]
        }
       ],
       "layout": {
        "bargap": 0.1,
        "barmode": "overlay",
        "template": {
         "data": {
          "bar": [
           {
            "error_x": {
             "color": "#2a3f5f"
            },
            "error_y": {
             "color": "#2a3f5f"
            },
            "marker": {
             "line": {
              "color": "#E5ECF6",
              "width": 0.5
             },
             "pattern": {
              "fillmode": "overlay",
              "size": 10,
              "solidity": 0.2
             }
            },
            "type": "bar"
           }
          ],
          "barpolar": [
           {
            "marker": {
             "line": {
              "color": "#E5ECF6",
              "width": 0.5
             },
             "pattern": {
              "fillmode": "overlay",
              "size": 10,
              "solidity": 0.2
             }
            },
            "type": "barpolar"
           }
          ],
          "carpet": [
           {
            "aaxis": {
             "endlinecolor": "#2a3f5f",
             "gridcolor": "white",
             "linecolor": "white",
             "minorgridcolor": "white",
             "startlinecolor": "#2a3f5f"
            },
            "baxis": {
             "endlinecolor": "#2a3f5f",
             "gridcolor": "white",
             "linecolor": "white",
             "minorgridcolor": "white",
             "startlinecolor": "#2a3f5f"
            },
            "type": "carpet"
           }
          ],
          "choropleth": [
           {
            "colorbar": {
             "outlinewidth": 0,
             "ticks": ""
            },
            "type": "choropleth"
           }
          ],
          "contour": [
           {
            "colorbar": {
             "outlinewidth": 0,
             "ticks": ""
            },
            "colorscale": [
             [
              0,
              "#0d0887"
             ],
             [
              0.1111111111111111,
              "#46039f"
             ],
             [
              0.2222222222222222,
              "#7201a8"
             ],
             [
              0.3333333333333333,
              "#9c179e"
             ],
             [
              0.4444444444444444,
              "#bd3786"
             ],
             [
              0.5555555555555556,
              "#d8576b"
             ],
             [
              0.6666666666666666,
              "#ed7953"
             ],
             [
              0.7777777777777778,
              "#fb9f3a"
             ],
             [
              0.8888888888888888,
              "#fdca26"
             ],
             [
              1,
              "#f0f921"
             ]
            ],
            "type": "contour"
           }
          ],
          "contourcarpet": [
           {
            "colorbar": {
             "outlinewidth": 0,
             "ticks": ""
            },
            "type": "contourcarpet"
           }
          ],
          "heatmap": [
           {
            "colorbar": {
             "outlinewidth": 0,
             "ticks": ""
            },
            "colorscale": [
             [
              0,
              "#0d0887"
             ],
             [
              0.1111111111111111,
              "#46039f"
             ],
             [
              0.2222222222222222,
              "#7201a8"
             ],
             [
              0.3333333333333333,
              "#9c179e"
             ],
             [
              0.4444444444444444,
              "#bd3786"
             ],
             [
              0.5555555555555556,
              "#d8576b"
             ],
             [
              0.6666666666666666,
              "#ed7953"
             ],
             [
              0.7777777777777778,
              "#fb9f3a"
             ],
             [
              0.8888888888888888,
              "#fdca26"
             ],
             [
              1,
              "#f0f921"
             ]
            ],
            "type": "heatmap"
           }
          ],
          "histogram": [
           {
            "marker": {
             "pattern": {
              "fillmode": "overlay",
              "size": 10,
              "solidity": 0.2
             }
            },
            "type": "histogram"
           }
          ],
          "histogram2d": [
           {
            "colorbar": {
             "outlinewidth": 0,
             "ticks": ""
            },
            "colorscale": [
             [
              0,
              "#0d0887"
             ],
             [
              0.1111111111111111,
              "#46039f"
             ],
             [
              0.2222222222222222,
              "#7201a8"
             ],
             [
              0.3333333333333333,
              "#9c179e"
             ],
             [
              0.4444444444444444,
              "#bd3786"
             ],
             [
              0.5555555555555556,
              "#d8576b"
             ],
             [
              0.6666666666666666,
              "#ed7953"
             ],
             [
              0.7777777777777778,
              "#fb9f3a"
             ],
             [
              0.8888888888888888,
              "#fdca26"
             ],
             [
              1,
              "#f0f921"
             ]
            ],
            "type": "histogram2d"
           }
          ],
          "histogram2dcontour": [
           {
            "colorbar": {
             "outlinewidth": 0,
             "ticks": ""
            },
            "colorscale": [
             [
              0,
              "#0d0887"
             ],
             [
              0.1111111111111111,
              "#46039f"
             ],
             [
              0.2222222222222222,
              "#7201a8"
             ],
             [
              0.3333333333333333,
              "#9c179e"
             ],
             [
              0.4444444444444444,
              "#bd3786"
             ],
             [
              0.5555555555555556,
              "#d8576b"
             ],
             [
              0.6666666666666666,
              "#ed7953"
             ],
             [
              0.7777777777777778,
              "#fb9f3a"
             ],
             [
              0.8888888888888888,
              "#fdca26"
             ],
             [
              1,
              "#f0f921"
             ]
            ],
            "type": "histogram2dcontour"
           }
          ],
          "mesh3d": [
           {
            "colorbar": {
             "outlinewidth": 0,
             "ticks": ""
            },
            "type": "mesh3d"
           }
          ],
          "parcoords": [
           {
            "line": {
             "colorbar": {
              "outlinewidth": 0,
              "ticks": ""
             }
            },
            "type": "parcoords"
           }
          ],
          "pie": [
           {
            "automargin": true,
            "type": "pie"
           }
          ],
          "scatter": [
           {
            "fillpattern": {
             "fillmode": "overlay",
             "size": 10,
             "solidity": 0.2
            },
            "type": "scatter"
           }
          ],
          "scatter3d": [
           {
            "line": {
             "colorbar": {
              "outlinewidth": 0,
              "ticks": ""
             }
            },
            "marker": {
             "colorbar": {
              "outlinewidth": 0,
              "ticks": ""
             }
            },
            "type": "scatter3d"
           }
          ],
          "scattercarpet": [
           {
            "marker": {
             "colorbar": {
              "outlinewidth": 0,
              "ticks": ""
             }
            },
            "type": "scattercarpet"
           }
          ],
          "scattergeo": [
           {
            "marker": {
             "colorbar": {
              "outlinewidth": 0,
              "ticks": ""
             }
            },
            "type": "scattergeo"
           }
          ],
          "scattergl": [
           {
            "marker": {
             "colorbar": {
              "outlinewidth": 0,
              "ticks": ""
             }
            },
            "type": "scattergl"
           }
          ],
          "scattermap": [
           {
            "marker": {
             "colorbar": {
              "outlinewidth": 0,
              "ticks": ""
             }
            },
            "type": "scattermap"
           }
          ],
          "scattermapbox": [
           {
            "marker": {
             "colorbar": {
              "outlinewidth": 0,
              "ticks": ""
             }
            },
            "type": "scattermapbox"
           }
          ],
          "scatterpolar": [
           {
            "marker": {
             "colorbar": {
              "outlinewidth": 0,
              "ticks": ""
             }
            },
            "type": "scatterpolar"
           }
          ],
          "scatterpolargl": [
           {
            "marker": {
             "colorbar": {
              "outlinewidth": 0,
              "ticks": ""
             }
            },
            "type": "scatterpolargl"
           }
          ],
          "scatterternary": [
           {
            "marker": {
             "colorbar": {
              "outlinewidth": 0,
              "ticks": ""
             }
            },
            "type": "scatterternary"
           }
          ],
          "surface": [
           {
            "colorbar": {
             "outlinewidth": 0,
             "ticks": ""
            },
            "colorscale": [
             [
              0,
              "#0d0887"
             ],
             [
              0.1111111111111111,
              "#46039f"
             ],
             [
              0.2222222222222222,
              "#7201a8"
             ],
             [
              0.3333333333333333,
              "#9c179e"
             ],
             [
              0.4444444444444444,
              "#bd3786"
             ],
             [
              0.5555555555555556,
              "#d8576b"
             ],
             [
              0.6666666666666666,
              "#ed7953"
             ],
             [
              0.7777777777777778,
              "#fb9f3a"
             ],
             [
              0.8888888888888888,
              "#fdca26"
             ],
             [
              1,
              "#f0f921"
             ]
            ],
            "type": "surface"
           }
          ],
          "table": [
           {
            "cells": {
             "fill": {
              "color": "#EBF0F8"
             },
             "line": {
              "color": "white"
             }
            },
            "header": {
             "fill": {
              "color": "#C8D4E3"
             },
             "line": {
              "color": "white"
             }
            },
            "type": "table"
           }
          ]
         },
         "layout": {
          "annotationdefaults": {
           "arrowcolor": "#2a3f5f",
           "arrowhead": 0,
           "arrowwidth": 1
          },
          "autotypenumbers": "strict",
          "coloraxis": {
           "colorbar": {
            "outlinewidth": 0,
            "ticks": ""
           }
          },
          "colorscale": {
           "diverging": [
            [
             0,
             "#8e0152"
            ],
            [
             0.1,
             "#c51b7d"
            ],
            [
             0.2,
             "#de77ae"
            ],
            [
             0.3,
             "#f1b6da"
            ],
            [
             0.4,
             "#fde0ef"
            ],
            [
             0.5,
             "#f7f7f7"
            ],
            [
             0.6,
             "#e6f5d0"
            ],
            [
             0.7,
             "#b8e186"
            ],
            [
             0.8,
             "#7fbc41"
            ],
            [
             0.9,
             "#4d9221"
            ],
            [
             1,
             "#276419"
            ]
           ],
           "sequential": [
            [
             0,
             "#0d0887"
            ],
            [
             0.1111111111111111,
             "#46039f"
            ],
            [
             0.2222222222222222,
             "#7201a8"
            ],
            [
             0.3333333333333333,
             "#9c179e"
            ],
            [
             0.4444444444444444,
             "#bd3786"
            ],
            [
             0.5555555555555556,
             "#d8576b"
            ],
            [
             0.6666666666666666,
             "#ed7953"
            ],
            [
             0.7777777777777778,
             "#fb9f3a"
            ],
            [
             0.8888888888888888,
             "#fdca26"
            ],
            [
             1,
             "#f0f921"
            ]
           ],
           "sequentialminus": [
            [
             0,
             "#0d0887"
            ],
            [
             0.1111111111111111,
             "#46039f"
            ],
            [
             0.2222222222222222,
             "#7201a8"
            ],
            [
             0.3333333333333333,
             "#9c179e"
            ],
            [
             0.4444444444444444,
             "#bd3786"
            ],
            [
             0.5555555555555556,
             "#d8576b"
            ],
            [
             0.6666666666666666,
             "#ed7953"
            ],
            [
             0.7777777777777778,
             "#fb9f3a"
            ],
            [
             0.8888888888888888,
             "#fdca26"
            ],
            [
             1,
             "#f0f921"
            ]
           ]
          },
          "colorway": [
           "#636efa",
           "#EF553B",
           "#00cc96",
           "#ab63fa",
           "#FFA15A",
           "#19d3f3",
           "#FF6692",
           "#B6E880",
           "#FF97FF",
           "#FECB52"
          ],
          "font": {
           "color": "#2a3f5f"
          },
          "geo": {
           "bgcolor": "white",
           "lakecolor": "white",
           "landcolor": "#E5ECF6",
           "showlakes": true,
           "showland": true,
           "subunitcolor": "white"
          },
          "hoverlabel": {
           "align": "left"
          },
          "hovermode": "closest",
          "mapbox": {
           "style": "light"
          },
          "paper_bgcolor": "white",
          "plot_bgcolor": "#E5ECF6",
          "polar": {
           "angularaxis": {
            "gridcolor": "white",
            "linecolor": "white",
            "ticks": ""
           },
           "bgcolor": "#E5ECF6",
           "radialaxis": {
            "gridcolor": "white",
            "linecolor": "white",
            "ticks": ""
           }
          },
          "scene": {
           "xaxis": {
            "backgroundcolor": "#E5ECF6",
            "gridcolor": "white",
            "gridwidth": 2,
            "linecolor": "white",
            "showbackground": true,
            "ticks": "",
            "zerolinecolor": "white"
           },
           "yaxis": {
            "backgroundcolor": "#E5ECF6",
            "gridcolor": "white",
            "gridwidth": 2,
            "linecolor": "white",
            "showbackground": true,
            "ticks": "",
            "zerolinecolor": "white"
           },
           "zaxis": {
            "backgroundcolor": "#E5ECF6",
            "gridcolor": "white",
            "gridwidth": 2,
            "linecolor": "white",
            "showbackground": true,
            "ticks": "",
            "zerolinecolor": "white"
           }
          },
          "shapedefaults": {
           "line": {
            "color": "#2a3f5f"
           }
          },
          "ternary": {
           "aaxis": {
            "gridcolor": "white",
            "linecolor": "white",
            "ticks": ""
           },
           "baxis": {
            "gridcolor": "white",
            "linecolor": "white",
            "ticks": ""
           },
           "bgcolor": "#E5ECF6",
           "caxis": {
            "gridcolor": "white",
            "linecolor": "white",
            "ticks": ""
           }
          },
          "title": {
           "x": 0.05
          },
          "xaxis": {
           "automargin": true,
           "gridcolor": "white",
           "linecolor": "white",
           "ticks": "",
           "title": {
            "standoff": 15
           },
           "zerolinecolor": "white",
           "zerolinewidth": 2
          },
          "yaxis": {
           "automargin": true,
           "gridcolor": "white",
           "linecolor": "white",
           "ticks": "",
           "title": {
            "standoff": 15
           },
           "zerolinecolor": "white",
           "zerolinewidth": 2
          }
         }
        },
        "title": {
         "text": "Pirâmide Etária de Casos (SUS)"
        },
        "xaxis": {
         "range": [
          -367801.50000000006,
          367801.50000000006
         ],
         "ticktext": [
          "1000",
          "700",
          "300",
          "0",
          "300",
          "700",
          "1000"
         ],
         "tickvals": [
          -1000,
          -700,
          -300,
          0,
          300,
          700,
          1000
         ],
         "title": {
          "text": "Número de Casos"
         }
        },
        "yaxis": {
         "title": {
          "text": "Faixa Etária"
         }
        }
       }
      }
     },
     "metadata": {},
     "output_type": "display_data"
    }
   ],
   "source": [
    "\n",
    "# Extrair faixas etárias únicas (ordenadas)\n",
    "faixas_etarias = sorted(list(set([k.split('feminino')[0].split('masculino')[0] for k in final_dict.keys()])))\n",
    "\n",
    "# Inicializar arrays para homens e mulheres\n",
    "men_bins = np.zeros(len(faixas_etarias))\n",
    "women_bins = np.zeros(len(faixas_etarias))\n",
    "\n",
    "# Preencher os arrays\n",
    "for i, faixa in enumerate(faixas_etarias):\n",
    "    men_bins[i] = final_dict.get(faixa + 'masculino', 0)\n",
    "    women_bins[i] = -final_dict.get(faixa + 'feminino', 0)  # Negativo para mulheres\n",
    "\n",
    "# Layout do gráfico\n",
    "layout = go.Layout(\n",
    "    yaxis=go.layout.YAxis(title='Faixa Etária'),\n",
    "    xaxis=go.layout.XAxis(\n",
    "        range=[-max(men_bins)*1.1, max(men_bins)*1.1],  # Ajuste automático\n",
    "        tickvals=[-1000, -700, -300, 0, 300, 700, 1000],  # Personalize conforme seus dados\n",
    "        ticktext=['1000', '700', '300', '0', '300', '700', '1000'],\n",
    "        title='Número de Casos'\n",
    "    ),\n",
    "    barmode='overlay',\n",
    "    bargap=0.1,\n",
    "    title='Pirâmide Etária de Casos (SUS)'\n",
    ")\n",
    "\n",
    "# Dados para o gráfico\n",
    "data = [\n",
    "    go.Bar(\n",
    "        y=faixas_etarias,\n",
    "        x=men_bins,\n",
    "        orientation='h',\n",
    "        name='Masculino',\n",
    "        hoverinfo='x',\n",
    "        marker=dict(color='powderblue')\n",
    "    ),\n",
    "    go.Bar(\n",
    "        y=faixas_etarias,\n",
    "        x=women_bins,\n",
    "        orientation='h',\n",
    "        name='Feminino',\n",
    "        text=-1 * women_bins.astype('int'),  # Mostrar valores absolutos\n",
    "        hoverinfo='text',\n",
    "        marker=dict(color='seagreen')\n",
    "    )\n",
    "]\n",
    "\n",
    "# Mostrar o gráfico\n",
    "fig = go.Figure(data=data, layout=layout)\n",
    "fig.show()"
   ]
  },
  {
   "cell_type": "code",
   "execution_count": 240,
   "id": "50bae085",
   "metadata": {},
   "outputs": [],
   "source": [
    "for i, faixa in enumerate(faixas_etarias):\n",
    "    men_bins[i] = final_dict.get(faixa + 'masculino', 0)\n",
    "    women_bins[i] = final_dict.get(faixa + 'feminino', 0)  # Negativo para mulheres"
   ]
  },
  {
   "cell_type": "code",
   "execution_count": 241,
   "id": "2e1b16f3",
   "metadata": {},
   "outputs": [
    {
     "data": {
      "image/png": "[encoded data removed]",
      "text/plain": [
       "<Figure size 640x480 with 1 Axes>"
      ]
     },
     "metadata": {},
     "output_type": "display_data"
    }
   ],
   "source": [
    "labels = sorted(list(set([k.split('feminino')[0].split('masculino')[0] for k in final_dict.keys()])))\n",
    "x = np.arange(len(men_bins))\n",
    "width = 0.35\n",
    "\n",
    "fig, ax = plt.subplots()\n",
    "rects1 = ax.bar(x - width/2, men_bins, width, label='Homens')\n",
    "rects2 = ax.bar(x + width/2, women_bins, width, label='Mulheres')\n",
    "\n",
    "ax.set_ylabel('Número Total de Casos')\n",
    "ax.set_xlabel('Faixa Etária')\n",
    "ax.set_title('Número de casos agrupados por faixa etária')\n",
    "ax.set_xticks(x, labels)\n",
    "ax.legend()\n",
    "\n",
    "ax.bar_label(rects1, padding=3)\n",
    "ax.bar_label(rects2, padding=3)\n",
    "\n",
    "fig.tight_layout()\n",
    "plt.show()"
   ]
  },
  {
   "cell_type": "code",
   "execution_count": 242,
   "id": "c9b09286",
   "metadata": {},
   "outputs": [
    {
     "data": {
      "text/plain": [
       "array(['SP', 'RS', 'PR', 'GO', 'PE', 'SC', 'RJ', 'TO', 'MG', 'DF', 'AM',\n",
       "       'ES', 'CE', 'BA', 'SE', 'MS', 'PA', 'AC', 'MT', 'PI', 'PB', 'RO',\n",
       "       'RN', 'RR', nan, 'MA', 'AL', 'AP'], dtype=object)"
      ]
     },
     "execution_count": 242,
     "metadata": {},
     "output_type": "execute_result"
    }
   ],
   "source": [
    "df_sus['sg_uf'].unique()"
   ]
  },
  {
   "cell_type": "code",
   "execution_count": 243,
   "id": "aaa93bc8",
   "metadata": {},
   "outputs": [],
   "source": [
    "def juntando_numero_casos_por_uf(df):\n",
    "    result_dict = {}\n",
    "\n",
    "    for _, row in df.iterrows():\n",
    "        key = row['sg_uf']\n",
    "\n",
    "        result_dict[key] = result_dict.get(key, 0) + 1\n",
    "    \n",
    "    return result_dict"
   ]
  },
  {
   "cell_type": "code",
   "execution_count": 244,
   "id": "26b0c2c0",
   "metadata": {},
   "outputs": [],
   "source": [
    "# Exclui linhas com uf null\n",
    "df_sus.dropna(subset=['sg_uf'], inplace=True)"
   ]
  },
  {
   "cell_type": "code",
   "execution_count": 245,
   "id": "941f3635",
   "metadata": {},
   "outputs": [],
   "source": [
    "final_dict = juntando_numero_casos_por_uf(df_sus)"
   ]
  },
  {
   "cell_type": "code",
   "execution_count": 246,
   "id": "f825820d",
   "metadata": {},
   "outputs": [
    {
     "data": {
      "image/png": "[encoded data removed]",
      "text/plain": [
       "<Figure size 1500x800 with 1 Axes>"
      ]
     },
     "metadata": {},
     "output_type": "display_data"
    }
   ],
   "source": [
    "# Ordenar os estados e valores\n",
    "labels = sorted(final_dict.keys())\n",
    "values = [final_dict[uf] for uf in labels]\n",
    "\n",
    "# Configurações do gráfico\n",
    "plt.figure(figsize=(15, 8))  # Tamanho aumentado\n",
    "bars = plt.bar(labels, values, color='skyblue', edgecolor='black')\n",
    "\n",
    "# Adicionar rótulos nas barras\n",
    "for bar in bars:\n",
    "    height = bar.get_height()\n",
    "    plt.text(\n",
    "        bar.get_x() + bar.get_width() / 2, \n",
    "        height, \n",
    "        f'{height:,}',  # Formato com separador de milhares\n",
    "        ha='center', \n",
    "        va='bottom',\n",
    "        fontsize=9\n",
    "    )\n",
    "\n",
    "# Ajustes estéticos\n",
    "plt.title('Número de Casos por UF', fontsize=16, pad=20)\n",
    "plt.xlabel('Estados', fontsize=12)\n",
    "plt.ylabel('Número Total de Casos', fontsize=12)\n",
    "plt.xticks(rotation=45, ha='right')  # Rotacionar rótulos para melhor leitura\n",
    "plt.grid(axis='y', linestyle='--', alpha=0.7)  # Grades horizontais\n",
    "\n",
    "# Remover bordas desnecessárias\n",
    "plt.gca().spines['top'].set_visible(False)\n",
    "plt.gca().spines['right'].set_visible(False)\n",
    "\n",
    "plt.tight_layout()  # Ajustar layout para evitar cortes\n",
    "plt.show()"
   ]
  },
  {
   "cell_type": "code",
   "execution_count": 247,
   "id": "f84342f9",
   "metadata": {},
   "outputs": [],
   "source": [
    "# Evolução mensal dos casos\n",
    "df_sus['mes'] = df_sus['dt_sin_pri'].dt.month_name(locale='pt_BR.utf8')"
   ]
  },
  {
   "cell_type": "code",
   "execution_count": 248,
   "id": "8190a9b9",
   "metadata": {},
   "outputs": [],
   "source": [
    "def juntanto_numero_casos_por_mes(df):\n",
    "    result_dict = {}\n",
    "\n",
    "    for _, row in df.iterrows():\n",
    "        key = row['mes']\n",
    "\n",
    "        result_dict[key] = result_dict.get(key, 0) + 1\n",
    "\n",
    "    return result_dict"
   ]
  },
  {
   "cell_type": "code",
   "execution_count": 249,
   "id": "d1516011",
   "metadata": {},
   "outputs": [],
   "source": [
    "dict_mes = juntanto_numero_casos_por_mes(df_sus)"
   ]
  },
  {
   "cell_type": "code",
   "execution_count": 250,
   "id": "b39e838f",
   "metadata": {},
   "outputs": [
    {
     "data": {
      "text/plain": [
       "{'Dezembro': 134188,\n",
       " 'Janeiro': 14663,\n",
       " 'Abril': 105746,\n",
       " 'Março': 40317,\n",
       " 'Fevereiro': 3223,\n",
       " 'Maio': 149673,\n",
       " 'Julho': 151435,\n",
       " 'Novembro': 114341,\n",
       " 'Agosto': 127366,\n",
       " 'Junho': 146991,\n",
       " 'Outubro': 86720,\n",
       " 'Setembro': 97219}"
      ]
     },
     "execution_count": 250,
     "metadata": {},
     "output_type": "execute_result"
    }
   ],
   "source": [
    "dict_mes"
   ]
  },
  {
   "cell_type": "code",
   "execution_count": 251,
   "id": "20a46412",
   "metadata": {},
   "outputs": [],
   "source": [
    "ordem_meses = [\n",
    "    'Janeiro', 'Fevereiro', 'Março', 'Abril',\n",
    "    'Maio', 'Junho', 'Julho', 'Agosto',\n",
    "    'Setembro', 'Outubro', 'Novembro', 'Dezembro'\n",
    "]\n",
    "\n",
    "# Ordena as chaves\n",
    "chaves_ordenadas = sorted(\n",
    "    dict_mes.keys(),\n",
    "    key=lambda mes: ordem_meses.index(mes)\n",
    ")\n",
    "\n",
    "# Cria novo dicionário ordenado\n",
    "dict_ordenado = {mes: dict_mes[mes] for mes in chaves_ordenadas}\n",
    "# Saída: {'janeiro': 5, 'março': 10, 'agosto': 3, 'dezembro': 8}"
   ]
  },
  {
   "cell_type": "code",
   "execution_count": 252,
   "id": "ede14c6f",
   "metadata": {},
   "outputs": [
    {
     "data": {
      "image/png": "[encoded data removed]",
      "text/plain": [
       "<Figure size 1500x800 with 1 Axes>"
      ]
     },
     "metadata": {},
     "output_type": "display_data"
    }
   ],
   "source": [
    "fig, ax = plt.subplots(figsize=(15,8))\n",
    "ax.plot(dict_ordenado.keys(), dict_ordenado.values())\n",
    "\n",
    "ax.set(xlabel='Meses', ylabel='Quantidade de Casos de SRAG',\n",
    "       title='Evolução de Casos de SRAG por Mês')\n",
    "ax.grid()\n",
    "plt.show()"
   ]
  },
  {
   "cell_type": "code",
   "execution_count": 253,
   "id": "170b76fe",
   "metadata": {},
   "outputs": [],
   "source": [
    "# Número de casos por doença\n",
    "def juntando_numero_casos_por_doenca(df):\n",
    "    result_dict = {}\n",
    "\n",
    "    for _, row in df.iterrows():\n",
    "        key = row['classi_fin']\n",
    "\n",
    "        result_dict[key] = result_dict.get(key, 0) + 1\n",
    "\n",
    "    return result_dict"
   ]
  },
  {
   "cell_type": "code",
   "execution_count": 254,
   "id": "651847b8",
   "metadata": {},
   "outputs": [],
   "source": [
    "dict_doenca = juntando_numero_casos_por_doenca(df_sus)"
   ]
  },
  {
   "cell_type": "markdown",
   "id": "5bc58a26",
   "metadata": {},
   "source": [
    "- 1: SRAG por Influenza\n",
    "- 2: SRAG por outro vírus resporatório\n",
    "- 3: SRAG por outro agente etiológico\n",
    "- 4: SRAG não especificado\n",
    "- 5: SRAG por covid-19"
   ]
  },
  {
   "cell_type": "code",
   "execution_count": 255,
   "id": "345a5770",
   "metadata": {},
   "outputs": [],
   "source": [
    "def renomear_chaves(dicionario, mapa_renomeacao):\n",
    "    \"\"\"\n",
    "    Renomeia chaves de um dicionário.\n",
    "\n",
    "    Args:\n",
    "        dicionario: O dicionário cujas chaves serão renomeadas.\n",
    "        mapa_renomeacao: Um dicionário que mapeia as chaves originais para as novas chaves.\n",
    "\n",
    "    Returns:\n",
    "        Um novo dicionário com as chaves renomeadas.\n",
    "    \"\"\"\n",
    "    novo_dicionario = {}\n",
    "    for chave_original, valor in dicionario.items():\n",
    "        nova_chave = mapa_renomeacao.get(chave_original, chave_original)\n",
    "        novo_dicionario[nova_chave] = valor\n",
    "    return novo_dicionario"
   ]
  },
  {
   "cell_type": "code",
   "execution_count": 256,
   "id": "22a4453c",
   "metadata": {},
   "outputs": [],
   "source": [
    "dict_doenca_ordenado = dict(sorted(dict_doenca.items()))\n",
    "\n",
    "mapa_renomeacao = {1: 'SRAG Por Influenza',\n",
    "                   2: 'SRAG por outro vírus respiratório',\n",
    "                   3: 'SRAG por outro agente etiológico',\n",
    "                   4: 'SRAG não especificado',\n",
    "                   5: 'SRAG por covid-19'}\n",
    "dict_doenca = renomear_chaves(dict_doenca_ordenado, mapa_renomeacao)"
   ]
  },
  {
   "cell_type": "code",
   "execution_count": 257,
   "id": "4c8a6616",
   "metadata": {},
   "outputs": [
    {
     "data": {
      "image/png": "[encoded data removed]",
      "text/plain": [
       "<Figure size 1500x800 with 1 Axes>"
      ]
     },
     "metadata": {},
     "output_type": "display_data"
    }
   ],
   "source": [
    "# Ordenar os estados e valores\n",
    "labels = list(dict_doenca.keys())\n",
    "values = list(dict_doenca.values())\n",
    "\n",
    "# Configurações do gráfico\n",
    "plt.figure(figsize=(15, 8))  # Tamanho aumentado\n",
    "bars = plt.bar(labels, values, color='skyblue', edgecolor='black')\n",
    "\n",
    "# Adicionar rótulos nas barras\n",
    "for bar in bars:\n",
    "    height = bar.get_height()\n",
    "    plt.text(\n",
    "        bar.get_x() + bar.get_width() / 2, \n",
    "        height, \n",
    "        f'{height:,}',  # Formato com separador de milhares\n",
    "        ha='center', \n",
    "        va='bottom',\n",
    "        fontsize=9\n",
    "    )\n",
    "\n",
    "# Ajustes estéticos\n",
    "plt.title('Número de Casos por SRAG', fontsize=16, pad=20)\n",
    "plt.xlabel('SRAGs', fontsize=12)\n",
    "plt.ylabel('Número Total de Casos', fontsize=12)\n",
    "plt.xticks(rotation=45, ha='right')  # Rotacionar rótulos para melhor leitura\n",
    "plt.grid(axis='y', linestyle='--', alpha=0.7)  # Grades horizontais\n",
    "\n",
    "# Remover bordas desnecessárias\n",
    "plt.gca().spines['top'].set_visible(False)\n",
    "plt.gca().spines['right'].set_visible(False)\n",
    "\n",
    "plt.tight_layout()  # Ajustar layout para evitar cortes\n",
    "plt.show()"
   ]
  },
  {
   "cell_type": "markdown",
   "id": "97f7c733",
   "metadata": {},
   "source": [
    "### Análise sobre os dados de medidas"
   ]
  },
  {
   "cell_type": "code",
   "execution_count": 258,
   "id": "3029753b",
   "metadata": {},
   "outputs": [],
   "source": [
    "# Interligando os dados\n",
    "# Vendo quais cidades tem em ambos os datasets\n",
    "\n",
    "tamanho_max = 6\n",
    "\n",
    "df_estacoes['codigo_mun'] = df_estacoes['codigo_mun'].astype(str)\n",
    "\n",
    "df_estacoes['codigo_mun'] = df_estacoes['codigo_mun'].apply(lambda x: x[:tamanho_max])\n",
    "\n",
    "df_estacoes['codigo_mun'] = df_estacoes['codigo_mun'].astype(int)"
   ]
  },
  {
   "cell_type": "code",
   "execution_count": 259,
   "id": "54354edd",
   "metadata": {},
   "outputs": [
    {
     "data": {
      "text/plain": [
       "Index(['nome_mun', 'uf', 'nome_estacao', 'item_monitorado', 'sigla',\n",
       "       'concentracao', 'iqar', 'Data'],\n",
       "      dtype='object')"
      ]
     },
     "execution_count": 259,
     "metadata": {},
     "output_type": "execute_result"
    }
   ],
   "source": [
    "df_medidas.columns"
   ]
  },
  {
   "cell_type": "code",
   "execution_count": 260,
   "id": "bdd7302f",
   "metadata": {},
   "outputs": [],
   "source": [
    "# Concentração total de todos os poluentes\n",
    "def agrupando_por_poluente(df):\n",
    "    result_dict = {}\n",
    "\n",
    "    for _, row in df.iterrows():\n",
    "        key = row['sigla']\n",
    "\n",
    "        result_dict[key] = result_dict.get(key, 0) + 1\n",
    "\n",
    "    return result_dict"
   ]
  },
  {
   "cell_type": "code",
   "execution_count": 261,
   "id": "a5c1f100",
   "metadata": {},
   "outputs": [],
   "source": [
    "dict_poluentes = agrupando_por_poluente(df_medidas)"
   ]
  },
  {
   "cell_type": "code",
   "execution_count": 262,
   "id": "8761072c",
   "metadata": {},
   "outputs": [
    {
     "data": {
      "image/png": "[encoded data removed]",
      "text/plain": [
       "<Figure size 1500x800 with 1 Axes>"
      ]
     },
     "metadata": {},
     "output_type": "display_data"
    }
   ],
   "source": [
    "# Ordenar os estados e valores\n",
    "labels = list(dict_poluentes.keys())\n",
    "values = list(dict_poluentes.values())\n",
    "\n",
    "# Configurações do gráfico\n",
    "plt.figure(figsize=(15, 8))  # Tamanho aumentado\n",
    "bars = plt.bar(labels, values, color='skyblue', edgecolor='black')\n",
    "\n",
    "# Adicionar rótulos nas barras\n",
    "for bar in bars:\n",
    "    height = bar.get_height()\n",
    "    plt.text(\n",
    "        bar.get_x() + bar.get_width() / 2, \n",
    "        height, \n",
    "        f'{height:,}',  # Formato com separador de milhares\n",
    "        ha='center', \n",
    "        va='bottom',\n",
    "        fontsize=9\n",
    "    )\n",
    "\n",
    "# Ajustes estéticos\n",
    "plt.title('Concentração Total de Poluentes', fontsize=16, pad=20)\n",
    "plt.xlabel('Poluentes', fontsize=12)\n",
    "plt.ylabel('Concentração Total', fontsize=12)\n",
    "plt.xticks(rotation=45, ha='right')  # Rotacionar rótulos para melhor leitura\n",
    "plt.grid(axis='y', linestyle='--', alpha=0.7)  # Grades horizontais\n",
    "\n",
    "# Remover bordas desnecessárias\n",
    "plt.gca().spines['top'].set_visible(False)\n",
    "plt.gca().spines['right'].set_visible(False)\n",
    "\n",
    "plt.tight_layout()  # Ajustar layout para evitar cortes\n",
    "plt.show()\n",
    "\n",
    "## Se for utilizar, dar um sort pela quantidade de concentração total (melhor visualização)"
   ]
  },
  {
   "cell_type": "code",
   "execution_count": 263,
   "id": "62384c6f",
   "metadata": {},
   "outputs": [
    {
     "data": {
      "text/plain": [
       "Index(['nome_mun', 'uf', 'nome_estacao', 'item_monitorado', 'sigla',\n",
       "       'concentracao', 'iqar', 'Data'],\n",
       "      dtype='object')"
      ]
     },
     "execution_count": 263,
     "metadata": {},
     "output_type": "execute_result"
    }
   ],
   "source": [
    "df_medidas.columns"
   ]
  },
  {
   "cell_type": "code",
   "execution_count": 264,
   "id": "dd852757",
   "metadata": {},
   "outputs": [],
   "source": [
    "# Cidades com maiores concentrações\n",
    "# Concentração total de todos os poluentes\n",
    "def agrupando_por_poluente_cidade(df):\n",
    "    result_dict = {}\n",
    "\n",
    "    for _, row in df.iterrows():\n",
    "        key = row['nome_mun']\n",
    "\n",
    "        result_dict[key] = result_dict.get(key, 0) + 1\n",
    "\n",
    "    return result_dict"
   ]
  },
  {
   "cell_type": "code",
   "execution_count": 265,
   "id": "ccb51487",
   "metadata": {},
   "outputs": [],
   "source": [
    "dict_pol_cidade = agrupando_por_poluente_cidade(df_medidas)"
   ]
  },
  {
   "cell_type": "code",
   "execution_count": 266,
   "id": "70e30be4",
   "metadata": {},
   "outputs": [],
   "source": [
    "dict_pol_cidade_ordenado = dict(sorted(dict_pol_cidade.items(), key=lambda item: item[1], reverse=True))"
   ]
  },
  {
   "cell_type": "code",
   "execution_count": 267,
   "id": "83a4c74e",
   "metadata": {},
   "outputs": [
    {
     "data": {
      "text/plain": [
       "{'Rio de Janeiro': 134490,\n",
       " 'São Paulo': 116303,\n",
       " \"Dias d'Ávila\": 86482,\n",
       " 'Camaçari': 80314,\n",
       " 'Congonhas': 49553,\n",
       " 'Vitória': 44132,\n",
       " 'Vila Velha': 30357,\n",
       " 'Serra': 28358,\n",
       " 'Três Lagoas': 27719,\n",
       " 'Ipatinga': 27530,\n",
       " 'Itabira': 24660,\n",
       " 'Belo Horizonte': 22158,\n",
       " 'São Sebastião do Passé': 20879,\n",
       " 'Betim': 20468,\n",
       " 'Campinas': 19997,\n",
       " 'Barra Longa': 19866,\n",
       " 'Cubatão': 18999,\n",
       " 'Timóteo': 18958,\n",
       " 'São José da Lapa': 16864,\n",
       " 'Conceição do Mato Dentro': 16172,\n",
       " 'Guaíba': 15526,\n",
       " 'Paulínia': 14863,\n",
       " 'Guarulhos': 14852,\n",
       " 'Santos': 14522,\n",
       " 'São José dos Campos': 14213,\n",
       " 'Rio Doce': 14080,\n",
       " 'Santo André': 14004,\n",
       " 'Esteio': 13828,\n",
       " 'Canoas': 13763,\n",
       " 'São Bernardo do Campo': 13376,\n",
       " 'Cariacica': 13011,\n",
       " 'Paracatu': 11877,\n",
       " 'Ibirité': 9180,\n",
       " 'Triunfo': 8995,\n",
       " 'Brumadinho': 8245,\n",
       " 'Limeira': 7567,\n",
       " 'Carapicuíba': 7542,\n",
       " 'Araçatuba': 7492,\n",
       " 'Sorocaba': 7485,\n",
       " 'Presidente Prudente': 7452,\n",
       " 'Marília': 7428,\n",
       " 'Catanduva': 7417,\n",
       " 'Bauru': 7398,\n",
       " 'Americana': 7380,\n",
       " 'Taubaté': 7371,\n",
       " 'Rio Claro': 7353,\n",
       " 'Tatuí': 7340,\n",
       " 'São Caetano do Sul': 7322,\n",
       " 'Jaú': 7246,\n",
       " 'São José do Rio Preto': 7159,\n",
       " 'Osasco': 7148,\n",
       " 'Taboão da Serra': 7124,\n",
       " 'Araraquara': 7119,\n",
       " 'Diadema': 7069,\n",
       " 'Santa Gertrudes': 6955,\n",
       " 'Jundiaí': 6928,\n",
       " 'Piracicaba': 6895,\n",
       " 'Pirapora': 6864,\n",
       " 'Coronel Fabriciano': 6809,\n",
       " 'Ribeirão Preto': 6647,\n",
       " 'Mariana': 6483,\n",
       " 'Mauá': 6431,\n",
       " 'Guaratinguetá': 5892,\n",
       " 'São Mateus do Sul': 5572,\n",
       " 'Jacareí': 5526,\n",
       " 'Araucária': 5345,\n",
       " 'Santa Cruz do Escalvado': 4891,\n",
       " 'Rio Grande': 4365,\n",
       " 'Ouro Preto': 3720,\n",
       " 'Gravataí': 3523,\n",
       " 'Curitiba': 2793,\n",
       " 'Ponta Grossa': 1348}"
      ]
     },
     "execution_count": 267,
     "metadata": {},
     "output_type": "execute_result"
    }
   ],
   "source": [
    "dict_pol_cidade_ordenado"
   ]
  },
  {
   "cell_type": "code",
   "execution_count": 268,
   "id": "3848d08b",
   "metadata": {},
   "outputs": [],
   "source": [
    "top10_cidades = dict(itertools.islice(dict_pol_cidade_ordenado.items(), 10))"
   ]
  },
  {
   "cell_type": "code",
   "execution_count": 269,
   "id": "23bea6eb",
   "metadata": {},
   "outputs": [
    {
     "data": {
      "image/png": "[encoded data removed]",
      "text/plain": [
       "<Figure size 1500x800 with 1 Axes>"
      ]
     },
     "metadata": {},
     "output_type": "display_data"
    }
   ],
   "source": [
    "# Ordenar os estados e valores\n",
    "labels = list(top10_cidades.keys())\n",
    "values = list(top10_cidades.values())\n",
    "\n",
    "# Configurações do gráfico\n",
    "plt.figure(figsize=(15, 8))  # Tamanho aumentado\n",
    "bars = plt.bar(labels, values, color='skyblue', edgecolor='black')\n",
    "\n",
    "# Adicionar rótulos nas barras\n",
    "for bar in bars:\n",
    "    height = bar.get_height()\n",
    "    plt.text(\n",
    "        bar.get_x() + bar.get_width() / 2, \n",
    "        height, \n",
    "        f'{height:,}',  # Formato com separador de milhares\n",
    "        ha='center', \n",
    "        va='bottom',\n",
    "        fontsize=9\n",
    "    )\n",
    "\n",
    "# Ajustes estéticos\n",
    "plt.title('Concentração Total de Poluentes por Cidade', fontsize=16, pad=20)\n",
    "plt.xlabel('Cidades', fontsize=12)\n",
    "plt.ylabel('Concentração Total', fontsize=12)\n",
    "plt.xticks(rotation=45, ha='right')  # Rotacionar rótulos para melhor leitura\n",
    "plt.grid(axis='y', linestyle='--', alpha=0.7)  # Grades horizontais\n",
    "\n",
    "# Remover bordas desnecessárias\n",
    "plt.gca().spines['top'].set_visible(False)\n",
    "plt.gca().spines['right'].set_visible(False)\n",
    "\n",
    "plt.tight_layout()  # Ajustar layout para evitar cortes\n",
    "plt.show()\n"
   ]
  },
  {
   "cell_type": "markdown",
   "id": "c3e20d6d",
   "metadata": {},
   "source": [
    "Análise uti: por faixa etária sexo qualidades ruins de ar/qualidades boas\n",
    "\n",
    "Fazer análise apenas dos estados: Bahia (BA) Rio de Janeiro (RJ) Minas Gerais (MG) e São Paulo (SP)\n",
    "\n",
    "Colunas do DataSUS:\n",
    "\n",
    "NU_NOTIFIC -> Número de notificação\n",
    "\n",
    "DT_NOTIFIC -> Data de Notificação\n",
    "\n",
    "DT_SIN_PRI -> Data dos primeiros sintomas\n",
    "\n",
    "DT_NASC    -> Data de Nascimento\n",
    "\n",
    "DT_EVOLUCA -> Data de evolução (Óbito ou Alta)\n",
    "\n",
    "SG_UF      -> Sigla UF\n",
    "\n",
    "ID_MN_RESI -> Nome da cidade\n",
    "\n",
    "CS_SEXO    -> Sexo (Masculino/Feminio) \n",
    "\n",
    "CS_RACA    -> Raça (Preto, Branco, Indígena)\n",
    "\n",
    "CS_ESCOL_N -> Nível de escolaridade\n",
    "\n",
    "FATOR_RISC -> Fatores de Risco\n",
    "\n",
    "HOSPITAL   -> Houve Internação ?\n",
    "\n",
    "DT_INTERNA -> Data Internalção\n",
    "\n",
    "UTI        -> Foi para UTI?\n",
    "\n",
    "DT_ENTUTI  -> Data de entrada da UTI\n",
    "\n",
    "DT_SAIDUTI -> Data de Saída da UTI\n",
    "\n",
    "SUPORT_VEN -> Suporte Ventilarório (sim invasivo/Sim, não invasivo/Não/Ignorado)\n",
    "\n",
    "CLASSI_FIN -> Classificação Final (Influenza/Covid-19/SRAG por outro vírus/SRAG por outro agente etiológico/SRAG não especificado)\n",
    "\n",
    "CRITERIO   -> Critério de encerramento (Laboratorial/Clínico Epidemológico/Clínico/Clínico Imagem)\n",
    "\n",
    "EVOLUCAO   -> Evolução do caso (Cura/Óbito/Óbtio por outras causas/Ignorado)\n",
    "\n",
    "PUERPERA   -> Puépera (Período pós-parto até 45 dias) \n",
    "\n",
    "CARDIOPATI -> Doença Cardiovasculas Crônica\n",
    "\n",
    "HEMATOLOGI -> Doença Hematológica Crônica\n",
    "\n",
    "SIND_DOWN  -> Paciente com Sindrome de Down\n",
    "\n",
    "HEPATICA   -> Doença Hepática Crônica\n",
    "\n",
    "ASMA       -> Asma\n",
    "\n",
    "DIABETES   -> Diabetes\n",
    "\n",
    "NEUROLOGIC -> Doença Neurológica\n",
    "\n",
    "PNEUMOPATI -> Possui outra doença pneumopatia crônica\n",
    "\n",
    "IMUNODEPRE -> Possui Imunodeficiência ou Imunodepressão (diminuição da função do sistema imunilógico)\n",
    "\n",
    "RENAL      -> Possui Doença Renal Crônica\n",
    "\n",
    "OBESIDADE  -> Possui obesidade\n",
    "\n",
    "FEBRE      -> Apresentou febre\n",
    "\n",
    "TOSSE      -> Apresentou Tosse\n",
    "\n",
    "GARGANTA   -> Apresentou dor na garganta\n",
    "\n",
    "DISPNEIA   -> Apresentou Dispneia\n",
    "\n",
    "DESC_RESP  -> Apresentou desconforto respiratório\n",
    "\n",
    "SATURACAO  -> Apresentou Saturação O2 < 95%\n",
    "\n",
    "DIARREIA   -> Apresentou Diarreia\n",
    "\n",
    "VOMITO     -> Apresentou Vômito\n",
    "\n",
    "FADIGA     -> Apresentou Fadiga\n",
    "\n",
    "PERD_OLFT  -> Apresentou Perda de Olfato\n",
    "\n",
    "PERD_PALA  -> Apresentou Perda Paladar\n",
    "\n",
    "Colunas do MonitorAr:\n",
    "\n",
    "Colunas das tabelas de medições:\n",
    "\n",
    "Nome do município\n",
    "\n",
    "Estado\n",
    "\n",
    "Nome da Estação\n",
    "\n",
    "Sigla        -> Sigla do poluente monitorado\n",
    "\n",
    "Concentração -> Concentração do poluente\n",
    "\n",
    "IQAR         -> Índice de Qualidade do Ar de acordo com o poluente\n",
    "\n",
    "Data\n",
    "\n",
    "Hora\n",
    "\n",
    "Colunas da tabela de Estações:\n",
    "\n",
    "Código IBGE do Município\n",
    "\n",
    "Nome do Município\n",
    "\n",
    "Estado\n",
    "\n",
    "ID da estação\n",
    "\n",
    "Nome da Estação\n",
    "\n",
    "Status da Estação \n",
    "\n",
    "Tipo da Estação\n",
    "\n",
    "Latitude\n",
    "\n",
    "Longitude\n",
    "\n",
    "Por fim, temos uma tabela do Censo 2022, onde contém o estado e a população total por uf em 2022"
   ]
  },
  {
   "cell_type": "markdown",
   "id": "7a235506",
   "metadata": {},
   "source": [
    "### Ideias de Análises\n",
    "\n",
    "- Separar por faixa etária (0-12, 13-21, 22-35, 36-50, 51-65, 66+)\n",
    "\n",
    "- Calcular média diária do IQAR por cidade:\n",
    "    - Poluentes chaves: PM2.5, O3 (associados a problemas respiratórios)\n",
    "\n",
    "- Calcular taxas de internações (utilizando os dados do Censo 2022, população por estado)\n",
    "\n",
    "- Métricas da Saúde:\n",
    "    - UTI: Proporção de casos que necessitaram de UTI\n",
    "\n",
    "    - Sintomas Graves: Dispineia + Saturação < 95%\n",
    "\n",
    "    - Mortalidade: Proporção de óbitos\n",
    "\n",
    "- Análises Estratégicas Para a Persona:\n",
    "    - Efeito da Qualidade do Ar:\n",
    "        - Visualização: gráfico de dispersão entre IQAR médio e Taxa de UTI por cidade\n",
    "\n",
    "        - Insight: 'No RJ, dias com IQAR > 80 aumentam em 22% a taxa de internação em UTI em idosos'\n",
    "\n",
    "    - Grupos Vulnerávies:\n",
    "        - Faixa Etária: Idosos (>66 anos) têm taxa 3x maior de sintomas graves em dias poluídos\n",
    "\n",
    "        - Sexo: Homens mostram 30% mais internações por asma em SP durante picos de O3\n",
    "    \n",
    "    - Análise Temporal:\n",
    "        - Sazonalidade: Correlacionar picos de poluição (inverno) com internações por SRAG\n",
    "\n",
    "        - Eventos: Impacto de queimadas (ex.: 2023 em MG) na saúde respiratória\n",
    "\n",
    "- Sugestões de Visualização:\n",
    "    - Dashboard com Campanhas:\n",
    "        1. Mapa Iterativo:\n",
    "            - Estados BA/RJ/SP/MG com cores ela média do IQAR\n",
    "\n",
    "            - Camada: Taxa de mortalidade por SRAG (tamanho dos marcadores)\n",
    "        \n",
    "        2. Gráficos de Barras\n",
    "            - Eixo X: Faixa Etária \n",
    "\n",
    "            - Eixo Y: % de casos com UTI\n",
    "\n",
    "            - Cores: dias com ar bom (verde) vs. ruim (vermelho)\n",
    "\n",
    "        3. Série Temporal:\n",
    "            - Linha 1: Média móvel de PM2.5 (últimos 30 dias)\n",
    "            - Linha 2: Casos de dispneia (por 100k habitantes)\n",
    "\n",
    "- Recomendações para a Persona:\n",
    "    - Foco em Grupos Vulneráveis: campanhas para idosos e crianças em dias com IQAR > 80\n",
    "\n",
    "    - Dados Locais: comparar capitais (ex.: SP tem 2x mais internações por poluição do q BA)\n",
    "\n",
    "    - Causa-Efeito: dias com O3 > 100 ug/m3 aumentam em 40% as internações por asma em mulheres > 50 anos\n",
    "\n",
    "    - Advocacy: usar gráficos de impacto em reuniões com prefeituras (ex.: custos da poluição na saúde pública)\n",
    "\n",
    "- Fontes do Insight:\n",
    "    - Poluente PM2.5: Associado a 85% dos casos de SRAG em dias poluídos\n",
    "\n",
    "    - Gênero: Homens têm maior taxa de internação, mas mulheres mostram mais sintomas crônicos\n",
    "\n",
    "#### Lista de Poluentes e O Que Afetam\n",
    "\n",
    "1. Material Particulado <= 2.5um (MP2.5): \n",
    "    - Penetra os alvéolos pulmonares, causa inflamação, agrava a asma, DPOC e câncer de pulmão\n",
    "\n",
    "2. Material Particulado <= 10um (MP10):\n",
    "    - Irrita vias aéreas, desencadeia bronquite e redução da função pulmonar\n",
    "\n",
    "3. Ozônio (O3):\n",
    "    - Provoca danos oxidativos, tosse, dor torácia e piora de doenças respiratórias crônicas \n",
    "\n",
    "4. Dióxido de Nitrogênio (NO2):\n",
    "    - Aumenta risco infecções respiratórias e reduz capacidade pulmonar em crianças\n",
    "\n",
    "5. Dióxido de Enxofre (SO2):\n",
    "    - Causa broncoconstrição, especialmente em asmáticos\n",
    "\n",
    "6. Monóxido de Carbono (CO):\n",
    "    - Reduz a oxigenação sanguínea, agrava insuficiência respiratória\n",
    "\n",
    "7. Benzeno (BEN):\n",
    "    - Composto carcinogênico associado a leucemia e danos à medula óssea\n",
    "\n",
    "8. Formaldeído (FORMAL):\n",
    "    - Irritante das vias aéreas, potencial carcinogênico respiratório\n",
    "\n",
    "9. Fumaça (FMC):\n",
    "    - Contém MP2.5 e compostos tóxicos que agravam doenças pulmonares\n",
    "\n",
    "10. Benzeno/Tolueno/Etil-Benzeno/Xileno (BTEX): \n",
    "    - Compostos voláteis irritantes com efeitos sinérgicos\n",
    "\n",
    "11. Gás Sulfídrico (H2S):\n",
    "    - Irrita mucosas respiratórias mesmo em baixas concentrações\n",
    "\n",
    "12. Amônia (NH3):\n",
    "    - Forma partículas secundárias (ex.: nitrato de amônio) que penetram nos pulmões\n",
    "\n",
    "##### Recomendações\n",
    "\n",
    "- Focar apenas em: MP2.5, MP10, O3, NO2, CO e BEN\n",
    "\n",
    "- Métricas de exposição:\n",
    "    - Média diária de MP2.5 e O3\n",
    "\n",
    "    - Número de dias/ano com IQAR > 80 (classificação \"RUIM\")\n",
    "\n",
    "- Correlação com Sintomas:\n",
    "    - Cruzar picos de sintomas com:\n",
    "        - Dispineia: falta de ar\n",
    "\n",
    "        - Saturação < 95\n",
    "        \n",
    "        - Internações por ASMA  ou PNEUMOPATIA\n",
    "\n",
    "- Grupos Vulneráveis \n",
    "    - Analisar separadamente:\n",
    "        - Crianças (0-12) e Idosos (66+)\n",
    "\n",
    "        - Portadores de ASMA, PNEUMOPATIA ou OBESIDADE\n",
    "\n",
    "- Exemplo de Insight Útil:\n",
    "    - *\"Dias com MP₂.₅ > 25 μg/m³ (acima do limite da OMS) aumentam em 40% as internações por asma infantil em São Paulo.\"*\n",
    "\n",
    "##### Métricas de Qualidades do Ar:\n",
    "\n",
    "* 0 - 40: BOA\n",
    "\n",
    "* 41 - 80: MODERADA\n",
    "\n",
    "* 81 - 120: RUIM\n",
    "\n",
    "* 121 - 200: MUITO RUIM\n",
    "\n",
    "* +200: PÉSSIMA\n"
   ]
  }
 ],
 "metadata": {
  "kernelspec": {
   "display_name": "air-quality",
   "language": "python",
   "name": "python3"
  },
  "language_info": {
   "codemirror_mode": {
    "name": "ipython",
    "version": 3
   },
   "file_extension": ".py",
   "mimetype": "text/x-python",
   "name": "python",
   "nbconvert_exporter": "python",
   "pygments_lexer": "ipython3",
   "version": "3.12.7"
  }
 },
 "nbformat": 4,
 "nbformat_minor": 5
}
