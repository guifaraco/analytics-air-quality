{
 "cells": [
  {
   "cell_type": "markdown",
   "id": "3a533994",
   "metadata": {},
   "source": [
    "# Análise Exploratória (EDA)"
   ]
  },
  {
   "cell_type": "code",
   "execution_count": 15,
   "id": "a3354b63",
   "metadata": {},
   "outputs": [],
   "source": [
    "import pandas as pd\n",
    "import numpy as np\n",
    "import matplotlib.pyplot as plt\n",
    "import seaborn as sns"
   ]
  },
  {
   "cell_type": "code",
   "execution_count": 16,
   "id": "28f59e73",
   "metadata": {},
   "outputs": [],
   "source": [
    "df_sus = pd.read_csv('../data/opendatasus/opendatasus.csv', encoding='latin1', sep=';', low_memory=False)\n",
    "df_estacoes = pd.read_csv('../data/estacoes_monitorar/estacoes.csv', encoding='latin1', sep=';', low_memory=False)\n",
    "df_medidas_jan_mar = pd.read_csv('../data/medidas_monitorar/medidas_jan_mar.csv', encoding='latin1', sep=';', low_memory=False)\n",
    "df_medidas_abr_jun = pd.read_csv('../data/medidas_monitorar/medidas_abr_jun.csv', encoding='latin1', sep=';', low_memory=False)\n",
    "df_medidas_jul_nov = pd.read_csv('../data/medidas_monitorar/medidas_jul_nov.csv', encoding='latin1', sep=';', low_memory=False)"
   ]
  },
  {
   "cell_type": "code",
   "execution_count": null,
   "id": "a078f541",
   "metadata": {},
   "outputs": [],
   "source": [
    "# Useful columns \n",
    "df_sus = df_sus[['DT_SIN_PRI', 'CS_SEXO', 'DT_NASC', 'CS_RACA', 'CS_ESCOL_N', 'SG_UF', 'ID_MN_RESI', 'CO_MUN_RES', \n",
    "                'CLASSI_FIN', 'CRITERIO', 'EVOLUCAO', 'DT_EVOLUCA']]\n",
    "\n",
    "df_estacoes = df_estacoes[['ï»¿CÃ³digo IBGE do MunicÃ­pio', 'Nome do MunicÃ­pio', 'Estado', 'ID da EstaÃ§Ã£o', 'Nome da EstaÃ§Ã£o', 'Latitude', 'Longitude']]\n",
    "\n",
    "df_medidas = pd.concat([df_medidas_jan_mar,df_medidas_abr_jun, df_medidas_jul_nov])\n",
    "\n",
    "df_medidas = df_medidas[['Nome do Município', 'Estado', 'Nome da Estação', 'Item_monitorado', 'Sigla', 'Concentracao', 'iqar']]"
   ]
  },
  {
   "cell_type": "code",
   "execution_count": 40,
   "id": "839e823b",
   "metadata": {},
   "outputs": [],
   "source": [
    "# Renaming columns datasus\n",
    "df_sus.columns = df_sus.columns.str.lower()\n"
   ]
  },
  {
   "cell_type": "code",
   "execution_count": 42,
   "id": "16b3b4b9",
   "metadata": {},
   "outputs": [],
   "source": [
    "# Renaming columns df_estacoes\n",
    "new_names = ['codigo_mun', 'nome_mun', 'uf', 'id_estacao', 'nome_estacao', 'latitude', 'longitude']\n",
    "dict = {}\n",
    "\n",
    "for i, j in zip(df_estacoes.columns, new_names):\n",
    "    dict[i] = j\n",
    "\n",
    "df_estacoes.rename(columns=dict, inplace=True)"
   ]
  },
  {
   "cell_type": "code",
   "execution_count": 43,
   "id": "dfb32532",
   "metadata": {},
   "outputs": [],
   "source": [
    "# Renaming column df_medidas\n",
    "new_names = ['nome_mun', 'uf', 'nome_estacao', 'item_monitorado', 'sigla', 'concentracao', 'iqar']\n",
    "dict = {}\n",
    "\n",
    "for i, j in zip(df_medidas.columns, new_names):\n",
    "    dict[i] = j\n",
    "\n",
    "df_medidas.rename(columns=dict, inplace=True)"
   ]
  },
  {
   "cell_type": "code",
   "execution_count": 44,
   "id": "8624048a",
   "metadata": {},
   "outputs": [
    {
     "data": {
      "text/html": [
       "<div>\n",
       "<style scoped>\n",
       "    .dataframe tbody tr th:only-of-type {\n",
       "        vertical-align: middle;\n",
       "    }\n",
       "\n",
       "    .dataframe tbody tr th {\n",
       "        vertical-align: top;\n",
       "    }\n",
       "\n",
       "    .dataframe thead th {\n",
       "        text-align: right;\n",
       "    }\n",
       "</style>\n",
       "<table border=\"1\" class=\"dataframe\">\n",
       "  <thead>\n",
       "    <tr style=\"text-align: right;\">\n",
       "      <th></th>\n",
       "      <th>dt_sin_pri</th>\n",
       "      <th>cs_sexo</th>\n",
       "      <th>dt_nasc</th>\n",
       "      <th>cs_raca</th>\n",
       "      <th>cs_escol_n</th>\n",
       "      <th>sg_uf</th>\n",
       "      <th>id_mn_resi</th>\n",
       "      <th>co_mun_res</th>\n",
       "      <th>classi_fin</th>\n",
       "      <th>criterio</th>\n",
       "      <th>evolucao</th>\n",
       "      <th>dt_evoluca</th>\n",
       "    </tr>\n",
       "  </thead>\n",
       "  <tbody>\n",
       "    <tr>\n",
       "      <th>0</th>\n",
       "      <td>2019-12-29</td>\n",
       "      <td>F</td>\n",
       "      <td>1967-12-06</td>\n",
       "      <td>NaN</td>\n",
       "      <td>NaN</td>\n",
       "      <td>SP</td>\n",
       "      <td>CATANDUVA</td>\n",
       "      <td>351110.0</td>\n",
       "      <td>4.0</td>\n",
       "      <td>1.0</td>\n",
       "      <td>1.0</td>\n",
       "      <td>2020-01-04</td>\n",
       "    </tr>\n",
       "    <tr>\n",
       "      <th>1</th>\n",
       "      <td>2019-12-29</td>\n",
       "      <td>F</td>\n",
       "      <td>2000-12-13</td>\n",
       "      <td>2.0</td>\n",
       "      <td>2.0</td>\n",
       "      <td>RS</td>\n",
       "      <td>SAO JOSE DOS AUSENTES</td>\n",
       "      <td>431862.0</td>\n",
       "      <td>4.0</td>\n",
       "      <td>1.0</td>\n",
       "      <td>1.0</td>\n",
       "      <td>2020-04-05</td>\n",
       "    </tr>\n",
       "    <tr>\n",
       "      <th>2</th>\n",
       "      <td>2019-12-30</td>\n",
       "      <td>M</td>\n",
       "      <td>2019-05-17</td>\n",
       "      <td>9.0</td>\n",
       "      <td>5.0</td>\n",
       "      <td>SP</td>\n",
       "      <td>SAO PAULO</td>\n",
       "      <td>355030.0</td>\n",
       "      <td>1.0</td>\n",
       "      <td>1.0</td>\n",
       "      <td>1.0</td>\n",
       "      <td>2020-01-06</td>\n",
       "    </tr>\n",
       "    <tr>\n",
       "      <th>3</th>\n",
       "      <td>2019-12-30</td>\n",
       "      <td>M</td>\n",
       "      <td>2017-08-22</td>\n",
       "      <td>2.0</td>\n",
       "      <td>5.0</td>\n",
       "      <td>PR</td>\n",
       "      <td>FOZ DO IGUACU</td>\n",
       "      <td>410830.0</td>\n",
       "      <td>2.0</td>\n",
       "      <td>1.0</td>\n",
       "      <td>1.0</td>\n",
       "      <td>2020-01-02</td>\n",
       "    </tr>\n",
       "    <tr>\n",
       "      <th>4</th>\n",
       "      <td>2019-12-29</td>\n",
       "      <td>F</td>\n",
       "      <td>2019-07-22</td>\n",
       "      <td>1.0</td>\n",
       "      <td>5.0</td>\n",
       "      <td>PR</td>\n",
       "      <td>FOZ DO IGUACU</td>\n",
       "      <td>410830.0</td>\n",
       "      <td>2.0</td>\n",
       "      <td>1.0</td>\n",
       "      <td>1.0</td>\n",
       "      <td>2020-01-05</td>\n",
       "    </tr>\n",
       "  </tbody>\n",
       "</table>\n",
       "</div>"
      ],
      "text/plain": [
       "   dt_sin_pri cs_sexo     dt_nasc  cs_raca  cs_escol_n sg_uf  \\\n",
       "0  2019-12-29       F  1967-12-06      NaN         NaN    SP   \n",
       "1  2019-12-29       F  2000-12-13      2.0         2.0    RS   \n",
       "2  2019-12-30       M  2019-05-17      9.0         5.0    SP   \n",
       "3  2019-12-30       M  2017-08-22      2.0         5.0    PR   \n",
       "4  2019-12-29       F  2019-07-22      1.0         5.0    PR   \n",
       "\n",
       "              id_mn_resi  co_mun_res  classi_fin  criterio  evolucao  \\\n",
       "0              CATANDUVA    351110.0         4.0       1.0       1.0   \n",
       "1  SAO JOSE DOS AUSENTES    431862.0         4.0       1.0       1.0   \n",
       "2              SAO PAULO    355030.0         1.0       1.0       1.0   \n",
       "3          FOZ DO IGUACU    410830.0         2.0       1.0       1.0   \n",
       "4          FOZ DO IGUACU    410830.0         2.0       1.0       1.0   \n",
       "\n",
       "   dt_evoluca  \n",
       "0  2020-01-04  \n",
       "1  2020-04-05  \n",
       "2  2020-01-06  \n",
       "3  2020-01-02  \n",
       "4  2020-01-05  "
      ]
     },
     "execution_count": 44,
     "metadata": {},
     "output_type": "execute_result"
    }
   ],
   "source": [
    "df_sus.head()"
   ]
  },
  {
   "cell_type": "markdown",
   "id": "1cc8acbf",
   "metadata": {},
   "source": [
    "### DFS:\n",
    "\n",
    "* df_sus: Dados do OpenDataSUS apenas com as colunas que vamos utilizar para a análise\n",
    "    - Colunas:\n",
    "        - Data dos primeiros sintomas (dt_sin_pri)\n",
    "        - Sexo (Masculino ou Femino) (cs_sexo)\n",
    "            - 1: Masculino\n",
    "            - 2: Feminino\n",
    "            - 3: Ignorado\n",
    "        - Data de Nascimento (dt_nasc)\n",
    "        - Raca (cs_raca)\n",
    "            - 1: Branca\n",
    "            - 2: Preta\n",
    "            - 3: Amarela\n",
    "            - 4: Parda\n",
    "            - 5: Indígena\n",
    "            - 9: Ignorado \n",
    "        - Nivel de escolaridade (cs_escol_n)\n",
    "            - 0: Sem Escolaridade/Analfabeto\n",
    "            - 1: Fundamental 1º ciclo (1ª a 5ª série)\n",
    "            - 2: Fundamental 2º ciclo (6ª a 9ª série)\n",
    "            - 3: Médio (1º ao 3º ano)\n",
    "            - 4: Superior\n",
    "            - 5: Não se aplica\n",
    "            - 9: Ignorado\n",
    "        - UF de moradia (sg_uf)\n",
    "        - Nome do município de residência (id_mn_resi)\n",
    "        - ID IBGE do município (co_mun_res)\n",
    "        - Classificação final do caso (classi_fin)\n",
    "            - 1: SRAG por Influenza\n",
    "            - 2: SRAG por outro vírus resporatório\n",
    "            - 3: SRAG por outro agente etiológico\n",
    "            - 4: SRAG não especificado\n",
    "            - 5: SRAG por covid-19\n",
    "        - Criterio adotado para evolução do caso (criterio)\n",
    "            - 1: Laboratorial\n",
    "            - 2: Clínico Epidemiológico\n",
    "            - 3: Clínico\n",
    "            - 4: Clínico imagem\n",
    "        - Evolução do caso, se deu alta ou óbito (evolucao)\n",
    "            - 1: Cura\n",
    "            - 2: Óbito\n",
    "            - 3: Óbito por outras causas\n",
    "            - 9: Ignorado\n",
    "        - Data da evolucao (dt_evolucao)\n",
    "\n",
    "* df_medidas: medidas do MonitorAr\n",
    "\n",
    "* df_estacoes: dados sobre as estacoes\n",
    "    - Código do munícipio de acordo com IBGE (codigo_mun)\n",
    "    - Nome do município (nome_mun)\n",
    "    - Estado de localização (uf)\n",
    "    - ID da estação (id_estacao)\n",
    "    - Nome da estação (nome_estacao)\n",
    "    - Latitude e longitude da localizacação (latitude e longitude)"
   ]
  },
  {
   "cell_type": "code",
   "execution_count": 47,
   "id": "961b45d4",
   "metadata": {},
   "outputs": [
    {
     "data": {
      "text/plain": [
       "dt_sin_pri         0\n",
       "cs_sexo            0\n",
       "dt_nasc         2139\n",
       "cs_raca        43310\n",
       "cs_escol_n    359611\n",
       "sg_uf            113\n",
       "id_mn_resi       113\n",
       "co_mun_res       113\n",
       "classi_fin     32862\n",
       "criterio       55277\n",
       "evolucao       76522\n",
       "dt_evoluca    152891\n",
       "dtype: int64"
      ]
     },
     "execution_count": 47,
     "metadata": {},
     "output_type": "execute_result"
    }
   ],
   "source": [
    "# Veryfing null/na columns\n",
    "sus_null_columns = df_sus.isna().sum()\n",
    "sus_null_columns\n"
   ]
  },
  {
   "cell_type": "code",
   "execution_count": 49,
   "id": "4d9f6dad",
   "metadata": {},
   "outputs": [
    {
     "data": {
      "text/plain": [
       "nome_mun                 0\n",
       "uf                       0\n",
       "nome_estacao             0\n",
       "item_monitorado          0\n",
       "sigla                    0\n",
       "concentracao             0\n",
       "iqar               1045240\n",
       "dtype: int64"
      ]
     },
     "execution_count": 49,
     "metadata": {},
     "output_type": "execute_result"
    }
   ],
   "source": [
    "medidas_null_columns  = df_medidas.isnull().sum()\n",
    "medidas_null_columns"
   ]
  },
  {
   "cell_type": "code",
   "execution_count": 51,
   "id": "cb7d4864",
   "metadata": {},
   "outputs": [
    {
     "data": {
      "text/plain": [
       "codigo_mun      0\n",
       "nome_mun        0\n",
       "uf              0\n",
       "id_estacao      0\n",
       "nome_estacao    0\n",
       "latitude        0\n",
       "longitude       0\n",
       "dtype: int64"
      ]
     },
     "execution_count": 51,
     "metadata": {},
     "output_type": "execute_result"
    }
   ],
   "source": [
    "estacoes_null_columns = df_estacoes.isnull().sum()\n",
    "estacoes_null_columns"
   ]
  },
  {
   "cell_type": "code",
   "execution_count": null,
   "id": "6a2783f2",
   "metadata": {},
   "outputs": [],
   "source": [
    "from pyairquality.aqi import AQI\n",
    "\n",
    "# Suponha que você tenha uma concentração de PM2.5\n",
    "pm25_concentration = 42.0  # µg/m³\n",
    "\n",
    "# Calcula o AQI baseado na EPA dos EUA\n",
    "aqi = AQI()\n",
    "iqar_pm25 = aqi.pm25(pm25_concentration)\n",
    "\n",
    "print(f\"AQI para PM2.5: {iqar_pm25}\")\n"
   ]
  }
 ],
 "metadata": {
  "kernelspec": {
   "display_name": "air-quality",
   "language": "python",
   "name": "python3"
  },
  "language_info": {
   "codemirror_mode": {
    "name": "ipython",
    "version": 3
   },
   "file_extension": ".py",
   "mimetype": "text/x-python",
   "name": "python",
   "nbconvert_exporter": "python",
   "pygments_lexer": "ipython3",
   "version": "3.12.7"
  }
 },
 "nbformat": 4,
 "nbformat_minor": 5
}
