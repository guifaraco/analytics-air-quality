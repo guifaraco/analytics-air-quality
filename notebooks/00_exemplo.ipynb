{
 "cells": [
  {
   "cell_type": "markdown",
   "id": "3a533994",
   "metadata": {},
   "source": [
    "# Análise Exploratória (EDA)"
   ]
  },
  {
   "cell_type": "code",
   "execution_count": 77,
   "id": "a3354b63",
   "metadata": {},
   "outputs": [],
   "source": [
    "import pandas as pd\n",
    "import numpy as np\n",
    "import matplotlib.pyplot as plt\n",
    "import seaborn as sns\n",
    "import plotly as py\n",
    "import plotly.graph_objs as go\n"
   ]
  },
  {
   "cell_type": "code",
   "execution_count": 78,
   "id": "28f59e73",
   "metadata": {},
   "outputs": [],
   "source": [
    "df_sus = pd.read_csv('../data/opendatasus/opendatasus.csv', encoding='latin1', sep=';', low_memory=False)\n",
    "df_estacoes = pd.read_csv('../data/estacoes_monitorar/estacoes.csv', encoding='latin1', sep=';', low_memory=False)\n",
    "df_medidas_jan_mar = pd.read_csv('../data/medidas_monitorar/medidas_jan_mar.csv', encoding='latin1', sep=';', low_memory=False)\n",
    "df_medidas_abr_jun = pd.read_csv('../data/medidas_monitorar/medidas_abr_jun.csv', encoding='latin1', sep=';', low_memory=False)\n",
    "df_medidas_jul_nov = pd.read_csv('../data/medidas_monitorar/medidas_jul_nov.csv', encoding='latin1', sep=';', low_memory=False)"
   ]
  },
  {
   "cell_type": "code",
   "execution_count": 79,
   "id": "a078f541",
   "metadata": {},
   "outputs": [],
   "source": [
    "# Useful columns \n",
    "df_sus = df_sus[['DT_SIN_PRI', 'CS_SEXO', 'DT_NASC', 'CS_RACA', 'CS_ESCOL_N', 'SG_UF', 'ID_MN_RESI', 'CO_MUN_RES', \n",
    "                'CLASSI_FIN', 'CRITERIO', 'EVOLUCAO', 'DT_EVOLUCA']]\n",
    "\n",
    "df_estacoes = df_estacoes[['ï»¿CÃ³digo IBGE do MunicÃ­pio', 'Nome do MunicÃ­pio', 'Estado', 'ID da EstaÃ§Ã£o', 'Nome da EstaÃ§Ã£o', 'Latitude', 'Longitude']]\n",
    "\n",
    "df_medidas = pd.concat([df_medidas_jan_mar,df_medidas_abr_jun, df_medidas_jul_nov])\n",
    "\n",
    "df_medidas = df_medidas[['Nome do Município', 'Estado', 'Nome da Estação', 'Item_monitorado', 'Sigla', 'Concentracao', 'iqar']]"
   ]
  },
  {
   "cell_type": "code",
   "execution_count": 80,
   "id": "839e823b",
   "metadata": {},
   "outputs": [],
   "source": [
    "# Renaming columns datasus\n",
    "df_sus.columns = df_sus.columns.str.lower()\n"
   ]
  },
  {
   "cell_type": "code",
   "execution_count": 81,
   "id": "16b3b4b9",
   "metadata": {},
   "outputs": [],
   "source": [
    "# Renaming columns df_estacoes\n",
    "new_names = ['codigo_mun', 'nome_mun', 'uf', 'id_estacao', 'nome_estacao', 'latitude', 'longitude']\n",
    "dict_names = {}\n",
    "\n",
    "for i, j in zip(df_estacoes.columns, new_names):\n",
    "    dict_names[i] = j\n",
    "\n",
    "df_estacoes.rename(columns=dict_names, inplace=True)"
   ]
  },
  {
   "cell_type": "code",
   "execution_count": 82,
   "id": "dfb32532",
   "metadata": {},
   "outputs": [],
   "source": [
    "# Renaming column df_medidas\n",
    "new_names = ['nome_mun', 'uf', 'nome_estacao', 'item_monitorado', 'sigla', 'concentracao', 'iqar']\n",
    "dict_names = {}\n",
    "\n",
    "for i, j in zip(df_medidas.columns, new_names):\n",
    "    dict_names[i] = j\n",
    "\n",
    "df_medidas.rename(columns=dict_names, inplace=True)"
   ]
  },
  {
   "cell_type": "code",
   "execution_count": 83,
   "id": "8624048a",
   "metadata": {},
   "outputs": [
    {
     "data": {
      "text/html": [
       "<div>\n",
       "<style scoped>\n",
       "    .dataframe tbody tr th:only-of-type {\n",
       "        vertical-align: middle;\n",
       "    }\n",
       "\n",
       "    .dataframe tbody tr th {\n",
       "        vertical-align: top;\n",
       "    }\n",
       "\n",
       "    .dataframe thead th {\n",
       "        text-align: right;\n",
       "    }\n",
       "</style>\n",
       "<table border=\"1\" class=\"dataframe\">\n",
       "  <thead>\n",
       "    <tr style=\"text-align: right;\">\n",
       "      <th></th>\n",
       "      <th>dt_sin_pri</th>\n",
       "      <th>cs_sexo</th>\n",
       "      <th>dt_nasc</th>\n",
       "      <th>cs_raca</th>\n",
       "      <th>cs_escol_n</th>\n",
       "      <th>sg_uf</th>\n",
       "      <th>id_mn_resi</th>\n",
       "      <th>co_mun_res</th>\n",
       "      <th>classi_fin</th>\n",
       "      <th>criterio</th>\n",
       "      <th>evolucao</th>\n",
       "      <th>dt_evoluca</th>\n",
       "    </tr>\n",
       "  </thead>\n",
       "  <tbody>\n",
       "    <tr>\n",
       "      <th>0</th>\n",
       "      <td>2019-12-29</td>\n",
       "      <td>F</td>\n",
       "      <td>1967-12-06</td>\n",
       "      <td>NaN</td>\n",
       "      <td>NaN</td>\n",
       "      <td>SP</td>\n",
       "      <td>CATANDUVA</td>\n",
       "      <td>351110.0</td>\n",
       "      <td>4.0</td>\n",
       "      <td>1.0</td>\n",
       "      <td>1.0</td>\n",
       "      <td>2020-01-04</td>\n",
       "    </tr>\n",
       "    <tr>\n",
       "      <th>1</th>\n",
       "      <td>2019-12-29</td>\n",
       "      <td>F</td>\n",
       "      <td>2000-12-13</td>\n",
       "      <td>2.0</td>\n",
       "      <td>2.0</td>\n",
       "      <td>RS</td>\n",
       "      <td>SAO JOSE DOS AUSENTES</td>\n",
       "      <td>431862.0</td>\n",
       "      <td>4.0</td>\n",
       "      <td>1.0</td>\n",
       "      <td>1.0</td>\n",
       "      <td>2020-04-05</td>\n",
       "    </tr>\n",
       "    <tr>\n",
       "      <th>2</th>\n",
       "      <td>2019-12-30</td>\n",
       "      <td>M</td>\n",
       "      <td>2019-05-17</td>\n",
       "      <td>9.0</td>\n",
       "      <td>5.0</td>\n",
       "      <td>SP</td>\n",
       "      <td>SAO PAULO</td>\n",
       "      <td>355030.0</td>\n",
       "      <td>1.0</td>\n",
       "      <td>1.0</td>\n",
       "      <td>1.0</td>\n",
       "      <td>2020-01-06</td>\n",
       "    </tr>\n",
       "    <tr>\n",
       "      <th>3</th>\n",
       "      <td>2019-12-30</td>\n",
       "      <td>M</td>\n",
       "      <td>2017-08-22</td>\n",
       "      <td>2.0</td>\n",
       "      <td>5.0</td>\n",
       "      <td>PR</td>\n",
       "      <td>FOZ DO IGUACU</td>\n",
       "      <td>410830.0</td>\n",
       "      <td>2.0</td>\n",
       "      <td>1.0</td>\n",
       "      <td>1.0</td>\n",
       "      <td>2020-01-02</td>\n",
       "    </tr>\n",
       "    <tr>\n",
       "      <th>4</th>\n",
       "      <td>2019-12-29</td>\n",
       "      <td>F</td>\n",
       "      <td>2019-07-22</td>\n",
       "      <td>1.0</td>\n",
       "      <td>5.0</td>\n",
       "      <td>PR</td>\n",
       "      <td>FOZ DO IGUACU</td>\n",
       "      <td>410830.0</td>\n",
       "      <td>2.0</td>\n",
       "      <td>1.0</td>\n",
       "      <td>1.0</td>\n",
       "      <td>2020-01-05</td>\n",
       "    </tr>\n",
       "  </tbody>\n",
       "</table>\n",
       "</div>"
      ],
      "text/plain": [
       "   dt_sin_pri cs_sexo     dt_nasc  cs_raca  cs_escol_n sg_uf  \\\n",
       "0  2019-12-29       F  1967-12-06      NaN         NaN    SP   \n",
       "1  2019-12-29       F  2000-12-13      2.0         2.0    RS   \n",
       "2  2019-12-30       M  2019-05-17      9.0         5.0    SP   \n",
       "3  2019-12-30       M  2017-08-22      2.0         5.0    PR   \n",
       "4  2019-12-29       F  2019-07-22      1.0         5.0    PR   \n",
       "\n",
       "              id_mn_resi  co_mun_res  classi_fin  criterio  evolucao  \\\n",
       "0              CATANDUVA    351110.0         4.0       1.0       1.0   \n",
       "1  SAO JOSE DOS AUSENTES    431862.0         4.0       1.0       1.0   \n",
       "2              SAO PAULO    355030.0         1.0       1.0       1.0   \n",
       "3          FOZ DO IGUACU    410830.0         2.0       1.0       1.0   \n",
       "4          FOZ DO IGUACU    410830.0         2.0       1.0       1.0   \n",
       "\n",
       "   dt_evoluca  \n",
       "0  2020-01-04  \n",
       "1  2020-04-05  \n",
       "2  2020-01-06  \n",
       "3  2020-01-02  \n",
       "4  2020-01-05  "
      ]
     },
     "execution_count": 83,
     "metadata": {},
     "output_type": "execute_result"
    }
   ],
   "source": [
    "df_sus.head()"
   ]
  },
  {
   "cell_type": "markdown",
   "id": "1cc8acbf",
   "metadata": {},
   "source": [
    "### DFS:\n",
    "\n",
    "* df_sus: Dados do OpenDataSUS apenas com as colunas que vamos utilizar para a análise\n",
    "    - Colunas:\n",
    "        - Data dos primeiros sintomas (dt_sin_pri)\n",
    "        - Sexo (Masculino ou Femino) (cs_sexo)\n",
    "            - 1: Masculino\n",
    "            - 2: Feminino\n",
    "            - 3: Ignorado\n",
    "        - Data de Nascimento (dt_nasc)\n",
    "        - Raca (cs_raca)\n",
    "            - 1: Branca\n",
    "            - 2: Preta\n",
    "            - 3: Amarela\n",
    "            - 4: Parda\n",
    "            - 5: Indígena\n",
    "            - 9: Ignorado \n",
    "        - Nivel de escolaridade (cs_escol_n)\n",
    "            - 0: Sem Escolaridade/Analfabeto\n",
    "            - 1: Fundamental 1º ciclo (1ª a 5ª série)\n",
    "            - 2: Fundamental 2º ciclo (6ª a 9ª série)\n",
    "            - 3: Médio (1º ao 3º ano)\n",
    "            - 4: Superior\n",
    "            - 5: Não se aplica\n",
    "            - 9: Ignorado\n",
    "        - UF de moradia (sg_uf)\n",
    "        - Nome do município de residência (id_mn_resi)\n",
    "        - ID IBGE do município (co_mun_res)\n",
    "        - Classificação final do caso (classi_fin)\n",
    "            - 1: SRAG por Influenza\n",
    "            - 2: SRAG por outro vírus resporatório\n",
    "            - 3: SRAG por outro agente etiológico\n",
    "            - 4: SRAG não especificado\n",
    "            - 5: SRAG por covid-19\n",
    "        - Criterio adotado para evolução do caso (criterio)\n",
    "            - 1: Laboratorial\n",
    "            - 2: Clínico Epidemiológico\n",
    "            - 3: Clínico\n",
    "            - 4: Clínico imagem\n",
    "        - Evolução do caso, se deu alta ou óbito (evolucao)\n",
    "            - 1: Cura\n",
    "            - 2: Óbito\n",
    "            - 3: Óbito por outras causas\n",
    "            - 9: Ignorado\n",
    "        - Data da evolucao (dt_evolucao)\n",
    "\n",
    "* df_medidas: medidas do MonitorAr\n",
    "\n",
    "* df_estacoes: dados sobre as estacoes\n",
    "    - Código do munícipio de acordo com IBGE (codigo_mun)\n",
    "    - Nome do município (nome_mun)\n",
    "    - Estado de localização (uf)\n",
    "    - ID da estação (id_estacao)\n",
    "    - Nome da estação (nome_estacao)\n",
    "    - Latitude e longitude da localizacação (latitude e longitude)"
   ]
  },
  {
   "cell_type": "code",
   "execution_count": 84,
   "id": "961b45d4",
   "metadata": {},
   "outputs": [
    {
     "data": {
      "text/plain": [
       "dt_sin_pri         0\n",
       "cs_sexo            0\n",
       "dt_nasc         2139\n",
       "cs_raca        43310\n",
       "cs_escol_n    359611\n",
       "sg_uf            113\n",
       "id_mn_resi       113\n",
       "co_mun_res       113\n",
       "classi_fin     32862\n",
       "criterio       55277\n",
       "evolucao       76522\n",
       "dt_evoluca    152891\n",
       "dtype: int64"
      ]
     },
     "execution_count": 84,
     "metadata": {},
     "output_type": "execute_result"
    }
   ],
   "source": [
    "# Veryfing null/na columns\n",
    "sus_null_columns = df_sus.isna().sum()\n",
    "sus_null_columns\n"
   ]
  },
  {
   "cell_type": "code",
   "execution_count": 85,
   "id": "4d9f6dad",
   "metadata": {},
   "outputs": [
    {
     "data": {
      "text/plain": [
       "nome_mun                 0\n",
       "uf                       0\n",
       "nome_estacao             0\n",
       "item_monitorado          0\n",
       "sigla                    0\n",
       "concentracao             0\n",
       "iqar               1045240\n",
       "dtype: int64"
      ]
     },
     "execution_count": 85,
     "metadata": {},
     "output_type": "execute_result"
    }
   ],
   "source": [
    "medidas_null_columns  = df_medidas.isnull().sum()\n",
    "medidas_null_columns"
   ]
  },
  {
   "cell_type": "code",
   "execution_count": 86,
   "id": "cb7d4864",
   "metadata": {},
   "outputs": [
    {
     "data": {
      "text/plain": [
       "codigo_mun      0\n",
       "nome_mun        0\n",
       "uf              0\n",
       "id_estacao      0\n",
       "nome_estacao    0\n",
       "latitude        0\n",
       "longitude       0\n",
       "dtype: int64"
      ]
     },
     "execution_count": 86,
     "metadata": {},
     "output_type": "execute_result"
    }
   ],
   "source": [
    "estacoes_null_columns = df_estacoes.isnull().sum()\n",
    "estacoes_null_columns"
   ]
  },
  {
   "cell_type": "code",
   "execution_count": 87,
   "id": "6a2783f2",
   "metadata": {},
   "outputs": [],
   "source": [
    "df_sus['dt_sin_pri'] = pd.to_datetime(df_sus['dt_sin_pri'])\n",
    "df_sus['dt_nasc'] = pd.to_datetime(df_sus['dt_nasc'])"
   ]
  },
  {
   "cell_type": "code",
   "execution_count": 88,
   "id": "4864c911",
   "metadata": {},
   "outputs": [],
   "source": [
    "df_sus['idade'] = (df_sus['dt_sin_pri'] - df_sus['dt_nasc']).dt.days // 365"
   ]
  },
  {
   "cell_type": "code",
   "execution_count": 89,
   "id": "08060209",
   "metadata": {},
   "outputs": [
    {
     "data": {
      "text/plain": [
       "np.int64(2139)"
      ]
     },
     "execution_count": 89,
     "metadata": {},
     "output_type": "execute_result"
    }
   ],
   "source": [
    "df_sus['idade'].isna().sum()"
   ]
  },
  {
   "cell_type": "code",
   "execution_count": 90,
   "id": "9dcab0c8",
   "metadata": {},
   "outputs": [],
   "source": [
    "df_sus.dropna(subset=['idade'], inplace=True)"
   ]
  },
  {
   "cell_type": "code",
   "execution_count": 91,
   "id": "4b8e8568",
   "metadata": {},
   "outputs": [
    {
     "data": {
      "text/plain": [
       "np.int64(0)"
      ]
     },
     "execution_count": 91,
     "metadata": {},
     "output_type": "execute_result"
    }
   ],
   "source": [
    "df_sus['idade'].isna().sum()"
   ]
  },
  {
   "cell_type": "code",
   "execution_count": 92,
   "id": "61a23cd7",
   "metadata": {},
   "outputs": [
    {
     "data": {
      "text/plain": [
       "0          F\n",
       "1          F\n",
       "2          M\n",
       "3          M\n",
       "4          F\n",
       "          ..\n",
       "1206915    F\n",
       "1206916    M\n",
       "1206917    M\n",
       "1206918    M\n",
       "1206919    F\n",
       "Name: cs_sexo, Length: 1204781, dtype: object"
      ]
     },
     "execution_count": 92,
     "metadata": {},
     "output_type": "execute_result"
    }
   ],
   "source": [
    "df_sus['cs_sexo'].dropna()"
   ]
  },
  {
   "cell_type": "code",
   "execution_count": 93,
   "id": "abd2336b",
   "metadata": {},
   "outputs": [
    {
     "data": {
      "text/plain": [
       "np.int64(0)"
      ]
     },
     "execution_count": 93,
     "metadata": {},
     "output_type": "execute_result"
    }
   ],
   "source": [
    "df_sus['cs_sexo'].isnull().sum()"
   ]
  },
  {
   "cell_type": "code",
   "execution_count": 94,
   "id": "48fc71b8",
   "metadata": {},
   "outputs": [],
   "source": [
    "def faixa_etaria(idade):\n",
    "    '''\n",
    "        Função que recebe a idade e de acordo com isso, fornece em qual faixa etária o indivíduo se encaixa:\n",
    "            Criança (0 -13 anos)\n",
    "            Adolescente (13 - 17 anos)\n",
    "            Adulto (18 - 64 anos)\n",
    "            Idosos ( >= 65 anos)\n",
    "    '''\n",
    "    if idade >= 0 and idade < 13:\n",
    "        return'crianca'\n",
    "    elif idade >= 13 and idade < 18:\n",
    "        return 'adolescente'\n",
    "    elif idade >= 18 and idade < 65:\n",
    "        return 'adulto'\n",
    "    else:\n",
    "        return 'idoso'"
   ]
  },
  {
   "cell_type": "code",
   "execution_count": 95,
   "id": "33d6b4fd",
   "metadata": {},
   "outputs": [],
   "source": [
    "# Criando a coluna faixa etária para analisar\n",
    "df_sus['faixa_etaria'] = df_sus['idade'].apply(faixa_etaria)"
   ]
  },
  {
   "cell_type": "code",
   "execution_count": 96,
   "id": "291a5dac",
   "metadata": {},
   "outputs": [
    {
     "data": {
      "text/plain": [
       "np.int64(32789)"
      ]
     },
     "execution_count": 96,
     "metadata": {},
     "output_type": "execute_result"
    }
   ],
   "source": [
    "# Verificando se há valores nulos\n",
    "df_sus['classi_fin'].isnull().sum()"
   ]
  },
  {
   "cell_type": "code",
   "execution_count": 97,
   "id": "44e05439",
   "metadata": {},
   "outputs": [],
   "source": [
    "# Dropando valores nulos da classificação final\n",
    "df_sus.dropna(subset=['classi_fin'], inplace=True)"
   ]
  },
  {
   "cell_type": "code",
   "execution_count": 98,
   "id": "5ee1b089",
   "metadata": {},
   "outputs": [],
   "source": [
    "# Transformando a classificação final do tipo string para inteiro\n",
    "df_sus['classi_fin'] = df_sus['classi_fin'].astype(int)"
   ]
  },
  {
   "cell_type": "code",
   "execution_count": 99,
   "id": "ca32000b",
   "metadata": {},
   "outputs": [],
   "source": [
    "# Filter only rows with classi_fin > 0\n",
    "filtered_df = df_sus[df_sus['classi_fin'] > 0]\n",
    "\n",
    "# Create the key by combining faixa_etaria and sexo\n",
    "filtered_df['key'] = filtered_df['faixa_etaria'] + filtered_df['cs_sexo'].map({'M': 'masculino', 'F': 'feminino'})\n",
    "\n",
    "# Count occurrences of each key\n",
    "final_dict = filtered_df['key'].value_counts().to_dict()"
   ]
  },
  {
   "cell_type": "code",
   "execution_count": 100,
   "id": "c9aeb39e",
   "metadata": {},
   "outputs": [
    {
     "data": {
      "text/plain": [
       "{'adultomasculino': 334365,\n",
       " 'adultofeminino': 258905,\n",
       " 'idosomasculino': 254525,\n",
       " 'idosofeminino': 240841,\n",
       " 'criancamasculino': 41159,\n",
       " 'criancafeminino': 32446,\n",
       " 'adolescentefeminino': 5239,\n",
       " 'adolescentemasculino': 4227}"
      ]
     },
     "execution_count": 100,
     "metadata": {},
     "output_type": "execute_result"
    }
   ],
   "source": [
    "final_dict"
   ]
  },
  {
   "cell_type": "code",
   "execution_count": 101,
   "id": "636ae950",
   "metadata": {},
   "outputs": [
    {
     "data": {
      "application/vnd.plotly.v1+json": {
       "config": {
        "plotlyServerURL": "https://plot.ly"
       },
       "data": [
        {
         "hoverinfo": "x",
         "marker": {
          "color": "powderblue"
         },
         "name": "Masculino",
         "orientation": "h",
         "type": "bar",
         "x": {
          "bdata": "AAAAAACDsEAAAAAAdGgUQQAAAADgGORAAAAAAOgRD0E=",
          "dtype": "f8"
         },
         "y": [
          "adolescente",
          "adulto",
          "crianca",
          "idoso"
         ]
        },
        {
         "hoverinfo": "text",
         "marker": {
          "color": "seagreen"
         },
         "name": "Feminino",
         "orientation": "h",
         "text": {
          "bdata": "AAAAAAB3tEAAAAAAyJoPQQAAAACAr99AAAAAAEhmDUE=",
          "dtype": "f8"
         },
         "type": "bar",
         "x": {
          "bdata": "AAAAAAB3tMAAAAAAyJoPwQAAAACAr9/AAAAAAEhmDcE=",
          "dtype": "f8"
         },
         "y": [
          "adolescente",
          "adulto",
          "crianca",
          "idoso"
         ]
        }
       ],
       "layout": {
        "bargap": 0.1,
        "barmode": "overlay",
        "template": {
         "data": {
          "bar": [
           {
            "error_x": {
             "color": "#2a3f5f"
            },
            "error_y": {
             "color": "#2a3f5f"
            },
            "marker": {
             "line": {
              "color": "#E5ECF6",
              "width": 0.5
             },
             "pattern": {
              "fillmode": "overlay",
              "size": 10,
              "solidity": 0.2
             }
            },
            "type": "bar"
           }
          ],
          "barpolar": [
           {
            "marker": {
             "line": {
              "color": "#E5ECF6",
              "width": 0.5
             },
             "pattern": {
              "fillmode": "overlay",
              "size": 10,
              "solidity": 0.2
             }
            },
            "type": "barpolar"
           }
          ],
          "carpet": [
           {
            "aaxis": {
             "endlinecolor": "#2a3f5f",
             "gridcolor": "white",
             "linecolor": "white",
             "minorgridcolor": "white",
             "startlinecolor": "#2a3f5f"
            },
            "baxis": {
             "endlinecolor": "#2a3f5f",
             "gridcolor": "white",
             "linecolor": "white",
             "minorgridcolor": "white",
             "startlinecolor": "#2a3f5f"
            },
            "type": "carpet"
           }
          ],
          "choropleth": [
           {
            "colorbar": {
             "outlinewidth": 0,
             "ticks": ""
            },
            "type": "choropleth"
           }
          ],
          "contour": [
           {
            "colorbar": {
             "outlinewidth": 0,
             "ticks": ""
            },
            "colorscale": [
             [
              0,
              "#0d0887"
             ],
             [
              0.1111111111111111,
              "#46039f"
             ],
             [
              0.2222222222222222,
              "#7201a8"
             ],
             [
              0.3333333333333333,
              "#9c179e"
             ],
             [
              0.4444444444444444,
              "#bd3786"
             ],
             [
              0.5555555555555556,
              "#d8576b"
             ],
             [
              0.6666666666666666,
              "#ed7953"
             ],
             [
              0.7777777777777778,
              "#fb9f3a"
             ],
             [
              0.8888888888888888,
              "#fdca26"
             ],
             [
              1,
              "#f0f921"
             ]
            ],
            "type": "contour"
           }
          ],
          "contourcarpet": [
           {
            "colorbar": {
             "outlinewidth": 0,
             "ticks": ""
            },
            "type": "contourcarpet"
           }
          ],
          "heatmap": [
           {
            "colorbar": {
             "outlinewidth": 0,
             "ticks": ""
            },
            "colorscale": [
             [
              0,
              "#0d0887"
             ],
             [
              0.1111111111111111,
              "#46039f"
             ],
             [
              0.2222222222222222,
              "#7201a8"
             ],
             [
              0.3333333333333333,
              "#9c179e"
             ],
             [
              0.4444444444444444,
              "#bd3786"
             ],
             [
              0.5555555555555556,
              "#d8576b"
             ],
             [
              0.6666666666666666,
              "#ed7953"
             ],
             [
              0.7777777777777778,
              "#fb9f3a"
             ],
             [
              0.8888888888888888,
              "#fdca26"
             ],
             [
              1,
              "#f0f921"
             ]
            ],
            "type": "heatmap"
           }
          ],
          "histogram": [
           {
            "marker": {
             "pattern": {
              "fillmode": "overlay",
              "size": 10,
              "solidity": 0.2
             }
            },
            "type": "histogram"
           }
          ],
          "histogram2d": [
           {
            "colorbar": {
             "outlinewidth": 0,
             "ticks": ""
            },
            "colorscale": [
             [
              0,
              "#0d0887"
             ],
             [
              0.1111111111111111,
              "#46039f"
             ],
             [
              0.2222222222222222,
              "#7201a8"
             ],
             [
              0.3333333333333333,
              "#9c179e"
             ],
             [
              0.4444444444444444,
              "#bd3786"
             ],
             [
              0.5555555555555556,
              "#d8576b"
             ],
             [
              0.6666666666666666,
              "#ed7953"
             ],
             [
              0.7777777777777778,
              "#fb9f3a"
             ],
             [
              0.8888888888888888,
              "#fdca26"
             ],
             [
              1,
              "#f0f921"
             ]
            ],
            "type": "histogram2d"
           }
          ],
          "histogram2dcontour": [
           {
            "colorbar": {
             "outlinewidth": 0,
             "ticks": ""
            },
            "colorscale": [
             [
              0,
              "#0d0887"
             ],
             [
              0.1111111111111111,
              "#46039f"
             ],
             [
              0.2222222222222222,
              "#7201a8"
             ],
             [
              0.3333333333333333,
              "#9c179e"
             ],
             [
              0.4444444444444444,
              "#bd3786"
             ],
             [
              0.5555555555555556,
              "#d8576b"
             ],
             [
              0.6666666666666666,
              "#ed7953"
             ],
             [
              0.7777777777777778,
              "#fb9f3a"
             ],
             [
              0.8888888888888888,
              "#fdca26"
             ],
             [
              1,
              "#f0f921"
             ]
            ],
            "type": "histogram2dcontour"
           }
          ],
          "mesh3d": [
           {
            "colorbar": {
             "outlinewidth": 0,
             "ticks": ""
            },
            "type": "mesh3d"
           }
          ],
          "parcoords": [
           {
            "line": {
             "colorbar": {
              "outlinewidth": 0,
              "ticks": ""
             }
            },
            "type": "parcoords"
           }
          ],
          "pie": [
           {
            "automargin": true,
            "type": "pie"
           }
          ],
          "scatter": [
           {
            "fillpattern": {
             "fillmode": "overlay",
             "size": 10,
             "solidity": 0.2
            },
            "type": "scatter"
           }
          ],
          "scatter3d": [
           {
            "line": {
             "colorbar": {
              "outlinewidth": 0,
              "ticks": ""
             }
            },
            "marker": {
             "colorbar": {
              "outlinewidth": 0,
              "ticks": ""
             }
            },
            "type": "scatter3d"
           }
          ],
          "scattercarpet": [
           {
            "marker": {
             "colorbar": {
              "outlinewidth": 0,
              "ticks": ""
             }
            },
            "type": "scattercarpet"
           }
          ],
          "scattergeo": [
           {
            "marker": {
             "colorbar": {
              "outlinewidth": 0,
              "ticks": ""
             }
            },
            "type": "scattergeo"
           }
          ],
          "scattergl": [
           {
            "marker": {
             "colorbar": {
              "outlinewidth": 0,
              "ticks": ""
             }
            },
            "type": "scattergl"
           }
          ],
          "scattermap": [
           {
            "marker": {
             "colorbar": {
              "outlinewidth": 0,
              "ticks": ""
             }
            },
            "type": "scattermap"
           }
          ],
          "scattermapbox": [
           {
            "marker": {
             "colorbar": {
              "outlinewidth": 0,
              "ticks": ""
             }
            },
            "type": "scattermapbox"
           }
          ],
          "scatterpolar": [
           {
            "marker": {
             "colorbar": {
              "outlinewidth": 0,
              "ticks": ""
             }
            },
            "type": "scatterpolar"
           }
          ],
          "scatterpolargl": [
           {
            "marker": {
             "colorbar": {
              "outlinewidth": 0,
              "ticks": ""
             }
            },
            "type": "scatterpolargl"
           }
          ],
          "scatterternary": [
           {
            "marker": {
             "colorbar": {
              "outlinewidth": 0,
              "ticks": ""
             }
            },
            "type": "scatterternary"
           }
          ],
          "surface": [
           {
            "colorbar": {
             "outlinewidth": 0,
             "ticks": ""
            },
            "colorscale": [
             [
              0,
              "#0d0887"
             ],
             [
              0.1111111111111111,
              "#46039f"
             ],
             [
              0.2222222222222222,
              "#7201a8"
             ],
             [
              0.3333333333333333,
              "#9c179e"
             ],
             [
              0.4444444444444444,
              "#bd3786"
             ],
             [
              0.5555555555555556,
              "#d8576b"
             ],
             [
              0.6666666666666666,
              "#ed7953"
             ],
             [
              0.7777777777777778,
              "#fb9f3a"
             ],
             [
              0.8888888888888888,
              "#fdca26"
             ],
             [
              1,
              "#f0f921"
             ]
            ],
            "type": "surface"
           }
          ],
          "table": [
           {
            "cells": {
             "fill": {
              "color": "#EBF0F8"
             },
             "line": {
              "color": "white"
             }
            },
            "header": {
             "fill": {
              "color": "#C8D4E3"
             },
             "line": {
              "color": "white"
             }
            },
            "type": "table"
           }
          ]
         },
         "layout": {
          "annotationdefaults": {
           "arrowcolor": "#2a3f5f",
           "arrowhead": 0,
           "arrowwidth": 1
          },
          "autotypenumbers": "strict",
          "coloraxis": {
           "colorbar": {
            "outlinewidth": 0,
            "ticks": ""
           }
          },
          "colorscale": {
           "diverging": [
            [
             0,
             "#8e0152"
            ],
            [
             0.1,
             "#c51b7d"
            ],
            [
             0.2,
             "#de77ae"
            ],
            [
             0.3,
             "#f1b6da"
            ],
            [
             0.4,
             "#fde0ef"
            ],
            [
             0.5,
             "#f7f7f7"
            ],
            [
             0.6,
             "#e6f5d0"
            ],
            [
             0.7,
             "#b8e186"
            ],
            [
             0.8,
             "#7fbc41"
            ],
            [
             0.9,
             "#4d9221"
            ],
            [
             1,
             "#276419"
            ]
           ],
           "sequential": [
            [
             0,
             "#0d0887"
            ],
            [
             0.1111111111111111,
             "#46039f"
            ],
            [
             0.2222222222222222,
             "#7201a8"
            ],
            [
             0.3333333333333333,
             "#9c179e"
            ],
            [
             0.4444444444444444,
             "#bd3786"
            ],
            [
             0.5555555555555556,
             "#d8576b"
            ],
            [
             0.6666666666666666,
             "#ed7953"
            ],
            [
             0.7777777777777778,
             "#fb9f3a"
            ],
            [
             0.8888888888888888,
             "#fdca26"
            ],
            [
             1,
             "#f0f921"
            ]
           ],
           "sequentialminus": [
            [
             0,
             "#0d0887"
            ],
            [
             0.1111111111111111,
             "#46039f"
            ],
            [
             0.2222222222222222,
             "#7201a8"
            ],
            [
             0.3333333333333333,
             "#9c179e"
            ],
            [
             0.4444444444444444,
             "#bd3786"
            ],
            [
             0.5555555555555556,
             "#d8576b"
            ],
            [
             0.6666666666666666,
             "#ed7953"
            ],
            [
             0.7777777777777778,
             "#fb9f3a"
            ],
            [
             0.8888888888888888,
             "#fdca26"
            ],
            [
             1,
             "#f0f921"
            ]
           ]
          },
          "colorway": [
           "#636efa",
           "#EF553B",
           "#00cc96",
           "#ab63fa",
           "#FFA15A",
           "#19d3f3",
           "#FF6692",
           "#B6E880",
           "#FF97FF",
           "#FECB52"
          ],
          "font": {
           "color": "#2a3f5f"
          },
          "geo": {
           "bgcolor": "white",
           "lakecolor": "white",
           "landcolor": "#E5ECF6",
           "showlakes": true,
           "showland": true,
           "subunitcolor": "white"
          },
          "hoverlabel": {
           "align": "left"
          },
          "hovermode": "closest",
          "mapbox": {
           "style": "light"
          },
          "paper_bgcolor": "white",
          "plot_bgcolor": "#E5ECF6",
          "polar": {
           "angularaxis": {
            "gridcolor": "white",
            "linecolor": "white",
            "ticks": ""
           },
           "bgcolor": "#E5ECF6",
           "radialaxis": {
            "gridcolor": "white",
            "linecolor": "white",
            "ticks": ""
           }
          },
          "scene": {
           "xaxis": {
            "backgroundcolor": "#E5ECF6",
            "gridcolor": "white",
            "gridwidth": 2,
            "linecolor": "white",
            "showbackground": true,
            "ticks": "",
            "zerolinecolor": "white"
           },
           "yaxis": {
            "backgroundcolor": "#E5ECF6",
            "gridcolor": "white",
            "gridwidth": 2,
            "linecolor": "white",
            "showbackground": true,
            "ticks": "",
            "zerolinecolor": "white"
           },
           "zaxis": {
            "backgroundcolor": "#E5ECF6",
            "gridcolor": "white",
            "gridwidth": 2,
            "linecolor": "white",
            "showbackground": true,
            "ticks": "",
            "zerolinecolor": "white"
           }
          },
          "shapedefaults": {
           "line": {
            "color": "#2a3f5f"
           }
          },
          "ternary": {
           "aaxis": {
            "gridcolor": "white",
            "linecolor": "white",
            "ticks": ""
           },
           "baxis": {
            "gridcolor": "white",
            "linecolor": "white",
            "ticks": ""
           },
           "bgcolor": "#E5ECF6",
           "caxis": {
            "gridcolor": "white",
            "linecolor": "white",
            "ticks": ""
           }
          },
          "title": {
           "x": 0.05
          },
          "xaxis": {
           "automargin": true,
           "gridcolor": "white",
           "linecolor": "white",
           "ticks": "",
           "title": {
            "standoff": 15
           },
           "zerolinecolor": "white",
           "zerolinewidth": 2
          },
          "yaxis": {
           "automargin": true,
           "gridcolor": "white",
           "linecolor": "white",
           "ticks": "",
           "title": {
            "standoff": 15
           },
           "zerolinecolor": "white",
           "zerolinewidth": 2
          }
         }
        },
        "title": {
         "text": "Pirâmide Etária de Casos (SUS)"
        },
        "xaxis": {
         "range": [
          -367801.50000000006,
          367801.50000000006
         ],
         "ticktext": [
          "1000",
          "700",
          "300",
          "0",
          "300",
          "700",
          "1000"
         ],
         "tickvals": [
          -1000,
          -700,
          -300,
          0,
          300,
          700,
          1000
         ],
         "title": {
          "text": "Número de Casos"
         }
        },
        "yaxis": {
         "title": {
          "text": "Faixa Etária"
         }
        }
       }
      }
     },
     "metadata": {},
     "output_type": "display_data"
    }
   ],
   "source": [
    "\n",
    "# Extrair faixas etárias únicas (ordenadas)\n",
    "faixas_etarias = sorted(list(set([k.split('feminino')[0].split('masculino')[0] for k in final_dict.keys()])))\n",
    "\n",
    "# Inicializar arrays para homens e mulheres\n",
    "men_bins = np.zeros(len(faixas_etarias))\n",
    "women_bins = np.zeros(len(faixas_etarias))\n",
    "\n",
    "# Preencher os arrays\n",
    "for i, faixa in enumerate(faixas_etarias):\n",
    "    men_bins[i] = final_dict.get(faixa + 'masculino', 0)\n",
    "    women_bins[i] = -final_dict.get(faixa + 'feminino', 0)  # Negativo para mulheres\n",
    "\n",
    "# Layout do gráfico\n",
    "layout = go.Layout(\n",
    "    yaxis=go.layout.YAxis(title='Faixa Etária'),\n",
    "    xaxis=go.layout.XAxis(\n",
    "        range=[-max(men_bins)*1.1, max(men_bins)*1.1],  # Ajuste automático\n",
    "        tickvals=[-1000, -700, -300, 0, 300, 700, 1000],  # Personalize conforme seus dados\n",
    "        ticktext=['1000', '700', '300', '0', '300', '700', '1000'],\n",
    "        title='Número de Casos'\n",
    "    ),\n",
    "    barmode='overlay',\n",
    "    bargap=0.1,\n",
    "    title='Pirâmide Etária de Casos (SUS)'\n",
    ")\n",
    "\n",
    "# Dados para o gráfico\n",
    "data = [\n",
    "    go.Bar(\n",
    "        y=faixas_etarias,\n",
    "        x=men_bins,\n",
    "        orientation='h',\n",
    "        name='Masculino',\n",
    "        hoverinfo='x',\n",
    "        marker=dict(color='powderblue')\n",
    "    ),\n",
    "    go.Bar(\n",
    "        y=faixas_etarias,\n",
    "        x=women_bins,\n",
    "        orientation='h',\n",
    "        name='Feminino',\n",
    "        text=-1 * women_bins.astype('int'),  # Mostrar valores absolutos\n",
    "        hoverinfo='text',\n",
    "        marker=dict(color='seagreen')\n",
    "    )\n",
    "]\n",
    "\n",
    "# Mostrar o gráfico\n",
    "fig = go.Figure(data=data, layout=layout)\n",
    "fig.show()"
   ]
  },
  {
   "cell_type": "code",
   "execution_count": 102,
   "id": "50bae085",
   "metadata": {},
   "outputs": [],
   "source": [
    "for i, faixa in enumerate(faixas_etarias):\n",
    "    men_bins[i] = final_dict.get(faixa + 'masculino', 0)\n",
    "    women_bins[i] = final_dict.get(faixa + 'feminino', 0)  # Negativo para mulheres"
   ]
  },
  {
   "cell_type": "code",
   "execution_count": 103,
   "id": "2e1b16f3",
   "metadata": {},
   "outputs": [
    {
     "data": {
      "image/png": "[encoded data removed]",
      "text/plain": [
       "<Figure size 640x480 with 1 Axes>"
      ]
     },
     "metadata": {},
     "output_type": "display_data"
    }
   ],
   "source": [
    "labels = sorted(list(set([k.split('feminino')[0].split('masculino')[0] for k in final_dict.keys()])))\n",
    "x = np.arange(len(men_bins))\n",
    "width = 0.35\n",
    "\n",
    "fig, ax = plt.subplots()\n",
    "rects1 = ax.bar(x - width/2, men_bins, width, label='Homens')\n",
    "rects2 = ax.bar(x + width/2, women_bins, width, label='Mulheres')\n",
    "\n",
    "ax.set_ylabel('Número Total de Casos')\n",
    "ax.set_xlabel('Faixa Etária')\n",
    "ax.set_title('Número de casos agrupados por faixa etária')\n",
    "ax.set_xticks(x, labels)\n",
    "ax.legend()\n",
    "\n",
    "ax.bar_label(rects1, padding=3)\n",
    "ax.bar_label(rects2, padding=3)\n",
    "\n",
    "fig.tight_layout()\n",
    "plt.show()"
   ]
  },
  {
   "cell_type": "code",
   "execution_count": 104,
   "id": "c9b09286",
   "metadata": {},
   "outputs": [
    {
     "data": {
      "text/plain": [
       "array(['SP', 'RS', 'PR', 'GO', 'PE', 'SC', 'RJ', 'TO', 'MG', 'DF', 'AM',\n",
       "       'ES', 'CE', 'BA', 'SE', 'MS', 'PA', 'AC', 'MT', 'PI', 'PB', 'RO',\n",
       "       'RN', 'RR', nan, 'MA', 'AL', 'AP'], dtype=object)"
      ]
     },
     "execution_count": 104,
     "metadata": {},
     "output_type": "execute_result"
    }
   ],
   "source": [
    "df_sus['sg_uf'].unique()"
   ]
  },
  {
   "cell_type": "code",
   "execution_count": 105,
   "id": "aaa93bc8",
   "metadata": {},
   "outputs": [],
   "source": [
    "def juntando_numero_casos_por_uf(df):\n",
    "    result_dict = {}\n",
    "\n",
    "    for _, row in df.iterrows():\n",
    "        key = row['sg_uf']\n",
    "\n",
    "        result_dict[key] = result_dict.get(key, 0) + 1\n",
    "    \n",
    "    return result_dict"
   ]
  },
  {
   "cell_type": "code",
   "execution_count": 106,
   "id": "26b0c2c0",
   "metadata": {},
   "outputs": [],
   "source": [
    "# Exclui linhas com uf null\n",
    "df_sus.dropna(subset=['sg_uf'], inplace=True)"
   ]
  },
  {
   "cell_type": "code",
   "execution_count": 107,
   "id": "941f3635",
   "metadata": {},
   "outputs": [],
   "source": [
    "final_dict = juntando_numero_casos_por_uf(df_sus)"
   ]
  },
  {
   "cell_type": "code",
   "execution_count": 108,
   "id": "f19dd9dd",
   "metadata": {},
   "outputs": [
    {
     "data": {
      "text/plain": [
       "{'SP': 352813,\n",
       " 'RS': 56275,\n",
       " 'PR': 72466,\n",
       " 'GO': 34026,\n",
       " 'PE': 59444,\n",
       " 'SC': 35102,\n",
       " 'RJ': 118859,\n",
       " 'TO': 6740,\n",
       " 'MG': 110187,\n",
       " 'DF': 24706,\n",
       " 'AM': 27546,\n",
       " 'ES': 12509,\n",
       " 'CE': 43328,\n",
       " 'BA': 42880,\n",
       " 'SE': 10300,\n",
       " 'MS': 18539,\n",
       " 'PA': 33102,\n",
       " 'AC': 3202,\n",
       " 'MT': 27797,\n",
       " 'PI': 14116,\n",
       " 'PB': 18481,\n",
       " 'RO': 7811,\n",
       " 'RN': 10859,\n",
       " 'RR': 2033,\n",
       " 'MA': 14280,\n",
       " 'AL': 11775,\n",
       " 'AP': 2706}"
      ]
     },
     "execution_count": 108,
     "metadata": {},
     "output_type": "execute_result"
    }
   ],
   "source": [
    "final_dict"
   ]
  },
  {
   "cell_type": "code",
   "execution_count": 132,
   "id": "f825820d",
   "metadata": {},
   "outputs": [
    {
     "data": {
      "image/png": "[encoded data removed]",
      "text/plain": [
       "<Figure size 1500x800 with 1 Axes>"
      ]
     },
     "metadata": {},
     "output_type": "display_data"
    }
   ],
   "source": [
    "# Ordenar os estados e valores\n",
    "labels = sorted(final_dict.keys())\n",
    "values = [final_dict[uf] for uf in labels]\n",
    "\n",
    "# Configurações do gráfico\n",
    "plt.figure(figsize=(15, 8))  # Tamanho aumentado\n",
    "bars = plt.bar(labels, values, color='skyblue', edgecolor='black')\n",
    "\n",
    "# Adicionar rótulos nas barras\n",
    "for bar in bars:\n",
    "    height = bar.get_height()\n",
    "    plt.text(\n",
    "        bar.get_x() + bar.get_width() / 2, \n",
    "        height, \n",
    "        f'{height:,}',  # Formato com separador de milhares\n",
    "        ha='center', \n",
    "        va='bottom',\n",
    "        fontsize=9\n",
    "    )\n",
    "\n",
    "# Ajustes estéticos\n",
    "plt.title('Número de Casos por UF', fontsize=16, pad=20)\n",
    "plt.xlabel('Estados', fontsize=12)\n",
    "plt.ylabel('Número Total de Casos', fontsize=12)\n",
    "plt.xticks(rotation=45, ha='right')  # Rotacionar rótulos para melhor leitura\n",
    "plt.grid(axis='y', linestyle='--', alpha=0.7)  # Grades horizontais\n",
    "\n",
    "# Remover bordas desnecessárias\n",
    "plt.gca().spines['top'].set_visible(False)\n",
    "plt.gca().spines['right'].set_visible(False)\n",
    "\n",
    "plt.tight_layout()  # Ajustar layout para evitar cortes\n",
    "plt.show()"
   ]
  },
  {
   "cell_type": "code",
   "execution_count": null,
   "id": "f84342f9",
   "metadata": {},
   "outputs": [],
   "source": []
  }
 ],
 "metadata": {
  "kernelspec": {
   "display_name": "air-quality",
   "language": "python",
   "name": "python3"
  },
  "language_info": {
   "codemirror_mode": {
    "name": "ipython",
    "version": 3
   },
   "file_extension": ".py",
   "mimetype": "text/x-python",
   "name": "python",
   "nbconvert_exporter": "python",
   "pygments_lexer": "ipython3",
   "version": "3.12.7"
  }
 },
 "nbformat": 4,
 "nbformat_minor": 5
}
