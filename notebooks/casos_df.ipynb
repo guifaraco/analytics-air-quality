{
 "cells": [
  {
   "cell_type": "markdown",
   "metadata": {
    "vscode": {
     "languageId": "plaintext"
    }
   },
   "source": [
    "# 1. Mapa de Casos Encontrados"
   ]
  },
  {
   "cell_type": "markdown",
   "metadata": {},
   "source": [
    "## Importações"
   ]
  },
  {
   "cell_type": "code",
   "execution_count": 8,
   "metadata": {},
   "outputs": [],
   "source": [
    "import pandas as pd\n",
    "import pydeck as pdk\n",
    "import numpy as np"
   ]
  },
  {
   "cell_type": "markdown",
   "metadata": {},
   "source": [
    "### Lê os ``.csv``"
   ]
  },
  {
   "cell_type": "markdown",
   "metadata": {},
   "source": [
    "DataSUS"
   ]
  },
  {
   "cell_type": "code",
   "execution_count": null,
   "metadata": {},
   "outputs": [],
   "source": [
    "cols = [\n",
    "    'DT_SIN_PRI', 'CS_SEXO', 'DT_NASC', 'SG_UF', 'ID_MN_RESI', 'CLASSI_FIN',\n",
    "    'EVOLUCAO', 'DT_EVOLUCA', \n",
    "]\n",
    "    \n",
    "df = pd.read_csv(\"../data/data_sus/INFLUD22-26-06-2025.csv\", sep=\";\", usecols=cols)\n",
    "\n",
    "df"
   ]
  },
  {
   "cell_type": "markdown",
   "metadata": {},
   "source": [
    "## Nomeia a classificação final"
   ]
  },
  {
   "cell_type": "code",
   "execution_count": null,
   "metadata": {},
   "outputs": [],
   "source": [
    "def get_class_final(id):\n",
    "    # 1. Usar pd.isna() é a forma mais segura de checar por valores ausentes (NaN, None, etc.)\n",
    "    if pd.isna(id):\n",
    "        return \"Não Informado\"\n",
    "    \n",
    "    classifications = {\n",
    "        1: \"SRAG por influenza\",\n",
    "        2: \"SRAG por outro vírus respiratório\",\n",
    "        3: \"SRAG por outro agente etiológico\",\n",
    "        4: \"SRAG não especificado\",\n",
    "        5: \"SRAG por covid-19\"\n",
    "    }\n",
    "    \n",
    "    # 2. Converte o id para inteiro ANTES de procurar no dicionário\n",
    "    #    Usar .get() também é mais seguro, pois retorna um valor padrão se a chave não for encontrada.\n",
    "    return classifications.get(int(id), \"ID Inválido\")\n",
    "\n",
    "# A aplicação no DataFrame continua a mesma\n",
    "df['CLASSI_FIN'] = df['CLASSI_FIN'].apply(get_class_final)\n",
    "\n",
    "df"
   ]
  },
  {
   "cell_type": "markdown",
   "metadata": {},
   "source": [
    "## Nomeia os critérios"
   ]
  },
  {
   "cell_type": "code",
   "execution_count": null,
   "metadata": {},
   "outputs": [],
   "source": [
    "def get_evolucao(id):\n",
    "    # 1. Usar pd.isna() é a forma mais segura de checar por valores ausentes (NaN, None, etc.)\n",
    "    if pd.isna(id):\n",
    "        return \"Não Informado\"\n",
    "    \n",
    "    classifications = {\n",
    "        1:\"Cura\",\n",
    "        2:\"Óbito\",\n",
    "        3:\"Óbito por outras causas\",\n",
    "        9:\"Ignorado\"\n",
    "    }\n",
    "    \n",
    "    # 2. Converte o id para inteiro ANTES de procurar no dicionário\n",
    "    #    Usar .get() também é mais seguro, pois retorna um valor padrão se a chave não for encontrada.\n",
    "    return classifications.get(int(id), \"ID Inválido\")\n",
    "\n",
    "# A aplicação no DataFrame continua a mesma\n",
    "df['EVOLUCAO'] = df['EVOLUCAO'].apply(get_evolucao)\n",
    "\n",
    "df"
   ]
  }
 ],
 "metadata": {
  "kernelspec": {
   "display_name": "air-quality",
   "language": "python",
   "name": "python3"
  },
  "language_info": {
   "codemirror_mode": {
    "name": "ipython",
    "version": 3
   },
   "file_extension": ".py",
   "mimetype": "text/x-python",
   "name": "python",
   "nbconvert_exporter": "python",
   "pygments_lexer": "ipython3",
   "version": "3.12.7"
  }
 },
 "nbformat": 4,
 "nbformat_minor": 2
}
