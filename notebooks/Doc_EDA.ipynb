{
 "cells": [
  {
   "cell_type": "markdown",
   "id": "3a533994",
   "metadata": {},
   "source": [
    "# Análise Exploratória (EDA)"
   ]
  },
  {
   "cell_type": "markdown",
   "id": "1cc8acbf",
   "metadata": {},
   "source": [
    "## DataFrame OpenDataSus 2022\n",
    "\n"
   ]
  },
  {
   "cell_type": "markdown",
   "id": "5dbe6d50",
   "metadata": {},
   "source": [
    "### Colunas Utilizadas\n",
    "\n"
   ]
  },
  {
   "cell_type": "markdown",
   "id": "ce05b201",
   "metadata": {},
   "source": [
    "* NU_NOTIFIC -> Número de notificação\n",
    "\n",
    "* DT_NOTIFIC -> Data de Notificação\n",
    "\n",
    "* DT_SIN_PRI -> Data dos primeiros sintomas\n",
    "\n",
    "* DT_NASC    -> Data de Nascimento\n",
    "\n",
    "* DT_EVOLUCA -> Data de evolução (Óbito ou Alta)\n",
    "\n",
    "* SG_UF      -> Sigla UF\n",
    "\n",
    "* ID_MN_RESI -> Nome da cidade\n",
    "\n",
    "* CS_SEXO    -> Sexo (Masculino/Feminio) \n",
    "\n",
    "* CS_RACA    -> Raça (Preto, Branco, Indígena)\n",
    "\n",
    "* CS_ESCOL_N -> Nível de escolaridade\n",
    "\n",
    "* FATOR_RISC -> Fatores de Risco\n",
    "\n",
    "* HOSPITAL   -> Houve Internação ?\n",
    "\n",
    "* DT_INTERNA -> Data Internalção\n",
    "\n",
    "* UTI        -> Foi para UTI?\n",
    "\n",
    "* DT_ENTUTI  -> Data de entrada da UTI\n",
    "\n",
    "* DT_SAIDUTI -> Data de Saída da UTI\n",
    "\n",
    "* SUPORT_VEN -> Suporte Ventilarório (sim invasivo/Sim, não invasivo/Não/Ignorado)\n",
    "\n",
    "* CLASSI_FIN -> Classificação Final (Influenza/Covid-19/SRAG por outro vírus/SRAG por outro agente etiológico/SRAG não especificado)\n",
    "\n",
    "* CRITERIO   -> Critério de encerramento (Laboratorial/Clínico Epidemológico/Clínico/Clínico Imagem)\n",
    "\n",
    "* EVOLUCAO   -> Evolução do caso (Cura/Óbito/Óbtio por outras causas/Ignorado)\n",
    "\n",
    "* PUERPERA   -> Puépera (Período pós-parto até 45 dias) \n",
    "\n",
    "* CARDIOPATI -> Doença Cardiovasculas Crônica\n",
    "\n",
    "* HEMATOLOGI -> Doença Hematológica Crônica\n",
    "\n",
    "* SIND_DOWN  -> Paciente com Sindrome de Down\n",
    "\n",
    "* HEPATICA   -> Doença Hepática Crônica\n",
    "\n",
    "* ASMA       -> Asma\n",
    "\n",
    "* DIABETES   -> Diabetes\n",
    "\n",
    "* NEUROLOGIC -> Doença Neurológica\n",
    "\n",
    "* PNEUMOPATI -> Possui outra doença pneumopatia crônica\n",
    "\n",
    "* IMUNODEPRE -> Possui Imunodeficiência ou Imunodepressão (diminuição da função do sistema imunilógico)\n",
    "\n",
    "* RENAL      -> Possui Doença Renal Crônica\n",
    "\n",
    "* OBESIDADE  -> Possui obesidade\n",
    "\n",
    "* FEBRE      -> Apresentou febre\n",
    "\n",
    "* TOSSE      -> Apresentou Tosse\n",
    "\n",
    "* GARGANTA   -> Apresentou dor na garganta\n",
    " \n",
    "* DISPNEIA   -> Apresentou Dispneia\n",
    " \n",
    "* DESC_RESP  -> Apresentou desconforto respiratório\n",
    " \n",
    "* SATURACAO  -> Apresentou Saturação O2 < 95%\n",
    " \n",
    "* DIARREIA   -> Apresentou Diarreia\n",
    " \n",
    "* VOMITO     -> Apresentou Vômito\n",
    " \n",
    "* FADIGA     -> Apresentou Fadiga\n",
    " \n",
    "* PERD_OLFT  -> Apresentou Perda de Olfato\n",
    "\n",
    "* PERD_PALA  -> Apresentou Perda Paladar"
   ]
  },
  {
   "cell_type": "markdown",
   "id": "3e58e5a9",
   "metadata": {},
   "source": [
    "## DataFrame MonitorAr"
   ]
  },
  {
   "cell_type": "markdown",
   "id": "3da5e68b",
   "metadata": {},
   "source": [
    "### Colunas Utilizadas"
   ]
  },
  {
   "cell_type": "markdown",
   "id": "b610a233",
   "metadata": {},
   "source": [
    "#### Tabela de Medições"
   ]
  },
  {
   "cell_type": "markdown",
   "id": "b40ec393",
   "metadata": {},
   "source": [
    "* Nome do Município\n",
    "\n",
    "* Estado\n",
    "\n",
    "* Nome da Estação\n",
    "\n",
    "* Item Monitorado\n",
    "\n",
    "* Sigla\n",
    "\n",
    "* Concentracao\n",
    "\n",
    "* Data"
   ]
  },
  {
   "cell_type": "markdown",
   "id": "89bfc24a",
   "metadata": {},
   "source": [
    "#### Tabela de Estações"
   ]
  },
  {
   "cell_type": "markdown",
   "id": "056067c6",
   "metadata": {},
   "source": [
    "* Código IBGE do Município\n",
    "\n",
    "* Nome do Município\n",
    "\n",
    "* Estado\n",
    "\n",
    "* ID da Estação\n",
    "\n",
    "* Nome da Estação\n",
    "\n",
    "* Latitude\n",
    "\n",
    "* Longitude"
   ]
  },
  {
   "cell_type": "markdown",
   "id": "0d5ff00f",
   "metadata": {},
   "source": [
    "## DataFrame Censo 2022"
   ]
  },
  {
   "cell_type": "markdown",
   "id": "c50d7f5c",
   "metadata": {},
   "source": [
    "### Colunas Utilizadas"
   ]
  },
  {
   "cell_type": "markdown",
   "id": "93a39f73",
   "metadata": {},
   "source": [
    "* UF \n",
    "\n",
    "* Total de Habitantes"
   ]
  },
  {
   "cell_type": "markdown",
   "id": "7986dc4c",
   "metadata": {},
   "source": [
    "## Ideias de Análises"
   ]
  },
  {
   "cell_type": "markdown",
   "id": "7a235506",
   "metadata": {},
   "source": [
    "- Separar por faixa etária (0-12, 13-21, 22-35, 36-50, 51-65, 66+) e/ou sexo\n",
    "    - Análise de quantidade de afetados por faixa etária/sexo \n",
    "        - Insight: mostrar qual a faixa etária mais afetada para promover cuidados melhores\n",
    "        - Insight: Homens mostram 20% mais internações por asma em SP durante picos de O3\n",
    "    - Gráficos de Barras:\n",
    "        - Eixo X: Faixa Etária\n",
    "        - Eixo Y: % de casos com UTI\n",
    "        - Cores: dias com ar bom (verde) vs. ruim (vermelho)\n",
    "            - Talvez colorir por dias/meses com mais concentrações \n",
    "\n",
    "- Calcular média mensal/diária de concentração de cada poluente\n",
    "    - Possivelmente um gráfico de barra:\n",
    "        - Eixo X: Poluentes\n",
    "        - Eixo Y: Concentração Média\n",
    "        - Cor: Estado\n",
    "    - Outro gráfico, possivelmente de linha\n",
    "        - Eixo X: Meses\n",
    "        - Eixo Y: Concentração Média\n",
    "        - Cor: Poluentes\n",
    "\n",
    "- Calcular taxas de internações (utilizando os dados do Censo 2022, população por estado)\n",
    "    - Gráfico de dispersão entre concentração média e Taxa de UTI por cidade/estado\n",
    "\n",
    "- Correlacionar picos de poluição com internações por SRAG\n",
    "    - Talvez colocar junto com o gráfico de linha dos poluentes, uma linha com números de internados\n",
    "\n",
    "- Mapa Iterativo:\n",
    "    - Estados BA/RJ/SP/MG com cores (média de concentração de todos os poluentes)\n",
    "    - Camada: Taxa de mortalidade por SRAG (tamanho dos marcadores)\n",
    "\n",
    "- Métricas da Saúde:\n",
    "    - UTI: Proporção de casos que necessitaram de UTI\n",
    "\n",
    "    - Sintomas Graves: Dispineia + Saturação < 95%\n",
    "\n",
    "    - Mortalidade: Proporção de óbitos\n",
    "\n",
    "- Série Temporal:\n",
    "    - Linha 1: Média de MP2.5 por mês\n",
    "    - Linha 2: Casos de dispneia por mês \n",
    "\n",
    "- Insights:\n",
    "    - Poluente MP2.5 está associado a 85% dos casos de SRAG em dias poluídos\n",
    "    - Gênero: Homens têm mais taxa de internação, mas mulheres mostram mais sintomas crônicos             "
   ]
  },
  {
   "cell_type": "markdown",
   "id": "588d11cb",
   "metadata": {},
   "source": [
    "#### Lista de Poluentes e O Que Afetam"
   ]
  },
  {
   "cell_type": "markdown",
   "id": "2530053c",
   "metadata": {},
   "source": [
    "1. Material Particulado <= 2.5um (MP2.5): \n",
    "    - Penetra os alvéolos pulmonares, causa inflamação, agrava a asma, DPOC e câncer de pulmão\n",
    "\n",
    "2. Material Particulado <= 10um (MP10):\n",
    "    - Irrita vias aéreas, desencadeia bronquite e redução da função pulmonar\n",
    "\n",
    "3. Ozônio (O3):\n",
    "    - Provoca danos oxidativos, tosse, dor torácia e piora de doenças respiratórias crônicas \n",
    "\n",
    "4. Dióxido de Nitrogênio (NO2):\n",
    "    - Aumenta risco infecções respiratórias e reduz capacidade pulmonar em crianças\n",
    "\n",
    "5. Dióxido de Enxofre (SO2):\n",
    "    - Causa broncoconstrição, especialmente em asmáticos\n",
    "\n",
    "6. Monóxido de Carbono (CO):\n",
    "    - Reduz a oxigenação sanguínea, agrava insuficiência respiratória\n",
    "\n",
    "7. Benzeno (BEN):\n",
    "    - Composto carcinogênico associado a leucemia e danos à medula óssea\n",
    "\n",
    "8. Formaldeído (FORMAL):\n",
    "    - Irritante das vias aéreas, potencial carcinogênico respiratório\n",
    "\n",
    "9. Fumaça (FMC):\n",
    "    - Contém MP2.5 e compostos tóxicos que agravam doenças pulmonares\n",
    "\n",
    "10. Benzeno/Tolueno/Etil-Benzeno/Xileno (BTEX): \n",
    "    - Compostos voláteis irritantes com efeitos sinérgicos\n",
    "\n",
    "11. Gás Sulfídrico (H2S):\n",
    "    - Irrita mucosas respiratórias mesmo em baixas concentrações\n",
    "\n",
    "12. Amônia (NH3):\n",
    "    - Forma partículas secundárias (ex.: nitrato de amônio) que penetram nos pulmões\n",
    "\n",
    "##### Métricas de Qualidades do Ar:\n",
    "\n",
    "* PM₂.₅: entre 5 e 50 µg/m³ na maioria dos dias; picos excepcionais até 60 µg/m³\n",
    " \n",
    "* PM₁₀: valores entre 20 e 100 µg/m³, picos até 120 µg/m³\n",
    " \n",
    "* NO₂: geralmente entre 20 e 200 µg/m³; picos podem superar 260 µg/m³ em tráfego intenso\n",
    " \n",
    "* SO₂: normalmente baixos (< 40 µg/m³), exceto perto de indústrias ou queimadas\n",
    " \n",
    "* O₃: noites e manhãs baixas (< 50 µg/m³), depois aumento até cerca de 120 µg/m³\n",
    " \n",
    "* CO: valores típicos entre 0.2 a 5 ppm, raramente ultrapassam 9 ppm"
   ]
  },
  {
   "cell_type": "markdown",
   "id": "0c556b24",
   "metadata": {},
   "source": [
    "#### Gráficos"
   ]
  },
  {
   "cell_type": "markdown",
   "id": "0bc12448",
   "metadata": {},
   "source": [
    "\n",
    "Agrupar por estado: pegar todos os poluentes (legenda), média de concentração por tempo\n",
    "\n",
    "* No geral: \n",
    "    * Eixo x: Poluentes \n",
    "\n",
    "    * Eixo Y: Concentração Total Média\n",
    "\n",
    "    * Linha: Número de casos totais no mês\n",
    "\n",
    "    * Cores: Estados    \n",
    "\n",
    "* No Específico:\n",
    "    * Filtro: Estado/Poluente\n",
    "\n",
    "    * Eixo x: Tempo (meses)\n",
    "\n",
    "    * Eixo y: Concentração Média\n",
    "\n",
    "    * Comparar: estado x estado (de acordo com poluente)\n",
    "              poluente x estado\n",
    "    \n",
    "* Gráfico de Dispersão:\n",
    "    * Relação Direta entre um poluente específico e um problema de saúde\n",
    "\n",
    "    * Eixo X: Concentração de um poluente\n",
    "\n",
    "    * Eixo Y: Número de ocorrência de saúde \n",
    "\n",
    "    * Insight: Ver quais poluentes afetam mais cada doença\n",
    "\n",
    "* Heatmap:\n",
    "    * Eixo X: Todos os seus poluentes\n",
    "\n",
    "    * Eixo Y: Todos os indicadores de saúde (casos respiratórios, cardíacos, mortalidade (dispneia, essas coisas))"
   ]
  },
  {
   "cell_type": "markdown",
   "id": "d6c59d0a",
   "metadata": {},
   "source": [
    "##### Recomendações"
   ]
  },
  {
   "cell_type": "markdown",
   "id": "df140589",
   "metadata": {},
   "source": [
    "- Focar apenas em: MP2.5, MP10, O3, NO2, CO e BEN\n",
    "\n",
    "- Métricas de exposição:\n",
    "    - Média diária de MP2.5 e O3\n",
    "\n",
    "    - Número de dias/ano com IQAR > 80 (classificação \"RUIM\")\n",
    "\n",
    "- Correlação com Sintomas:\n",
    "    - Cruzar picos de sintomas com:\n",
    "        - Dispineia: falta de ar\n",
    "\n",
    "        - Saturação < 95\n",
    "        \n",
    "        - Internações por ASMA  ou PNEUMOPATIA\n",
    "\n",
    "- Grupos Vulneráveis \n",
    "    - Analisar separadamente:\n",
    "        - Crianças (0-12) e Idosos (66+)\n",
    "\n",
    "        - Portadores de ASMA, PNEUMOPATIA ou OBESIDADE\n",
    "\n",
    "- Exemplo de Insight Útil:\n",
    "    - *\"Dias com MP₂.₅ > 25 μg/m³ (acima do limite da OMS) aumentam em 40% as internações por asma infantil em São Paulo.\"*\n"
   ]
  }
 ],
 "metadata": {
  "kernelspec": {
   "display_name": "air-quality",
   "language": "python",
   "name": "python3"
  },
  "language_info": {
   "codemirror_mode": {
    "name": "ipython",
    "version": 3
   },
   "file_extension": ".py",
   "mimetype": "text/x-python",
   "name": "python",
   "nbconvert_exporter": "python",
   "pygments_lexer": "ipython3",
   "version": "3.12.7"
  }
 },
 "nbformat": 4,
 "nbformat_minor": 5
}
