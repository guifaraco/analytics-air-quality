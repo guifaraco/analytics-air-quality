{
 "cells": [
  {
   "cell_type": "markdown",
   "metadata": {},
   "source": [
    "# Importações"
   ]
  },
  {
   "cell_type": "code",
   "execution_count": 52,
   "metadata": {},
   "outputs": [],
   "source": [
    "import pandas as pd\n",
    "import numpy as np\n",
    "\n",
    "# Configura o pandas para mostrar todas as linhas (o que ativa o scroll vertical)\n",
    "pd.set_option('display.max_rows', None)\n",
    "\n",
    "# Configura o pandas para mostrar todas as colunas (o que ativa o scroll horizontal)\n",
    "pd.set_option('display.max_columns', None)\n",
    "\n",
    "# Opcional: Aumenta a largura da exibição para evitar que colunas sejam quebradas em várias linhas\n",
    "pd.set_option('display.width', 1000)\n",
    "\n",
    "# Opcional: Garante que o conteúdo de uma coluna não será truncado com \"...\"\n",
    "pd.set_option('display.max_colwidth', None)"
   ]
  },
  {
   "cell_type": "markdown",
   "metadata": {},
   "source": [
    "# 1. Métricas Monitorar com ``iqar`` e presentes no DataSUS"
   ]
  },
  {
   "cell_type": "markdown",
   "metadata": {},
   "source": [
    "## 1. Tratamento de Dados"
   ]
  },
  {
   "cell_type": "markdown",
   "metadata": {},
   "source": [
    "#### Lê os ``.csv``"
   ]
  },
  {
   "cell_type": "code",
   "execution_count": null,
   "metadata": {},
   "outputs": [],
   "source": [
    "def get_monitors(cols=None):\n",
    "    jan_mar_df = pd.read_csv(\"../data/monitor_ar/Dados_monitorar_jan_mar.csv\", encoding=\"latin\", sep=\";\", usecols=cols)\n",
    "    abr_jun_df = pd.read_csv(\"../data/monitor_ar/Dados_monitorar_abr_jun.csv\", encoding=\"latin\", sep=\";\", usecols=cols)\n",
    "    jul_nov_df = pd.read_csv(\"../data/monitor_ar/Dados_monitorar_jul_nov.csv\", encoding=\"latin\", sep=\";\", usecols=cols)\n",
    "\n",
    "    # Junta as três tabelas de monitores\n",
    "    monitors_df = pd.concat([jan_mar_df, abr_jun_df, jul_nov_df], axis=0)\n",
    "\n",
    "    return monitors_df\n",
    "\n",
    "monitors_cols=[\n",
    "    'Nome do Município', 'Estado', 'Nome da Estação', 'Sigla', 'Concentracao', 'iqar', 'Data'\n",
    "]\n",
    "monitors_df = get_monitors(monitors_cols)\n",
    "\n",
    "monitors_df.rename(columns = {\n",
    "    \"Nome do Município\": \"Nome_Municipio\",\n",
    "    \"Nome da Estação\": \"Nome_Estacao\"\n",
    "}, inplace=True)"
   ]
  },
  {
   "cell_type": "markdown",
   "metadata": {},
   "source": [
    "### Filtrar os monitores com ``iqar`` preenchido"
   ]
  },
  {
   "cell_type": "code",
   "execution_count": 51,
   "metadata": {},
   "outputs": [],
   "source": [
    "\n",
    "monitors_df['iqar'] = pd.to_numeric(monitors_df['iqar'], errors='coerce')\n",
    "monitors_df = monitors_df.dropna(subset=['iqar'])\n",
    "monitors_df = monitors_df[monitors_df['iqar'] >= 0]"
   ]
  },
  {
   "cell_type": "markdown",
   "metadata": {},
   "source": [
    "### Classificar o ``iqar``"
   ]
  },
  {
   "cell_type": "code",
   "execution_count": null,
   "metadata": {},
   "outputs": [],
   "source": [
    "def classify_iqar(iqar):\n",
    "    if (iqar >= 0 and iqar <= 40):\n",
    "        return \"Boa\"\n",
    "    elif (iqar > 40 and iqar <= 80):\n",
    "        return \"Moderada\"\n",
    "    elif (iqar > 80 and iqar <= 120):\n",
    "        return \"Ruim\"\n",
    "    elif (iqar > 120 and iqar <= 200):\n",
    "        return \"Muito Ruim\"\n",
    "    elif (iqar > 200):\n",
    "        return \"Péssima\"\n",
    "    else:\n",
    "        return np.nan\n",
    "    \n",
    "monitors_df['Qualidade_Ar'] = monitors_df['iqar'].apply(classify_iqar)\n",
    "monitors_df.head(10)"
   ]
  }
 ],
 "metadata": {
  "kernelspec": {
   "display_name": "air-quality",
   "language": "python",
   "name": "python3"
  },
  "language_info": {
   "codemirror_mode": {
    "name": "ipython",
    "version": 3
   },
   "file_extension": ".py",
   "mimetype": "text/x-python",
   "name": "python",
   "nbconvert_exporter": "python",
   "pygments_lexer": "ipython3",
   "version": "3.12.7"
  }
 },
 "nbformat": 4,
 "nbformat_minor": 2
}
