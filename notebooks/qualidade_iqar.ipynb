{
 "cells": [
  {
   "cell_type": "markdown",
   "metadata": {},
   "source": [
    "# Importações"
   ]
  },
  {
   "cell_type": "code",
   "execution_count": 52,
   "metadata": {},
   "outputs": [],
   "source": [
    "import pandas as pd\n",
    "import numpy as np\n",
    "\n",
    "# Configura o pandas para mostrar todas as linhas (o que ativa o scroll vertical)\n",
    "pd.set_option('display.max_rows', None)\n",
    "\n",
    "# Configura o pandas para mostrar todas as colunas (o que ativa o scroll horizontal)\n",
    "pd.set_option('display.max_columns', None)\n",
    "\n",
    "# Opcional: Aumenta a largura da exibição para evitar que colunas sejam quebradas em várias linhas\n",
    "pd.set_option('display.width', 1000)\n",
    "\n",
    "# Opcional: Garante que o conteúdo de uma coluna não será truncado com \"...\"\n",
    "pd.set_option('display.max_colwidth', None)"
   ]
  },
  {
   "cell_type": "markdown",
   "metadata": {},
   "source": [
    "# 1. Métricas Monitorar com ``iqar`` e presentes no DataSUS"
   ]
  },
  {
   "cell_type": "markdown",
   "metadata": {},
   "source": [
    "## 1. Tratamento de Dados"
   ]
  },
  {
   "cell_type": "markdown",
   "metadata": {},
   "source": [
    "#### Lê os ``.csv``"
   ]
  },
  {
   "cell_type": "code",
   "execution_count": 30,
   "metadata": {},
   "outputs": [
    {
     "name": "stderr",
     "output_type": "stream",
     "text": [
      "C:\\Users\\Aluno\\AppData\\Local\\Temp\\ipykernel_7860\\4180103939.py:4: DtypeWarning: Columns (6) have mixed types. Specify dtype option on import or set low_memory=False.\n",
      "  jul_nov_df = pd.read_csv(\"../data/monitor_ar/Dados_monitorar_jul_nov.csv\", encoding=\"latin\", sep=\";\", usecols=cols)\n"
     ]
    }
   ],
   "source": [
    "def get_monitors(cols=None):\n",
    "    jan_mar_df = pd.read_csv(\"../data/monitor_ar/Dados_monitorar_jan_mar.csv\", encoding=\"latin\", sep=\";\", usecols=cols)\n",
    "    abr_jun_df = pd.read_csv(\"../data/monitor_ar/Dados_monitorar_abr_jun.csv\", encoding=\"latin\", sep=\";\", usecols=cols)\n",
    "    jul_nov_df = pd.read_csv(\"../data/monitor_ar/Dados_monitorar_jul_nov.csv\", encoding=\"latin\", sep=\";\", usecols=cols)\n",
    "\n",
    "    # Junta as três tabelas de monitores\n",
    "    monitors_df = pd.concat([jan_mar_df, abr_jun_df, jul_nov_df], axis=0)\n",
    "\n",
    "    return monitors_df\n",
    "\n",
    "monitors_cols=[\n",
    "    'Nome do Município', 'Estado', 'Nome da Estação', 'Sigla', 'Concentracao', 'iqar', 'Data'\n",
    "]\n",
    "monitors_df = get_monitors(monitors_cols)\n",
    "\n",
    "monitors_df.rename(columns = {\n",
    "    \"Nome do Município\": \"Nome_Municipio\",\n",
    "    \"Nome da Estação\": \"Nome_Estacao\"\n",
    "}, inplace=True)"
   ]
  },
  {
   "cell_type": "markdown",
   "metadata": {},
   "source": [
    "### Filtrar os monitores com ``iqar`` preenchido"
   ]
  },
  {
   "cell_type": "code",
   "execution_count": 51,
   "metadata": {},
   "outputs": [],
   "source": [
    "\n",
    "monitors_df['iqar'] = pd.to_numeric(monitors_df['iqar'], errors='coerce')\n",
    "monitors_df = monitors_df.dropna(subset=['iqar'])\n",
    "monitors_df = monitors_df[monitors_df['iqar'] >= 0]"
   ]
  },
  {
   "cell_type": "markdown",
   "metadata": {},
   "source": [
    "### Classificar o ``iqar``"
   ]
  },
  {
   "cell_type": "code",
   "execution_count": 60,
   "metadata": {},
   "outputs": [
    {
     "data": {
      "text/html": [
       "<div>\n",
       "<style scoped>\n",
       "    .dataframe tbody tr th:only-of-type {\n",
       "        vertical-align: middle;\n",
       "    }\n",
       "\n",
       "    .dataframe tbody tr th {\n",
       "        vertical-align: top;\n",
       "    }\n",
       "\n",
       "    .dataframe thead th {\n",
       "        text-align: right;\n",
       "    }\n",
       "</style>\n",
       "<table border=\"1\" class=\"dataframe\">\n",
       "  <thead>\n",
       "    <tr style=\"text-align: right;\">\n",
       "      <th></th>\n",
       "      <th>Nome_Municipio</th>\n",
       "      <th>Estado</th>\n",
       "      <th>Nome_Estacao</th>\n",
       "      <th>Sigla</th>\n",
       "      <th>Concentracao</th>\n",
       "      <th>iqar</th>\n",
       "      <th>Data</th>\n",
       "      <th>Qualidade_Ar</th>\n",
       "    </tr>\n",
       "  </thead>\n",
       "  <tbody>\n",
       "    <tr>\n",
       "      <th>0</th>\n",
       "      <td>Conceição do Mato Dentro</td>\n",
       "      <td>MG</td>\n",
       "      <td>Aeroporto CMD</td>\n",
       "      <td>MP10</td>\n",
       "      <td>42.000</td>\n",
       "      <td>26.4</td>\n",
       "      <td>31/03/2022</td>\n",
       "      <td>Boa</td>\n",
       "    </tr>\n",
       "    <tr>\n",
       "      <th>1</th>\n",
       "      <td>Conceição do Mato Dentro</td>\n",
       "      <td>MG</td>\n",
       "      <td>Aeroporto CMD</td>\n",
       "      <td>MP2,5</td>\n",
       "      <td>8.000</td>\n",
       "      <td>12.8</td>\n",
       "      <td>31/03/2022</td>\n",
       "      <td>Boa</td>\n",
       "    </tr>\n",
       "    <tr>\n",
       "      <th>3</th>\n",
       "      <td>Barra Longa</td>\n",
       "      <td>MG</td>\n",
       "      <td>Barra Longa Centro</td>\n",
       "      <td>MP10</td>\n",
       "      <td>28.000</td>\n",
       "      <td>38.4</td>\n",
       "      <td>31/03/2022</td>\n",
       "      <td>Boa</td>\n",
       "    </tr>\n",
       "    <tr>\n",
       "      <th>4</th>\n",
       "      <td>Barra Longa</td>\n",
       "      <td>MG</td>\n",
       "      <td>Barra Longa Centro</td>\n",
       "      <td>MP2,5</td>\n",
       "      <td>10.000</td>\n",
       "      <td>19.2</td>\n",
       "      <td>31/03/2022</td>\n",
       "      <td>Boa</td>\n",
       "    </tr>\n",
       "    <tr>\n",
       "      <th>6</th>\n",
       "      <td>Congonhas</td>\n",
       "      <td>MG</td>\n",
       "      <td>Basílica</td>\n",
       "      <td>SO2</td>\n",
       "      <td>4.380</td>\n",
       "      <td>8.0</td>\n",
       "      <td>31/03/2022</td>\n",
       "      <td>Boa</td>\n",
       "    </tr>\n",
       "    <tr>\n",
       "      <th>7</th>\n",
       "      <td>Congonhas</td>\n",
       "      <td>MG</td>\n",
       "      <td>Basílica</td>\n",
       "      <td>NO2</td>\n",
       "      <td>24.740</td>\n",
       "      <td>5.0</td>\n",
       "      <td>31/03/2022</td>\n",
       "      <td>Boa</td>\n",
       "    </tr>\n",
       "    <tr>\n",
       "      <th>8</th>\n",
       "      <td>Congonhas</td>\n",
       "      <td>MG</td>\n",
       "      <td>Basílica</td>\n",
       "      <td>MP10</td>\n",
       "      <td>26.000</td>\n",
       "      <td>24.0</td>\n",
       "      <td>31/03/2022</td>\n",
       "      <td>Boa</td>\n",
       "    </tr>\n",
       "    <tr>\n",
       "      <th>9</th>\n",
       "      <td>Congonhas</td>\n",
       "      <td>MG</td>\n",
       "      <td>Basílica</td>\n",
       "      <td>MP2,5</td>\n",
       "      <td>12.000</td>\n",
       "      <td>22.4</td>\n",
       "      <td>31/03/2022</td>\n",
       "      <td>Boa</td>\n",
       "    </tr>\n",
       "    <tr>\n",
       "      <th>12</th>\n",
       "      <td>Congonhas</td>\n",
       "      <td>MG</td>\n",
       "      <td>Basílica</td>\n",
       "      <td>O3</td>\n",
       "      <td>18.350</td>\n",
       "      <td>13.2</td>\n",
       "      <td>31/03/2022</td>\n",
       "      <td>Boa</td>\n",
       "    </tr>\n",
       "    <tr>\n",
       "      <th>14</th>\n",
       "      <td>Ipatinga</td>\n",
       "      <td>MG</td>\n",
       "      <td>Bom Retiro</td>\n",
       "      <td>MP10</td>\n",
       "      <td>27.000</td>\n",
       "      <td>21.6</td>\n",
       "      <td>31/03/2022</td>\n",
       "      <td>Boa</td>\n",
       "    </tr>\n",
       "  </tbody>\n",
       "</table>\n",
       "</div>"
      ],
      "text/plain": [
       "              Nome_Municipio Estado         Nome_Estacao  Sigla Concentracao  iqar        Data Qualidade_Ar\n",
       "0   Conceição do Mato Dentro     MG        Aeroporto CMD   MP10       42.000  26.4  31/03/2022          Boa\n",
       "1   Conceição do Mato Dentro     MG        Aeroporto CMD  MP2,5        8.000  12.8  31/03/2022          Boa\n",
       "3                Barra Longa     MG   Barra Longa Centro   MP10       28.000  38.4  31/03/2022          Boa\n",
       "4                Barra Longa     MG   Barra Longa Centro  MP2,5       10.000  19.2  31/03/2022          Boa\n",
       "6                  Congonhas     MG             Basílica    SO2        4.380   8.0  31/03/2022          Boa\n",
       "7                  Congonhas     MG             Basílica    NO2       24.740   5.0  31/03/2022          Boa\n",
       "8                  Congonhas     MG             Basílica   MP10       26.000  24.0  31/03/2022          Boa\n",
       "9                  Congonhas     MG             Basílica  MP2,5       12.000  22.4  31/03/2022          Boa\n",
       "12                 Congonhas     MG             Basílica     O3       18.350  13.2  31/03/2022          Boa\n",
       "14                  Ipatinga     MG           Bom Retiro   MP10       27.000  21.6  31/03/2022          Boa"
      ]
     },
     "execution_count": 60,
     "metadata": {},
     "output_type": "execute_result"
    }
   ],
   "source": [
    "def classify_iqar(iqar):\n",
    "    if (iqar >= 0 and iqar <= 40):\n",
    "        return \"Boa\"\n",
    "    elif (iqar > 40 and iqar <= 80):\n",
    "        return \"Moderada\"\n",
    "    elif (iqar > 80 and iqar <= 120):\n",
    "        return \"Ruim\"\n",
    "    elif (iqar > 120 and iqar <= 200):\n",
    "        return \"Muito Ruim\"\n",
    "    elif (iqar > 200):\n",
    "        return \"Péssima\"\n",
    "    else:\n",
    "        return np.nan\n",
    "    \n",
    "monitors_df['Qualidade_Ar'] = monitors_df['iqar'].apply(classify_iqar)\n",
    "monitors_df.head(10)"
   ]
  }
 ],
 "metadata": {
  "kernelspec": {
   "display_name": "air-quality",
   "language": "python",
   "name": "python3"
  },
  "language_info": {
   "codemirror_mode": {
    "name": "ipython",
    "version": 3
   },
   "file_extension": ".py",
   "mimetype": "text/x-python",
   "name": "python",
   "nbconvert_exporter": "python",
   "pygments_lexer": "ipython3",
   "version": "3.12.7"
  }
 },
 "nbformat": 4,
 "nbformat_minor": 2
}
