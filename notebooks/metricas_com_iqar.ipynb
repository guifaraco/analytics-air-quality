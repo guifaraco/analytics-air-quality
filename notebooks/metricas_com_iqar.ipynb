{
 "cells": [
  {
   "cell_type": "markdown",
   "metadata": {},
   "source": [
    "# Importações"
   ]
  },
  {
   "cell_type": "code",
   "execution_count": 2,
   "metadata": {},
   "outputs": [],
   "source": [
    "import pandas as pd"
   ]
  },
  {
   "cell_type": "markdown",
   "metadata": {},
   "source": [
    "# 1. Métricas Monitorar com ``iqar`` e presentes no DataSUS"
   ]
  },
  {
   "cell_type": "markdown",
   "metadata": {},
   "source": [
    "## 1. Tratamento de Dados"
   ]
  },
  {
   "cell_type": "markdown",
   "metadata": {},
   "source": [
    "### 1.1 MonitorAr"
   ]
  },
  {
   "cell_type": "markdown",
   "metadata": {},
   "source": [
    "#### Lê os ``.csv``s"
   ]
  },
  {
   "cell_type": "markdown",
   "metadata": {},
   "source": [
    "Estações"
   ]
  },
  {
   "cell_type": "code",
   "execution_count": 3,
   "metadata": {},
   "outputs": [],
   "source": [
    "stations_cols=[\n",
    "    'Código IBGE do Município', 'Nome do Município', 'Estado', 'Nome da Estação'\n",
    "]\n",
    "        \n",
    "stations_df = pd.read_csv(\"../data/monitor_ar/EstacoesMonitorAr-Nov-2022.csv\", sep=\";\", usecols=stations_cols)\n",
    "\n",
    "stations_df.rename(columns = {\n",
    "    \"Código IBGE do Município\": \"Codigo_IBGE\",\n",
    "    \"Nome do Município\": \"Nome_Municipio\",\n",
    "    \"Nome da Estação\": \"Nome_Estacao\"\n",
    "}, inplace=True)\n",
    "\n",
    "stations_df.rename(columns = {\n",
    "    \"Código IBGE do Município\": \"Codigo_IBGE\"\n",
    "}, inplace=True)\n",
    "\n",
    "stations_df['Codigo_IBGE'] = (stations_df['Codigo_IBGE'] / 10).astype(int)"
   ]
  },
  {
   "cell_type": "markdown",
   "metadata": {},
   "source": [
    "Monitores"
   ]
  },
  {
   "cell_type": "code",
   "execution_count": 4,
   "metadata": {},
   "outputs": [
    {
     "name": "stderr",
     "output_type": "stream",
     "text": [
      "C:\\Users\\Aluno\\AppData\\Local\\Temp\\ipykernel_13832\\4180103939.py:4: DtypeWarning: Columns (6) have mixed types. Specify dtype option on import or set low_memory=False.\n",
      "  jul_nov_df = pd.read_csv(\"../data/monitor_ar/Dados_monitorar_jul_nov.csv\", encoding=\"latin\", sep=\";\", usecols=cols)\n"
     ]
    }
   ],
   "source": [
    "def get_monitors(cols=None):\n",
    "    jan_mar_df = pd.read_csv(\"../data/monitor_ar/Dados_monitorar_jan_mar.csv\", encoding=\"latin\", sep=\";\", usecols=cols)\n",
    "    abr_jun_df = pd.read_csv(\"../data/monitor_ar/Dados_monitorar_abr_jun.csv\", encoding=\"latin\", sep=\";\", usecols=cols)\n",
    "    jul_nov_df = pd.read_csv(\"../data/monitor_ar/Dados_monitorar_jul_nov.csv\", encoding=\"latin\", sep=\";\", usecols=cols)\n",
    "\n",
    "    # Junta as três tabelas de monitores\n",
    "    monitors_df = pd.concat([jan_mar_df, abr_jun_df, jul_nov_df], axis=0)\n",
    "\n",
    "    return monitors_df\n",
    "\n",
    "monitors_cols=[\n",
    "    'Nome do Município', 'Estado', 'Nome da Estação', 'Sigla', 'Concentracao', 'iqar', 'Data'\n",
    "]\n",
    "monitors_df = get_monitors(monitors_cols)\n",
    "\n",
    "monitors_df.rename(columns = {\n",
    "    \"Nome do Município\": \"Nome_Municipio\",\n",
    "    \"Nome da Estação\": \"Nome_Estacao\"\n",
    "}, inplace=True)"
   ]
  },
  {
   "cell_type": "markdown",
   "metadata": {},
   "source": [
    "#### 2. Realizar o ``.merge`` (``JOIN``) entre os Dataframes"
   ]
  },
  {
   "cell_type": "code",
   "execution_count": 5,
   "metadata": {},
   "outputs": [
    {
     "name": "stdout",
     "output_type": "stream",
     "text": [
      "Todos os registros\n",
      "Estado\n",
      "PR     18627\n",
      "RS     66649\n",
      "MS     85804\n",
      "ES    115858\n",
      "SP    425815\n",
      "MG    454806\n",
      "RJ    520817\n",
      "BA    611857\n",
      "dtype: int64\n",
      "-=-=-=-=-=-=-=-=-=-=-=-=-=-=-=-=-=-=-=-=-=-=-=-=-=-=-=-=-=-=\n",
      "Filtrados\n",
      "Estado\n",
      "PR     15058\n",
      "MS     27719\n",
      "RS     60000\n",
      "ES    115858\n",
      "RJ    134483\n",
      "BA    187675\n",
      "MG    288378\n",
      "SP    425815\n",
      "dtype: int64\n"
     ]
    }
   ],
   "source": [
    "monitorar_df = pd.merge(\n",
    "    left=monitors_df,\n",
    "    right=stations_df,\n",
    "    on=['Nome_Municipio', 'Nome_Estacao', 'Estado'],\n",
    "    how='inner'\n",
    ")\n",
    "\n",
    "monitorar_df['iqar'] = pd.to_numeric(monitorar_df['iqar'], errors='coerce')\n",
    "\n",
    "all = monitorar_df.groupby('Estado').size()\n",
    "print(f\"Todos os registros\")\n",
    "print(all.sort_values())\n",
    "\n",
    "\n",
    "monitorar_df = monitorar_df.dropna(subset=['iqar'])\n",
    "monitorar_df = monitorar_df.sort_values(by='iqar')\n",
    "\n",
    "print(\"-=\"*30)\n",
    "\n",
    "filtered = monitorar_df.groupby('Estado').size()\n",
    "print(f\"Filtrados\")\n",
    "print(filtered.sort_values())"
   ]
  },
  {
   "cell_type": "markdown",
   "metadata": {},
   "source": [
    "### 1.2 DataSUS"
   ]
  },
  {
   "cell_type": "markdown",
   "metadata": {},
   "source": [
    "#### Lê o ``.csv``"
   ]
  },
  {
   "cell_type": "code",
   "execution_count": 6,
   "metadata": {},
   "outputs": [],
   "source": [
    "cols = [\n",
    "    'CO_MUN_RES'\n",
    "]\n",
    "    \n",
    "datasus_df = pd.read_csv(\"../data/data_sus/INFLUD22-26-06-2025.csv\", sep=\";\", usecols=cols)\n",
    "\n",
    "municipios_code = datasus_df.rename(columns={\n",
    "    \"CO_MUN_RES\": \"Codigo_IBGE\"\n",
    "})\n",
    "\n",
    "municipios_code.dropna(subset=['Codigo_IBGE'], inplace=True)\n",
    "municipios_code[\"Codigo_IBGE\"] = municipios_code[\"Codigo_IBGE\"].astype(int)\n",
    "municipios_code.drop_duplicates(subset=['Codigo_IBGE'])\n",
    "municipios_code = municipios_code['Codigo_IBGE']"
   ]
  },
  {
   "cell_type": "markdown",
   "metadata": {},
   "source": [
    "## 2. ``Filter`` entre Códigos IBGE no ``DataSUS`` e Métricas com ``iqar``"
   ]
  },
  {
   "cell_type": "code",
   "execution_count": 7,
   "metadata": {},
   "outputs": [
    {
     "name": "stdout",
     "output_type": "stream",
     "text": [
      "Filtrados e Presentes no DATASUS\n",
      "Estado\n",
      "PR     15058\n",
      "MS     27719\n",
      "RS     60000\n",
      "ES    115858\n",
      "RJ    134483\n",
      "BA    187675\n",
      "MG    288378\n",
      "SP    425815\n",
      "dtype: int64\n"
     ]
    }
   ],
   "source": [
    "final_df = monitorar_df[monitorar_df['Codigo_IBGE'].isin(list(municipios_code))]\n",
    "datasus_filtered = final_df.groupby('Estado').size()\n",
    "\n",
    "print(f\"Filtrados e Presentes no DATASUS\")\n",
    "print(datasus_filtered.sort_values())"
   ]
  },
  {
   "cell_type": "markdown",
   "metadata": {
    "vscode": {
     "languageId": "plaintext"
    }
   },
   "source": [
    "# 2. Casos presentes no DataSUS e com ``iqar`` presente no MonitorAr"
   ]
  },
  {
   "cell_type": "markdown",
   "metadata": {},
   "source": [
    "## 1. Tratamento de Dados"
   ]
  },
  {
   "cell_type": "markdown",
   "metadata": {},
   "source": [
    "### 1.1 MonitorAr"
   ]
  },
  {
   "cell_type": "markdown",
   "metadata": {},
   "source": [
    "##### Lê os ``.csv``s"
   ]
  },
  {
   "cell_type": "markdown",
   "metadata": {},
   "source": [
    "Estações"
   ]
  },
  {
   "cell_type": "code",
   "execution_count": 8,
   "metadata": {},
   "outputs": [],
   "source": [
    "stations_cols=[\n",
    "    'Código IBGE do Município', 'Nome do Município', 'Estado', 'Nome da Estação'\n",
    "]\n",
    "        \n",
    "stations_df = pd.read_csv(\"../data/monitor_ar/EstacoesMonitorAr-Nov-2022.csv\", sep=\";\", usecols=stations_cols)\n",
    "\n",
    "stations_df.rename(columns = {\n",
    "    \"Código IBGE do Município\": \"Codigo_IBGE\",\n",
    "    \"Nome do Município\": \"Nome_Municipio\",\n",
    "    \"Nome da Estação\": \"Nome_Estacao\"\n",
    "}, inplace=True)\n",
    "\n",
    "stations_df.rename(columns = {\n",
    "    \"Código IBGE do Município\": \"Codigo_IBGE\"\n",
    "}, inplace=True)\n",
    "\n",
    "stations_df['Codigo_IBGE'] = (stations_df['Codigo_IBGE'] / 10).astype(int)"
   ]
  },
  {
   "cell_type": "markdown",
   "metadata": {},
   "source": [
    "Monitores"
   ]
  },
  {
   "cell_type": "code",
   "execution_count": 9,
   "metadata": {},
   "outputs": [
    {
     "name": "stderr",
     "output_type": "stream",
     "text": [
      "C:\\Users\\Aluno\\AppData\\Local\\Temp\\ipykernel_13832\\4180103939.py:4: DtypeWarning: Columns (6) have mixed types. Specify dtype option on import or set low_memory=False.\n",
      "  jul_nov_df = pd.read_csv(\"../data/monitor_ar/Dados_monitorar_jul_nov.csv\", encoding=\"latin\", sep=\";\", usecols=cols)\n"
     ]
    }
   ],
   "source": [
    "def get_monitors(cols=None):\n",
    "    jan_mar_df = pd.read_csv(\"../data/monitor_ar/Dados_monitorar_jan_mar.csv\", encoding=\"latin\", sep=\";\", usecols=cols)\n",
    "    abr_jun_df = pd.read_csv(\"../data/monitor_ar/Dados_monitorar_abr_jun.csv\", encoding=\"latin\", sep=\";\", usecols=cols)\n",
    "    jul_nov_df = pd.read_csv(\"../data/monitor_ar/Dados_monitorar_jul_nov.csv\", encoding=\"latin\", sep=\";\", usecols=cols)\n",
    "\n",
    "    # Junta as três tabelas de monitores\n",
    "    monitors_df = pd.concat([jan_mar_df, abr_jun_df, jul_nov_df], axis=0)\n",
    "\n",
    "    return monitors_df\n",
    "\n",
    "monitors_cols=[\n",
    "    'Nome do Município', 'Estado', 'Nome da Estação', 'Sigla', 'Concentracao', 'iqar', 'Data'\n",
    "]\n",
    "monitors_df = get_monitors(monitors_cols)\n",
    "\n",
    "monitors_df.rename(columns = {\n",
    "    \"Nome do Município\": \"Nome_Municipio\",\n",
    "    \"Nome da Estação\": \"Nome_Estacao\"\n",
    "}, inplace=True)"
   ]
  },
  {
   "cell_type": "markdown",
   "metadata": {},
   "source": [
    "##### Realizar o ``.merge`` (``JOIN``) entre os Dataframes"
   ]
  },
  {
   "cell_type": "code",
   "execution_count": 10,
   "metadata": {},
   "outputs": [
    {
     "data": {
      "text/plain": [
       "1716312    330455\n",
       "1926218    500830\n",
       "1080868    310670\n",
       "1579766    410690\n",
       "1894742    432200\n",
       "            ...  \n",
       "660749     350320\n",
       "1801763    350160\n",
       "591160     315120\n",
       "442748     311940\n",
       "1914839    352940\n",
       "Name: Codigo_IBGE, Length: 72, dtype: int64"
      ]
     },
     "execution_count": 10,
     "metadata": {},
     "output_type": "execute_result"
    }
   ],
   "source": [
    "monitorar_df = pd.merge(\n",
    "    left=monitors_df,\n",
    "    right=stations_df,\n",
    "    on=['Nome_Municipio', 'Nome_Estacao', 'Estado'],\n",
    "    how='inner'\n",
    ")\n",
    "\n",
    "monitorar_df['iqar'] = pd.to_numeric(monitorar_df['iqar'], errors='coerce')\n",
    "monitorar_df = monitorar_df.dropna(subset=['iqar'])\n",
    "monitorar_df = monitorar_df.sort_values(by='iqar')\n",
    "ibge_codes = monitorar_df['Codigo_IBGE'].drop_duplicates()\n",
    "ibge_codes"
   ]
  },
  {
   "cell_type": "markdown",
   "metadata": {},
   "source": [
    "### 1.2 DataSUS"
   ]
  },
  {
   "cell_type": "markdown",
   "metadata": {},
   "source": [
    "##### Lê o ``.csv``"
   ]
  },
  {
   "cell_type": "code",
   "execution_count": 11,
   "metadata": {},
   "outputs": [
    {
     "data": {
      "text/html": [
       "<div>\n",
       "<style scoped>\n",
       "    .dataframe tbody tr th:only-of-type {\n",
       "        vertical-align: middle;\n",
       "    }\n",
       "\n",
       "    .dataframe tbody tr th {\n",
       "        vertical-align: top;\n",
       "    }\n",
       "\n",
       "    .dataframe thead th {\n",
       "        text-align: right;\n",
       "    }\n",
       "</style>\n",
       "<table border=\"1\" class=\"dataframe\">\n",
       "  <thead>\n",
       "    <tr style=\"text-align: right;\">\n",
       "      <th></th>\n",
       "      <th>Estado</th>\n",
       "      <th>Municipio</th>\n",
       "      <th>Codigo_IBGE</th>\n",
       "    </tr>\n",
       "  </thead>\n",
       "  <tbody>\n",
       "    <tr>\n",
       "      <th>0</th>\n",
       "      <td>RJ</td>\n",
       "      <td>SAO GONCALO</td>\n",
       "      <td>330490.0</td>\n",
       "    </tr>\n",
       "    <tr>\n",
       "      <th>1</th>\n",
       "      <td>SP</td>\n",
       "      <td>SAO CAETANO DO SUL</td>\n",
       "      <td>354880.0</td>\n",
       "    </tr>\n",
       "    <tr>\n",
       "      <th>2</th>\n",
       "      <td>SP</td>\n",
       "      <td>SAO CAETANO DO SUL</td>\n",
       "      <td>354880.0</td>\n",
       "    </tr>\n",
       "    <tr>\n",
       "      <th>3</th>\n",
       "      <td>CE</td>\n",
       "      <td>JUAZEIRO DO NORTE</td>\n",
       "      <td>230730.0</td>\n",
       "    </tr>\n",
       "    <tr>\n",
       "      <th>4</th>\n",
       "      <td>CE</td>\n",
       "      <td>JUAZEIRO DO NORTE</td>\n",
       "      <td>230730.0</td>\n",
       "    </tr>\n",
       "    <tr>\n",
       "      <th>...</th>\n",
       "      <td>...</td>\n",
       "      <td>...</td>\n",
       "      <td>...</td>\n",
       "    </tr>\n",
       "    <tr>\n",
       "      <th>560572</th>\n",
       "      <td>MG</td>\n",
       "      <td>CAMPO BELO</td>\n",
       "      <td>311120.0</td>\n",
       "    </tr>\n",
       "    <tr>\n",
       "      <th>560573</th>\n",
       "      <td>MG</td>\n",
       "      <td>CONTAGEM</td>\n",
       "      <td>311860.0</td>\n",
       "    </tr>\n",
       "    <tr>\n",
       "      <th>560574</th>\n",
       "      <td>MG</td>\n",
       "      <td>BELO HORIZONTE</td>\n",
       "      <td>310620.0</td>\n",
       "    </tr>\n",
       "    <tr>\n",
       "      <th>560575</th>\n",
       "      <td>SE</td>\n",
       "      <td>LAGARTO</td>\n",
       "      <td>280350.0</td>\n",
       "    </tr>\n",
       "    <tr>\n",
       "      <th>560576</th>\n",
       "      <td>PA</td>\n",
       "      <td>BELEM</td>\n",
       "      <td>150140.0</td>\n",
       "    </tr>\n",
       "  </tbody>\n",
       "</table>\n",
       "<p>560577 rows × 3 columns</p>\n",
       "</div>"
      ],
      "text/plain": [
       "       Estado           Municipio  Codigo_IBGE\n",
       "0          RJ         SAO GONCALO     330490.0\n",
       "1          SP  SAO CAETANO DO SUL     354880.0\n",
       "2          SP  SAO CAETANO DO SUL     354880.0\n",
       "3          CE   JUAZEIRO DO NORTE     230730.0\n",
       "4          CE   JUAZEIRO DO NORTE     230730.0\n",
       "...       ...                 ...          ...\n",
       "560572     MG          CAMPO BELO     311120.0\n",
       "560573     MG            CONTAGEM     311860.0\n",
       "560574     MG      BELO HORIZONTE     310620.0\n",
       "560575     SE             LAGARTO     280350.0\n",
       "560576     PA               BELEM     150140.0\n",
       "\n",
       "[560577 rows x 3 columns]"
      ]
     },
     "execution_count": 11,
     "metadata": {},
     "output_type": "execute_result"
    }
   ],
   "source": [
    "cols = [\n",
    "    'CO_MUN_RES', 'SG_UF', 'ID_MN_RESI'\n",
    "]\n",
    "    \n",
    "datasus_df = pd.read_csv(\"../data/data_sus/INFLUD22-26-06-2025.csv\", sep=\";\", usecols=cols)\n",
    "\n",
    "datasus_df = datasus_df.rename(columns={\n",
    "    \"CO_MUN_RES\": \"Codigo_IBGE\",\n",
    "    \"SG_UF\": \"Estado\",\n",
    "    \"ID_MN_RESI\": \"Municipio\"\n",
    "})\n",
    "\n",
    "datasus_df"
   ]
  },
  {
   "cell_type": "markdown",
   "metadata": {},
   "source": [
    "## 2. ``Filter`` entre Códigos IBGE no ``Monitorar`` (com ``iqar``) e casos no ``DataSUS``"
   ]
  },
  {
   "cell_type": "code",
   "execution_count": null,
   "metadata": {},
   "outputs": [
    {
     "name": "stdout",
     "output_type": "stream",
     "text": [
      "560577\n",
      "158989\n",
      "Filtrados e Presentes no MonitorAr\n",
      "Estado\n",
      "MS       407\n",
      "BA       636\n",
      "ES      2786\n",
      "RS      2834\n",
      "PR     12912\n",
      "RJ     14914\n",
      "MG     21603\n",
      "SP    102897\n",
      "dtype: int64\n"
     ]
    }
   ],
   "source": [
    "final_df = datasus_df[datasus_df['Codigo_IBGE'].isin(list(ibge_codes))]\n",
    "datasus_filtered = final_df.groupby('Estado').size()\n",
    "\n",
    "print(f\"Filtrados e Presentes no MonitorAr\")\n",
    "print(datasus_filtered.sort_values())"
   ]
  }
 ],
 "metadata": {
  "kernelspec": {
   "display_name": "air-quality",
   "language": "python",
   "name": "python3"
  },
  "language_info": {
   "codemirror_mode": {
    "name": "ipython",
    "version": 3
   },
   "file_extension": ".py",
   "mimetype": "text/x-python",
   "name": "python",
   "nbconvert_exporter": "python",
   "pygments_lexer": "ipython3",
   "version": "3.12.7"
  }
 },
 "nbformat": 4,
 "nbformat_minor": 2
}
