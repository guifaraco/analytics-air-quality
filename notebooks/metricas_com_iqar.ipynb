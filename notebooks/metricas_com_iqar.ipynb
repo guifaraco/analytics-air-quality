{
 "cells": [
  {
   "cell_type": "markdown",
   "metadata": {},
   "source": [
    "# Importações"
   ]
  },
  {
   "cell_type": "code",
   "execution_count": 2,
   "metadata": {},
   "outputs": [],
   "source": [
    "import pandas as pd"
   ]
  },
  {
   "cell_type": "markdown",
   "metadata": {},
   "source": [
    "# 1. Métricas Monitorar com ``iqar`` e presentes no DataSUS"
   ]
  },
  {
   "cell_type": "markdown",
   "metadata": {},
   "source": [
    "## 1. Tratamento de Dados"
   ]
  },
  {
   "cell_type": "markdown",
   "metadata": {},
   "source": [
    "### 1.1 MonitorAr"
   ]
  },
  {
   "cell_type": "markdown",
   "metadata": {},
   "source": [
    "#### Lê os ``.csv``s"
   ]
  },
  {
   "cell_type": "markdown",
   "metadata": {},
   "source": [
    "Estações"
   ]
  },
  {
   "cell_type": "code",
   "execution_count": 3,
   "metadata": {},
   "outputs": [],
   "source": [
    "stations_cols=[\n",
    "    'Código IBGE do Município', 'Nome do Município', 'Estado', 'Nome da Estação'\n",
    "]\n",
    "        \n",
    "stations_df = pd.read_csv(\"../data/monitor_ar/EstacoesMonitorAr-Nov-2022.csv\", sep=\";\", usecols=stations_cols)\n",
    "\n",
    "stations_df.rename(columns = {\n",
    "    \"Código IBGE do Município\": \"Codigo_IBGE\",\n",
    "    \"Nome do Município\": \"Nome_Municipio\",\n",
    "    \"Nome da Estação\": \"Nome_Estacao\"\n",
    "}, inplace=True)\n",
    "\n",
    "stations_df.rename(columns = {\n",
    "    \"Código IBGE do Município\": \"Codigo_IBGE\"\n",
    "}, inplace=True)\n",
    "\n",
    "stations_df['Codigo_IBGE'] = (stations_df['Codigo_IBGE'] / 10).astype(int)"
   ]
  },
  {
   "cell_type": "markdown",
   "metadata": {},
   "source": [
    "Monitores"
   ]
  },
  {
   "cell_type": "code",
   "execution_count": null,
   "metadata": {},
   "outputs": [],
   "source": [
    "def get_monitors(cols=None):\n",
    "    jan_mar_df = pd.read_csv(\"../data/monitor_ar/Dados_monitorar_jan_mar.csv\", encoding=\"latin\", sep=\";\", usecols=cols)\n",
    "    abr_jun_df = pd.read_csv(\"../data/monitor_ar/Dados_monitorar_abr_jun.csv\", encoding=\"latin\", sep=\";\", usecols=cols)\n",
    "    jul_nov_df = pd.read_csv(\"../data/monitor_ar/Dados_monitorar_jul_nov.csv\", encoding=\"latin\", sep=\";\", usecols=cols)\n",
    "\n",
    "    # Junta as três tabelas de monitores\n",
    "    monitors_df = pd.concat([jan_mar_df, abr_jun_df, jul_nov_df], axis=0)\n",
    "\n",
    "    return monitors_df\n",
    "\n",
    "monitors_cols=[\n",
    "    'Nome do Município', 'Estado', 'Nome da Estação', 'Sigla', 'Concentracao', 'iqar', 'Data'\n",
    "]\n",
    "monitors_df = get_monitors(monitors_cols)\n",
    "\n",
    "monitors_df.rename(columns = {\n",
    "    \"Nome do Município\": \"Nome_Municipio\",\n",
    "    \"Nome da Estação\": \"Nome_Estacao\"\n",
    "}, inplace=True)"
   ]
  },
  {
   "cell_type": "markdown",
   "metadata": {},
   "source": [
    "#### 2. Realizar o ``.merge`` (``JOIN``) entre os Dataframes"
   ]
  },
  {
   "cell_type": "code",
   "execution_count": null,
   "metadata": {},
   "outputs": [],
   "source": [
    "monitorar_df = pd.merge(\n",
    "    left=monitors_df,\n",
    "    right=stations_df,\n",
    "    on=['Nome_Municipio', 'Nome_Estacao', 'Estado'],\n",
    "    how='inner'\n",
    ")\n",
    "\n",
    "monitorar_df['iqar'] = pd.to_numeric(monitorar_df['iqar'], errors='coerce')\n",
    "\n",
    "all = monitorar_df.groupby('Estado').size()\n",
    "print(f\"Todos os registros\")\n",
    "print(all.sort_values())\n",
    "\n",
    "\n",
    "monitorar_df = monitorar_df.dropna(subset=['iqar'])\n",
    "monitorar_df = monitorar_df.sort_values(by='iqar')\n",
    "\n",
    "print(\"-=\"*30)\n",
    "\n",
    "filtered = monitorar_df.groupby('Estado').size()\n",
    "print(f\"Filtrados\")\n",
    "print(filtered.sort_values())"
   ]
  },
  {
   "cell_type": "markdown",
   "metadata": {},
   "source": [
    "### 1.2 DataSUS"
   ]
  },
  {
   "cell_type": "markdown",
   "metadata": {},
   "source": [
    "#### Lê o ``.csv``"
   ]
  },
  {
   "cell_type": "code",
   "execution_count": 6,
   "metadata": {},
   "outputs": [],
   "source": [
    "cols = [\n",
    "    'CO_MUN_RES'\n",
    "]\n",
    "    \n",
    "datasus_df = pd.read_csv(\"../data/data_sus/INFLUD22-26-06-2025.csv\", sep=\";\", usecols=cols)\n",
    "\n",
    "municipios_code = datasus_df.rename(columns={\n",
    "    \"CO_MUN_RES\": \"Codigo_IBGE\"\n",
    "})\n",
    "\n",
    "municipios_code.dropna(subset=['Codigo_IBGE'], inplace=True)\n",
    "municipios_code[\"Codigo_IBGE\"] = municipios_code[\"Codigo_IBGE\"].astype(int)\n",
    "municipios_code.drop_duplicates(subset=['Codigo_IBGE'])\n",
    "municipios_code = municipios_code['Codigo_IBGE']"
   ]
  },
  {
   "cell_type": "markdown",
   "metadata": {},
   "source": [
    "## 2. ``Filter`` entre Códigos IBGE no ``DataSUS`` e Métricas com ``iqar``"
   ]
  },
  {
   "cell_type": "code",
   "execution_count": null,
   "metadata": {},
   "outputs": [],
   "source": [
    "final_df = monitorar_df[monitorar_df['Codigo_IBGE'].isin(list(municipios_code))]\n",
    "datasus_filtered = final_df.groupby('Estado').size()\n",
    "\n",
    "print(f\"Filtrados e Presentes no DATASUS\")\n",
    "print(datasus_filtered.sort_values())"
   ]
  },
  {
   "cell_type": "markdown",
   "metadata": {
    "vscode": {
     "languageId": "plaintext"
    }
   },
   "source": [
    "# 2. Casos presentes no DataSUS e com ``iqar`` presente no MonitorAr"
   ]
  },
  {
   "cell_type": "markdown",
   "metadata": {},
   "source": [
    "## 1. Tratamento de Dados"
   ]
  },
  {
   "cell_type": "markdown",
   "metadata": {},
   "source": [
    "### 1.1 MonitorAr"
   ]
  },
  {
   "cell_type": "markdown",
   "metadata": {},
   "source": [
    "##### Lê os ``.csv``s"
   ]
  },
  {
   "cell_type": "markdown",
   "metadata": {},
   "source": [
    "Estações"
   ]
  },
  {
   "cell_type": "code",
   "execution_count": 8,
   "metadata": {},
   "outputs": [],
   "source": [
    "stations_cols=[\n",
    "    'Código IBGE do Município', 'Nome do Município', 'Estado', 'Nome da Estação'\n",
    "]\n",
    "        \n",
    "stations_df = pd.read_csv(\"../data/monitor_ar/EstacoesMonitorAr-Nov-2022.csv\", sep=\";\", usecols=stations_cols)\n",
    "\n",
    "stations_df.rename(columns = {\n",
    "    \"Código IBGE do Município\": \"Codigo_IBGE\",\n",
    "    \"Nome do Município\": \"Nome_Municipio\",\n",
    "    \"Nome da Estação\": \"Nome_Estacao\"\n",
    "}, inplace=True)\n",
    "\n",
    "stations_df.rename(columns = {\n",
    "    \"Código IBGE do Município\": \"Codigo_IBGE\"\n",
    "}, inplace=True)\n",
    "\n",
    "stations_df['Codigo_IBGE'] = (stations_df['Codigo_IBGE'] / 10).astype(int)"
   ]
  },
  {
   "cell_type": "markdown",
   "metadata": {},
   "source": [
    "Monitores"
   ]
  },
  {
   "cell_type": "code",
   "execution_count": null,
   "metadata": {},
   "outputs": [],
   "source": [
    "def get_monitors(cols=None):\n",
    "    jan_mar_df = pd.read_csv(\"../data/monitor_ar/Dados_monitorar_jan_mar.csv\", encoding=\"latin\", sep=\";\", usecols=cols)\n",
    "    abr_jun_df = pd.read_csv(\"../data/monitor_ar/Dados_monitorar_abr_jun.csv\", encoding=\"latin\", sep=\";\", usecols=cols)\n",
    "    jul_nov_df = pd.read_csv(\"../data/monitor_ar/Dados_monitorar_jul_nov.csv\", encoding=\"latin\", sep=\";\", usecols=cols)\n",
    "\n",
    "    # Junta as três tabelas de monitores\n",
    "    monitors_df = pd.concat([jan_mar_df, abr_jun_df, jul_nov_df], axis=0)\n",
    "\n",
    "    return monitors_df\n",
    "\n",
    "monitors_cols=[\n",
    "    'Nome do Município', 'Estado', 'Nome da Estação', 'Sigla', 'Concentracao', 'iqar', 'Data'\n",
    "]\n",
    "monitors_df = get_monitors(monitors_cols)\n",
    "\n",
    "monitors_df.rename(columns = {\n",
    "    \"Nome do Município\": \"Nome_Municipio\",\n",
    "    \"Nome da Estação\": \"Nome_Estacao\"\n",
    "}, inplace=True)"
   ]
  },
  {
   "cell_type": "markdown",
   "metadata": {},
   "source": [
    "##### Realizar o ``.merge`` (``JOIN``) entre os Dataframes"
   ]
  },
  {
   "cell_type": "code",
   "execution_count": null,
   "metadata": {},
   "outputs": [],
   "source": [
    "monitorar_df = pd.merge(\n",
    "    left=monitors_df,\n",
    "    right=stations_df,\n",
    "    on=['Nome_Municipio', 'Nome_Estacao', 'Estado'],\n",
    "    how='inner'\n",
    ")\n",
    "\n",
    "monitorar_df['iqar'] = pd.to_numeric(monitorar_df['iqar'], errors='coerce')\n",
    "monitorar_df = monitorar_df.dropna(subset=['iqar'])\n",
    "monitorar_df = monitorar_df.sort_values(by='iqar')\n",
    "ibge_codes = monitorar_df['Codigo_IBGE'].drop_duplicates()\n",
    "ibge_codes"
   ]
  },
  {
   "cell_type": "markdown",
   "metadata": {},
   "source": [
    "### 1.2 DataSUS"
   ]
  },
  {
   "cell_type": "markdown",
   "metadata": {},
   "source": [
    "##### Lê o ``.csv``"
   ]
  },
  {
   "cell_type": "code",
   "execution_count": null,
   "metadata": {},
   "outputs": [],
   "source": [
    "cols = [\n",
    "    'CO_MUN_RES', 'SG_UF', 'ID_MN_RESI'\n",
    "]\n",
    "    \n",
    "datasus_df = pd.read_csv(\"../data/data_sus/INFLUD22-26-06-2025.csv\", sep=\";\", usecols=cols)\n",
    "\n",
    "datasus_df = datasus_df.rename(columns={\n",
    "    \"CO_MUN_RES\": \"Codigo_IBGE\",\n",
    "    \"SG_UF\": \"Estado\",\n",
    "    \"ID_MN_RESI\": \"Municipio\"\n",
    "})\n",
    "\n",
    "datasus_df"
   ]
  },
  {
   "cell_type": "markdown",
   "metadata": {},
   "source": [
    "## 2. ``Filter`` entre Códigos IBGE no ``Monitorar`` (com ``iqar``) e casos no ``DataSUS``"
   ]
  },
  {
   "cell_type": "code",
   "execution_count": null,
   "metadata": {},
   "outputs": [],
   "source": [
    "final_df = datasus_df[datasus_df['Codigo_IBGE'].isin(list(ibge_codes))]\n",
    "datasus_filtered = final_df.groupby('Estado').size()\n",
    "\n",
    "print(f\"Filtrados e Presentes no MonitorAr\")\n",
    "print(datasus_filtered.sort_values())"
   ]
  }
 ],
 "metadata": {
  "kernelspec": {
   "display_name": "air-quality",
   "language": "python",
   "name": "python3"
  },
  "language_info": {
   "codemirror_mode": {
    "name": "ipython",
    "version": 3
   },
   "file_extension": ".py",
   "mimetype": "text/x-python",
   "name": "python",
   "nbconvert_exporter": "python",
   "pygments_lexer": "ipython3",
   "version": "3.12.7"
  }
 },
 "nbformat": 4,
 "nbformat_minor": 2
}
