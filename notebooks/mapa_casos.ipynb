{
 "cells": [
  {
   "cell_type": "markdown",
   "metadata": {
    "vscode": {
     "languageId": "plaintext"
    }
   },
   "source": [
    "# 1. Mapa de Casos Encontrados"
   ]
  },
  {
   "cell_type": "markdown",
   "metadata": {},
   "source": [
    "## Importações"
   ]
  },
  {
   "cell_type": "code",
   "execution_count": 1,
   "metadata": {},
   "outputs": [],
   "source": [
    "import pandas as pd\n",
    "import pydeck as pdk"
   ]
  },
  {
   "cell_type": "markdown",
   "metadata": {},
   "source": [
    "### Lê os ``.csv``"
   ]
  },
  {
   "cell_type": "markdown",
   "metadata": {},
   "source": [
    "DataSUS"
   ]
  },
  {
   "cell_type": "code",
   "execution_count": null,
   "metadata": {},
   "outputs": [],
   "source": [
    "cols = [\n",
    "    'CO_MUN_RES','SG_UF', 'ID_MN_RESI'\n",
    "]\n",
    "    \n",
    "datasus_df = pd.read_csv(\"../data/data_sus/INFLUD22-26-06-2025.csv\", sep=\";\", usecols=cols)\n",
    "\n",
    "len(datasus_df)"
   ]
  },
  {
   "cell_type": "code",
   "execution_count": 3,
   "metadata": {},
   "outputs": [],
   "source": [
    "data = datasus_df.rename(columns={\n",
    "    \"CO_MUN_RES\": \"Codigo_IBGE\",\n",
    "    \"SG_UF\": \"Estado\",\n",
    "    \"ID_MN_RESI\": \"Municipio\"\n",
    "})\n",
    "\n",
    "data.dropna(subset=['Codigo_IBGE'], inplace=True)\n",
    "data[\"Codigo_IBGE\"] = data[\"Codigo_IBGE\"].astype(int)"
   ]
  },
  {
   "cell_type": "markdown",
   "metadata": {},
   "source": [
    "Estações"
   ]
  },
  {
   "cell_type": "code",
   "execution_count": 4,
   "metadata": {},
   "outputs": [],
   "source": [
    "cols=[\n",
    "    'Código IBGE do Município', 'Latitude', 'Longitude'\n",
    "]\n",
    "\n",
    "stations_df = pd.read_csv(\"../data/monitor_ar/EstacoesMonitorAr-Nov-2022.csv\", sep=\";\", usecols=cols)\n"
   ]
  },
  {
   "cell_type": "markdown",
   "metadata": {},
   "source": [
    "### Ajusta a variável ``coords``"
   ]
  },
  {
   "cell_type": "code",
   "execution_count": null,
   "metadata": {},
   "outputs": [],
   "source": [
    "coords = stations_df.rename(columns = {\n",
    "    \"Código IBGE do Município\": \"Codigo_IBGE\"\n",
    "})\n",
    "coords['Codigo_IBGE'] = (coords['Codigo_IBGE'] / 10).astype(int)\n",
    "\n",
    "coords['Latitude'] = coords['Latitude'].str.replace(',','.')\n",
    "coords['Longitude'] = coords['Longitude'].str.replace(',','.')\n",
    "\n",
    "# Converte lat/lon para numérico, tratando erros\n",
    "coords['Latitude'] = pd.to_numeric(coords['Latitude'], errors='coerce')\n",
    "coords['Longitude'] = pd.to_numeric(coords['Longitude'], errors='coerce')\n",
    "coords.dropna(subset=['Latitude', 'Longitude', 'Codigo_IBGE'], inplace=True)\n",
    "\n",
    "# Cria um DataFrame com UMA coordenada média por IBGE\n",
    "coords = coords.groupby('Codigo_IBGE', as_index=False).agg(\n",
    "    Latitude=('Latitude', 'mean'),\n",
    "    Longitude=('Longitude', 'mean')\n",
    ")\n",
    "coords"
   ]
  },
  {
   "cell_type": "markdown",
   "metadata": {},
   "source": [
    "## 2. Realizar o ``.merge`` (``JOIN``) entre os Dataframes"
   ]
  },
  {
   "cell_type": "code",
   "execution_count": null,
   "metadata": {},
   "outputs": [],
   "source": [
    "df = pd.merge(\n",
    "    left=data,\n",
    "    right=coords,\n",
    "    on='Codigo_IBGE',\n",
    "    how='inner'\n",
    ")\n",
    "\n",
    "df"
   ]
  },
  {
   "cell_type": "markdown",
   "metadata": {},
   "source": [
    "## 3. Exibir o Mapa de Colunas"
   ]
  },
  {
   "cell_type": "code",
   "execution_count": null,
   "metadata": {},
   "outputs": [],
   "source": [
    "def render_map(df):\n",
    "    df['coordinates'] = df[['Longitude', 'Latitude']].values.tolist()\n",
    "    df = df[['Municipio', 'coordinates']]\n",
    "    df = df.groupby('Municipio').agg(\n",
    "        coordinates=('coordinates', 'first'),\n",
    "        count=('Municipio', 'count')\n",
    "    ).reset_index()\n",
    "\n",
    "    layer = pdk.Layer(\n",
    "        'ColumnLayer',\n",
    "        data=df,\n",
    "        get_position='coordinates',\n",
    "        get_elevation='count',\n",
    "        elevation_scale=10,\n",
    "        radius=5000,\n",
    "        get_fill_color=[255, 140, 0, 150],\n",
    "        pickable=True,\n",
    "        extruded=True,\n",
    "    )\n",
    "\n",
    "    view_state = pdk.ViewState(latitude=-23, longitude=-50, zoom=4, bearing=-45, pitch=45)\n",
    "\n",
    "    r = pdk.Deck(\n",
    "        layers=[layer],\n",
    "        initial_view_state=view_state,\n",
    "        tooltip={\"text\": \"{Municipio} \\nCount: {count}\"},\n",
    "    )\n",
    "    display(r)\n",
    "\n",
    "render_map(df)\n",
    "    "
   ]
  },
  {
   "cell_type": "code",
   "execution_count": null,
   "metadata": {},
   "outputs": [],
   "source": []
  }
 ],
 "metadata": {
  "kernelspec": {
   "display_name": "air-quality",
   "language": "python",
   "name": "python3"
  },
  "language_info": {
   "codemirror_mode": {
    "name": "ipython",
    "version": 3
   },
   "file_extension": ".py",
   "mimetype": "text/x-python",
   "name": "python",
   "nbconvert_exporter": "python",
   "pygments_lexer": "ipython3",
   "version": "3.12.7"
  }
 },
 "nbformat": 4,
 "nbformat_minor": 2
}
